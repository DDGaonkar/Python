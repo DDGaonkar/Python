{
 "cells": [
  {
   "cell_type": "code",
   "execution_count": null,
   "id": "279172da",
   "metadata": {},
   "outputs": [],
   "source": [
    "# pip install mysql-connector-python\n",
    "# to install mysql connector "
   ]
  },
  {
   "cell_type": "code",
   "execution_count": null,
   "id": "a0c01515",
   "metadata": {},
   "outputs": [],
   "source": [
    "import pandas as pd\n",
    "from tabulate import tabulate"
   ]
  },
  {
   "cell_type": "code",
   "execution_count": null,
   "id": "70757ac9",
   "metadata": {},
   "outputs": [],
   "source": [
    "data = pd.read_excel(\"C:/Users/Deepanshu/DA/Datasets/ESD.xlsx\")"
   ]
  },
  {
   "cell_type": "code",
   "execution_count": null,
   "id": "0cec326a",
   "metadata": {},
   "outputs": [],
   "source": [
    "data.info()"
   ]
  },
  {
   "cell_type": "code",
   "execution_count": null,
   "id": "a45475fd",
   "metadata": {},
   "outputs": [],
   "source": [
    "data.duplicated('EEID').sum()"
   ]
  },
  {
   "cell_type": "code",
   "execution_count": null,
   "id": "b7562cea",
   "metadata": {},
   "outputs": [],
   "source": [
    "# to find if there are any duplicate record for the same employee. \n",
    "# Since there can be multiple employees with same name or age or country or ethnicity, \n",
    "# I have considered multiple parameters to check there are duplicate records for the same employees\n",
    "data[data.duplicated(['Full Name', 'Age', 'Ethnicity', 'Country'])]"
   ]
  },
  {
   "cell_type": "code",
   "execution_count": null,
   "id": "682050e5",
   "metadata": {},
   "outputs": [],
   "source": [
    "# There are no duplicate records for the same employee, however there are duplicate EEID numbers. \n",
    "# Hence We have to drop the 'EEID' and add a new column as the EEID with unique values. \n",
    "data.drop(['EEID'], axis=1, inplace=True)\n",
    "# Generate Unique employee ids\n",
    "unique_eeids = range(1, len(data)+1)\n",
    "data['EEID'] = unique_eeids"
   ]
  },
  {
   "cell_type": "code",
   "execution_count": null,
   "id": "2fbe5c94",
   "metadata": {},
   "outputs": [],
   "source": [
    "# rearranging the columns in the dataframe\n",
    "data = data[['EEID', 'Full Name', 'Job Title', 'Department', 'Business Unit', 'Gender',\n",
    "       'Ethnicity', 'Age', 'Hire Date', 'Annual Salary', 'Bonus %', 'Country',\n",
    "       'City', 'Exit Date']]"
   ]
  },
  {
   "cell_type": "code",
   "execution_count": null,
   "id": "14503577",
   "metadata": {},
   "outputs": [],
   "source": []
  },
  {
   "cell_type": "markdown",
   "id": "e661b21d",
   "metadata": {},
   "source": [
    "### Connecting to a database."
   ]
  },
  {
   "cell_type": "code",
   "execution_count": null,
   "id": "7c12b16d",
   "metadata": {},
   "outputs": [],
   "source": [
    "import mysql.connector"
   ]
  },
  {
   "cell_type": "code",
   "execution_count": null,
   "id": "3ce64b08",
   "metadata": {},
   "outputs": [],
   "source": [
    "conn = mysql.connector.connect(\n",
    "    host = 'localhost', \n",
    "    user = 'root', \n",
    "    password = 'root123', \n",
    "    database = 'db1'\n",
    ")\n",
    "\n",
    "if conn.is_connected():\n",
    "    print(\"Connection established !\")"
   ]
  },
  {
   "cell_type": "markdown",
   "id": "c376c69e",
   "metadata": {},
   "source": [
    "### Creating a table"
   ]
  },
  {
   "cell_type": "code",
   "execution_count": null,
   "id": "4da070e7",
   "metadata": {},
   "outputs": [],
   "source": [
    "cur = conn.cursor()"
   ]
  },
  {
   "cell_type": "code",
   "execution_count": null,
   "id": "bc60c40d",
   "metadata": {},
   "outputs": [],
   "source": [
    "query = '''\n",
    "create table employees (\n",
    "    EEID varchar(5) not null primary key,\n",
    "    `Full Name` varchar(255) not null,\n",
    "    `Job Title` varchar(255) not null,\n",
    "    Department varchar(255) not null, \n",
    "    `Business Unit` VARCHAR(255) NOT NULL,\n",
    "    Gender VARCHAR(10) NOT NULL,\n",
    "    Ethnicity VARCHAR(50) NOT NULL,\n",
    "    Age INT NOT NULL,\n",
    "    `Hire Date` DATE NOT NULL,\n",
    "    `Annual Salary` DECIMAL(10, 2) NOT NULL,\n",
    "    `Bonus %` DECIMAL(5, 2) NOT NULL,\n",
    "    Country VARCHAR(50) NOT NULL,\n",
    "    City VARCHAR(50) NOT NULL,\n",
    "    `Exit Date` DATE\n",
    ");\n",
    "'''"
   ]
  },
  {
   "cell_type": "code",
   "execution_count": null,
   "id": "a98f3142",
   "metadata": {},
   "outputs": [],
   "source": [
    "cur.execute(query)"
   ]
  },
  {
   "cell_type": "code",
   "execution_count": null,
   "id": "d9542b57",
   "metadata": {},
   "outputs": [],
   "source": []
  },
  {
   "cell_type": "markdown",
   "id": "946d716c",
   "metadata": {},
   "source": [
    "### Inserting records into table"
   ]
  },
  {
   "cell_type": "code",
   "execution_count": null,
   "id": "721a09c9",
   "metadata": {},
   "outputs": [],
   "source": [
    "query = '''\n",
    "insert into employees (EEID, `Full Name`, `Job Title`, Department, `Business Unit`, Gender, Ethnicity, Age, `Hire Date`, `Annual Salary`, `Bonus %`, Country, City, `Exit Date`) \n",
    "values (%s, %s, %s, %s, %s, %s, %s, %s, %s, %s, %s, %s, %s, %s)\n",
    "'''"
   ]
  },
  {
   "cell_type": "code",
   "execution_count": null,
   "id": "cba63bbc",
   "metadata": {},
   "outputs": [],
   "source": [
    "for index, row in data.iterrows(): \n",
    "    cur.execute(query, (row['EEID'], row['Full Name'], row['Job Title'], row['Department'], row['Business Unit'], row['Gender'], row['Ethnicity'], row['Age'], row['Hire Date'], row['Annual Salary'], row['Bonus %'], row['Country'], row['City'], row['Exit Date']))"
   ]
  },
  {
   "cell_type": "code",
   "execution_count": null,
   "id": "3199afa3",
   "metadata": {},
   "outputs": [],
   "source": [
    "conn.commit()"
   ]
  },
  {
   "cell_type": "code",
   "execution_count": null,
   "id": "e60e0cd1",
   "metadata": {},
   "outputs": [],
   "source": [
    "for index, row in data.iterrows(): \n",
    "    print((row['EEID'], row['Full Name'], row['Job Title'], row['Department'], row['Business Unit'], row['Gender'], row['Ethnicity'], row['Age'], row['Hire Date'], row['Annual Salary'], row['Bonus %'], row['Country'], row['City'], row['Exit Date']))"
   ]
  },
  {
   "cell_type": "markdown",
   "id": "0d7950f0",
   "metadata": {},
   "source": [
    "### Fetching data"
   ]
  },
  {
   "cell_type": "code",
   "execution_count": null,
   "id": "e2df7e6c",
   "metadata": {},
   "outputs": [],
   "source": [
    "query = '''\n",
    "select * from employees\n",
    "'''"
   ]
  },
  {
   "cell_type": "code",
   "execution_count": null,
   "id": "919367ba",
   "metadata": {},
   "outputs": [],
   "source": [
    "cur.execute(query)"
   ]
  },
  {
   "cell_type": "code",
   "execution_count": null,
   "id": "f34652da",
   "metadata": {},
   "outputs": [],
   "source": [
    "result = cur.fetchall()"
   ]
  },
  {
   "cell_type": "code",
   "execution_count": null,
   "id": "ca9fb3aa",
   "metadata": {
    "scrolled": false
   },
   "outputs": [],
   "source": [
    "for record in result:\n",
    "    print(record)"
   ]
  },
  {
   "cell_type": "markdown",
   "id": "cc42af74",
   "metadata": {},
   "source": [
    "# Exploratory Data Analysis using SQL"
   ]
  },
  {
   "cell_type": "markdown",
   "id": "9ce222d7",
   "metadata": {},
   "source": [
    "##### Q. How many employees are represented in the database? "
   ]
  },
  {
   "cell_type": "code",
   "execution_count": 16,
   "id": "69b71f19",
   "metadata": {},
   "outputs": [],
   "source": [
    "query = '''\n",
    "select count(EEID) from employees;\n",
    "'''"
   ]
  },
  {
   "cell_type": "code",
   "execution_count": 17,
   "id": "1105802d",
   "metadata": {},
   "outputs": [],
   "source": [
    "cur.execute(query)"
   ]
  },
  {
   "cell_type": "code",
   "execution_count": 18,
   "id": "dc65cacd",
   "metadata": {},
   "outputs": [],
   "source": [
    "result = cur.fetchall()"
   ]
  },
  {
   "cell_type": "code",
   "execution_count": 19,
   "id": "7cee07c9",
   "metadata": {},
   "outputs": [
    {
     "name": "stdout",
     "output_type": "stream",
     "text": [
      "[(1000,)]\n"
     ]
    }
   ],
   "source": [
    "print(result)"
   ]
  },
  {
   "cell_type": "markdown",
   "id": "48877ca8",
   "metadata": {},
   "source": [
    "##### Q. What is the distribution of genders across the employees? "
   ]
  },
  {
   "cell_type": "code",
   "execution_count": 20,
   "id": "cb043898",
   "metadata": {},
   "outputs": [],
   "source": [
    "query = '''\n",
    "select \n",
    "\tgender as Gender, \n",
    "    count(EEID) as Gender_Count\n",
    "from db1.employees\n",
    "group by gender;\n",
    "'''"
   ]
  },
  {
   "cell_type": "code",
   "execution_count": 21,
   "id": "a0c6e979",
   "metadata": {},
   "outputs": [],
   "source": [
    "cur.execute(query)"
   ]
  },
  {
   "cell_type": "code",
   "execution_count": 22,
   "id": "1da39397",
   "metadata": {},
   "outputs": [],
   "source": [
    "result = cur.fetchall()"
   ]
  },
  {
   "cell_type": "code",
   "execution_count": 23,
   "id": "5ec53e3a",
   "metadata": {},
   "outputs": [
    {
     "name": "stdout",
     "output_type": "stream",
     "text": [
      "[('Female', 518), ('Male', 482)]\n"
     ]
    }
   ],
   "source": [
    "print(result)"
   ]
  },
  {
   "cell_type": "code",
   "execution_count": 24,
   "id": "33d26b3c",
   "metadata": {},
   "outputs": [],
   "source": [
    "# python function display result in grid format\n",
    "def print_result(result):\n",
    "    # get the column names\n",
    "    column_names = [column[0] for column in cur.description]\n",
    "\n",
    "    # print the result as table\n",
    "    print(tabulate(result, headers=column_names, tablefmt='grid'))"
   ]
  },
  {
   "cell_type": "code",
   "execution_count": 25,
   "id": "ca34553d",
   "metadata": {},
   "outputs": [
    {
     "name": "stdout",
     "output_type": "stream",
     "text": [
      "+----------+----------------+\n",
      "| Gender   |   Gender_Count |\n",
      "+==========+================+\n",
      "| Female   |            518 |\n",
      "+----------+----------------+\n",
      "| Male     |            482 |\n",
      "+----------+----------------+\n"
     ]
    }
   ],
   "source": [
    "print_result(result)"
   ]
  },
  {
   "cell_type": "markdown",
   "id": "c8b5d989",
   "metadata": {},
   "source": [
    "##### Q. What are the common job titles within the company?"
   ]
  },
  {
   "cell_type": "code",
   "execution_count": 26,
   "id": "e2f0124c",
   "metadata": {},
   "outputs": [],
   "source": [
    "query = '''\n",
    "select \n",
    "    distinct `job title` as `Job Title`, \n",
    "    count(EEID) over (partition by `Job Title`) as `Count of Job Title`\n",
    "from employees \n",
    "order by `Count of Job Title` desc\n",
    "limit 0, 5;\n",
    "'''"
   ]
  },
  {
   "cell_type": "code",
   "execution_count": 27,
   "id": "ca6dc732",
   "metadata": {},
   "outputs": [
    {
     "name": "stdout",
     "output_type": "stream",
     "text": [
      "+----------------+----------------------+\n",
      "| Job Title      |   Count of Job Title |\n",
      "+================+======================+\n",
      "| Director       |                  121 |\n",
      "+----------------+----------------------+\n",
      "| Sr. Manger     |                  110 |\n",
      "+----------------+----------------------+\n",
      "| Vice President |                  105 |\n",
      "+----------------+----------------------+\n",
      "| Manager        |                   98 |\n",
      "+----------------+----------------------+\n",
      "| Sr. Analyst    |                   70 |\n",
      "+----------------+----------------------+\n"
     ]
    }
   ],
   "source": [
    "cur.execute(query)\n",
    "result = cur.fetchall()\n",
    "print_result(result)"
   ]
  },
  {
   "cell_type": "markdown",
   "id": "f205ce01",
   "metadata": {},
   "source": [
    "##### Q. What is the average age of employees within the company? "
   ]
  },
  {
   "cell_type": "code",
   "execution_count": 28,
   "id": "6125c868",
   "metadata": {},
   "outputs": [],
   "source": [
    "query = '''\n",
    "select avg(age) from employees; \n",
    "'''"
   ]
  },
  {
   "cell_type": "code",
   "execution_count": 29,
   "id": "114faded",
   "metadata": {},
   "outputs": [
    {
     "name": "stdout",
     "output_type": "stream",
     "text": [
      "+------------+\n",
      "|   avg(age) |\n",
      "+============+\n",
      "|     44.382 |\n",
      "+------------+\n"
     ]
    }
   ],
   "source": [
    "cur.execute(query)\n",
    "result = cur.fetchall()\n",
    "print_result(result)"
   ]
  },
  {
   "cell_type": "markdown",
   "id": "e8abe468",
   "metadata": {},
   "source": [
    "##### Q. What is the distribution of enthnicities among the employees?"
   ]
  },
  {
   "cell_type": "code",
   "execution_count": 30,
   "id": "4fe0276a",
   "metadata": {},
   "outputs": [],
   "source": [
    "query = '''\n",
    "select \n",
    "    distinct Ethnicity, \n",
    "    Gender, \n",
    "    count(EEID) over (partition by Ethnicity, Gender) as Count\n",
    "from employees;\n",
    "'''"
   ]
  },
  {
   "cell_type": "code",
   "execution_count": 31,
   "id": "4e7de1e6",
   "metadata": {},
   "outputs": [
    {
     "name": "stdout",
     "output_type": "stream",
     "text": [
      "+-------------+----------+---------+\n",
      "| Ethnicity   | Gender   |   Count |\n",
      "+=============+==========+=========+\n",
      "| Asian       | Female   |     207 |\n",
      "+-------------+----------+---------+\n",
      "| Asian       | Male     |     197 |\n",
      "+-------------+----------+---------+\n",
      "| Black       | Female   |      37 |\n",
      "+-------------+----------+---------+\n",
      "| Black       | Male     |      37 |\n",
      "+-------------+----------+---------+\n",
      "| Caucasian   | Female   |     140 |\n",
      "+-------------+----------+---------+\n",
      "| Caucasian   | Male     |     131 |\n",
      "+-------------+----------+---------+\n",
      "| Latino      | Female   |     134 |\n",
      "+-------------+----------+---------+\n",
      "| Latino      | Male     |     117 |\n",
      "+-------------+----------+---------+\n"
     ]
    }
   ],
   "source": [
    "cur.execute(query)\n",
    "result = cur.fetchall()\n",
    "print_result(result)"
   ]
  },
  {
   "cell_type": "markdown",
   "id": "319773d0",
   "metadata": {},
   "source": [
    "##### Q. How many employees do each department have? "
   ]
  },
  {
   "cell_type": "code",
   "execution_count": 32,
   "id": "07c1ea51",
   "metadata": {},
   "outputs": [],
   "source": [
    "query = '''\n",
    "select \n",
    "    Department, \n",
    "    count(EEID) as `Count of Employees`\n",
    "from employees \n",
    "group by Department \n",
    "order by `Count of Employees` desc;\n",
    "'''"
   ]
  },
  {
   "cell_type": "code",
   "execution_count": 33,
   "id": "d6010620",
   "metadata": {},
   "outputs": [
    {
     "name": "stdout",
     "output_type": "stream",
     "text": [
      "+-----------------+----------------------+\n",
      "| Department      |   Count of Employees |\n",
      "+=================+======================+\n",
      "| IT              |                  241 |\n",
      "+-----------------+----------------------+\n",
      "| Engineering     |                  158 |\n",
      "+-----------------+----------------------+\n",
      "| Sales           |                  140 |\n",
      "+-----------------+----------------------+\n",
      "| Human Resources |                  125 |\n",
      "+-----------------+----------------------+\n",
      "| Finance         |                  120 |\n",
      "+-----------------+----------------------+\n",
      "| Marketing       |                  120 |\n",
      "+-----------------+----------------------+\n",
      "| Accounting      |                   96 |\n",
      "+-----------------+----------------------+\n"
     ]
    }
   ],
   "source": [
    "cur.execute(query)\n",
    "result = cur.fetchall()\n",
    "print_result(result)"
   ]
  },
  {
   "cell_type": "markdown",
   "id": "f6ff3ea1",
   "metadata": {},
   "source": [
    "##### Q. What is the average annual salary of employees in each department? "
   ]
  },
  {
   "cell_type": "code",
   "execution_count": 34,
   "id": "789c15a4",
   "metadata": {},
   "outputs": [],
   "source": [
    "query = '''\n",
    "select \n",
    "    Department, \n",
    "    avg(`Annual Salary`) as `Average Salary` \n",
    "from employees \n",
    "group by Department \n",
    "order by `Average Salary` desc;\n",
    "'''"
   ]
  },
  {
   "cell_type": "code",
   "execution_count": 35,
   "id": "afa572d6",
   "metadata": {},
   "outputs": [
    {
     "name": "stdout",
     "output_type": "stream",
     "text": [
      "+-----------------+------------------+\n",
      "| Department      |   Average Salary |\n",
      "+=================+==================+\n",
      "| Marketing       |         129663   |\n",
      "+-----------------+------------------+\n",
      "| Accounting      |         123147   |\n",
      "+-----------------+------------------+\n",
      "| Finance         |         122803   |\n",
      "+-----------------+------------------+\n",
      "| Human Resources |         118058   |\n",
      "+-----------------+------------------+\n",
      "| Sales           |         111050   |\n",
      "+-----------------+------------------+\n",
      "| Engineering     |         109035   |\n",
      "+-----------------+------------------+\n",
      "| IT              |          97790.5 |\n",
      "+-----------------+------------------+\n"
     ]
    }
   ],
   "source": [
    "cur.execute(query)\n",
    "result = cur.fetchall()\n",
    "print_result(result)"
   ]
  },
  {
   "cell_type": "markdown",
   "id": "e65112a9",
   "metadata": {},
   "source": [
    "##### Q. What is the average age of employees in each department?"
   ]
  },
  {
   "cell_type": "code",
   "execution_count": 36,
   "id": "1a3e16f9",
   "metadata": {},
   "outputs": [],
   "source": [
    "query = '''\n",
    "select \n",
    "    Department, \n",
    "    avg(Age) as 'Average Age'\n",
    "from employees \n",
    "group by Department;\n",
    "'''"
   ]
  },
  {
   "cell_type": "code",
   "execution_count": 37,
   "id": "c12e141d",
   "metadata": {},
   "outputs": [
    {
     "name": "stdout",
     "output_type": "stream",
     "text": [
      "+-----------------+---------------+\n",
      "| Department      |   Average Age |\n",
      "+=================+===============+\n",
      "| IT              |       44.3444 |\n",
      "+-----------------+---------------+\n",
      "| Finance         |       45.2917 |\n",
      "+-----------------+---------------+\n",
      "| Sales           |       43.6429 |\n",
      "+-----------------+---------------+\n",
      "| Accounting      |       43.6563 |\n",
      "+-----------------+---------------+\n",
      "| Engineering     |       45.6709 |\n",
      "+-----------------+---------------+\n",
      "| Human Resources |       44.456  |\n",
      "+-----------------+---------------+\n",
      "| Marketing       |       43.2167 |\n",
      "+-----------------+---------------+\n"
     ]
    }
   ],
   "source": [
    "cur.execute(query)\n",
    "result = cur.fetchall()\n",
    "print_result(result)"
   ]
  },
  {
   "cell_type": "markdown",
   "id": "2da4e06d",
   "metadata": {},
   "source": [
    "##### Q. Break down of employee ages. "
   ]
  },
  {
   "cell_type": "code",
   "execution_count": 38,
   "id": "486c4dba",
   "metadata": {},
   "outputs": [],
   "source": [
    "query ='''\n",
    "select \n",
    "    Department, \n",
    "    sum(case when age between 20 and 29 then 1 else 0 end) as `20-29`,\n",
    "    sum(case when age between 30 and 39 then 1 else 0 end) as `30-39`,\n",
    "    sum(case when age between 40 and 49 then 1 else 0 end) as `40-49`,\n",
    "    sum(case when age between 50 and 59 then 1 else 0 end) as `50-59`,\n",
    "    sum(case when age between 60 and 69 then 1 else 0 end) as `60-69`, \n",
    "    count(EEID) as `Total Count`\n",
    "from employees\n",
    "group by Department; \n",
    "'''"
   ]
  },
  {
   "cell_type": "code",
   "execution_count": 39,
   "id": "60938ad5",
   "metadata": {},
   "outputs": [
    {
     "name": "stdout",
     "output_type": "stream",
     "text": [
      "+-----------------+---------+---------+---------+---------+---------+---------------+\n",
      "| Department      |   20-29 |   30-39 |   40-49 |   50-59 |   60-69 |   Total Count |\n",
      "+=================+=========+=========+=========+=========+=========+===============+\n",
      "| IT              |      29 |      55 |      72 |      66 |      19 |           241 |\n",
      "+-----------------+---------+---------+---------+---------+---------+---------------+\n",
      "| Finance         |      12 |      33 |      25 |      30 |      20 |           120 |\n",
      "+-----------------+---------+---------+---------+---------+---------+---------------+\n",
      "| Sales           |      18 |      36 |      41 |      29 |      16 |           140 |\n",
      "+-----------------+---------+---------+---------+---------+---------+---------------+\n",
      "| Accounting      |      16 |      21 |      25 |      26 |       8 |            96 |\n",
      "+-----------------+---------+---------+---------+---------+---------+---------------+\n",
      "| Engineering     |      17 |      30 |      48 |      43 |      20 |           158 |\n",
      "+-----------------+---------+---------+---------+---------+---------+---------------+\n",
      "| Human Resources |      11 |      29 |      44 |      27 |      14 |           125 |\n",
      "+-----------------+---------+---------+---------+---------+---------+---------------+\n",
      "| Marketing       |      18 |      33 |      33 |      20 |      16 |           120 |\n",
      "+-----------------+---------+---------+---------+---------+---------+---------------+\n"
     ]
    }
   ],
   "source": [
    "cur.execute(query)\n",
    "result = cur.fetchall()\n",
    "print_result(result)"
   ]
  },
  {
   "cell_type": "code",
   "execution_count": null,
   "id": "228d2828",
   "metadata": {},
   "outputs": [],
   "source": []
  },
  {
   "cell_type": "code",
   "execution_count": null,
   "id": "62fb0efa",
   "metadata": {},
   "outputs": [],
   "source": []
  }
 ],
 "metadata": {
  "kernelspec": {
   "display_name": "Python 3 (ipykernel)",
   "language": "python",
   "name": "python3"
  },
  "language_info": {
   "codemirror_mode": {
    "name": "ipython",
    "version": 3
   },
   "file_extension": ".py",
   "mimetype": "text/x-python",
   "name": "python",
   "nbconvert_exporter": "python",
   "pygments_lexer": "ipython3",
   "version": "3.9.12"
  }
 },
 "nbformat": 4,
 "nbformat_minor": 5
}
