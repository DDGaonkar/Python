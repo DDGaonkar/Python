{
 "cells": [
  {
   "cell_type": "markdown",
   "id": "aed907fc",
   "metadata": {},
   "source": [
    "## 📊 Exploratory Data Analysis using Python\n",
    "\n",
    "In this project I performed an in-depth exploratory data analysis (EDA) on a dataset containing employee information. The dataset includes various attributes such as employee ID, full name, job title, department, business unit, gender, ethnicity, age, hire date, annual salary, bonus percentage, country, city, and exit date. The primary goal of this EDA was to uncover insights and patterns within the data to better understand the characteristics and behaviors of the workforce. \n",
    "\n",
    "\n",
    "### 🚀 Learnings: \n",
    "\n",
    "#### 1. Data Cleaning and Preprocessing:\n",
    "- Identified and handled duplicate records to ensure data integrity.\n",
    "- Converted relevant columns to appropriate data types (e.g., date columns).\n",
    "- Calculated tenure for employees based on their hire and exit dates.\n",
    "\n",
    "#### 2. Descriptive Statistics:\n",
    "- Calculated summary statistics (mean, median, min, max, etc.) for numerical columns.\n",
    "- Provided insights into the average age of employees and salary distributions.\n",
    "\n",
    "#### 3. Data Visualization:\n",
    "- Created histograms and box plots to visualize the distribution of salaries and bonuses.\n",
    "- Used bar plots and pie charts to illustrate the distribution of genders and job titles.\n",
    "\n",
    "#### 4. Group-by Operations and Aggregations:\n",
    "- Aggregated data by various columns (e.g., gender, job title, department) to calculate summary statistics.\n",
    "- Analyzed the average age of employees by gender and bonus percentages by job title and department.\n",
    "\n",
    "#### 5. Turnover Analysis:\n",
    "- Calculated turnover rates for different job titles and cities.\n",
    "- Identified patterns in employee exit dates to understand turnover trends.\n",
    "\n",
    "#### 6. Country-Based Analysis: \n",
    "- Compared salary and bonus distributions across different countries.\n",
    "- Used box plots to visualize differences in compensation based on country of employment.\n",
    "\n",
    "#### 7. Insight Generation:\n",
    "- Derived meaningful insights regarding employee demographics, compensation patterns, and turnover rates.\n",
    "- Highlighted key areas where differences were observed, such as gender-based salary differences and country-based bonus variations.\n",
    "\n"
   ]
  },
  {
   "cell_type": "code",
   "execution_count": 2,
   "id": "aa5627b7",
   "metadata": {},
   "outputs": [],
   "source": [
    "import pandas as pd"
   ]
  },
  {
   "cell_type": "code",
   "execution_count": 3,
   "id": "b8b4c712",
   "metadata": {},
   "outputs": [],
   "source": [
    "data = pd.read_excel(\"C:/Users/Deepanshu/DA/Datasets/ESD.xlsx\")"
   ]
  },
  {
   "cell_type": "code",
   "execution_count": 4,
   "id": "3db5ccf3",
   "metadata": {},
   "outputs": [
    {
     "name": "stdout",
     "output_type": "stream",
     "text": [
      "<class 'pandas.core.frame.DataFrame'>\n",
      "RangeIndex: 1000 entries, 0 to 999\n",
      "Data columns (total 14 columns):\n",
      " #   Column         Non-Null Count  Dtype         \n",
      "---  ------         --------------  -----         \n",
      " 0   EEID           1000 non-null   object        \n",
      " 1   Full Name      1000 non-null   object        \n",
      " 2   Job Title      1000 non-null   object        \n",
      " 3   Department     1000 non-null   object        \n",
      " 4   Business Unit  1000 non-null   object        \n",
      " 5   Gender         1000 non-null   object        \n",
      " 6   Ethnicity      1000 non-null   object        \n",
      " 7   Age            1000 non-null   int64         \n",
      " 8   Hire Date      1000 non-null   datetime64[ns]\n",
      " 9   Annual Salary  1000 non-null   int64         \n",
      " 10  Bonus %        1000 non-null   float64       \n",
      " 11  Country        1000 non-null   object        \n",
      " 12  City           1000 non-null   object        \n",
      " 13  Exit Date      85 non-null     datetime64[ns]\n",
      "dtypes: datetime64[ns](2), float64(1), int64(2), object(9)\n",
      "memory usage: 109.5+ KB\n"
     ]
    }
   ],
   "source": [
    "data.info()"
   ]
  },
  {
   "cell_type": "markdown",
   "id": "ee59cc1b",
   "metadata": {},
   "source": [
    "Questions for Exploratory Data Analysis:\n",
    "\n",
    "a. General Information:\n",
    "1. How many employees are represented in the dataset?\n",
    "2. What is the distribution of genders among the employees?\n",
    "3. What are the most common job titles within the company?\n",
    "\n",
    "b. Employee Demographics: \n",
    "1. What is the average age of employees in the company?\n",
    "2. Can you provide a breakdown of employee ages by gender?\n",
    "3. What is the distribution of ethnicities among employees?\n",
    "\n",
    "c. Employment Information:\n",
    "1. How many employees are there in each department?\n",
    "2. What is the average annual salary for employees in each department?\n",
    "3. Are there any trends in the hiring dates of employees?\n",
    "\n",
    "d. Financial Information:\n",
    "1. What is the average annual salary across all employees?\n",
    "2. How does bonus percentage vary across different job titles or departments?\n",
    "3. Is there any correlation between salary and bonus percentage?\n",
    "\n",
    "e. Employee Retention:\n",
    "1. What is the average tenure of employees in the company?\n",
    "2. Can you identify any patterns in the exit dates of employees?\n",
    "3. Is there any relationship between job title and employee turnover?\n",
    "\n",
    "f. Geographical Insights:\n",
    "1. Which city has the highest number of employees?\n",
    "2. Are there differences in salary or bonus percentage based on the country of employment?\n",
    "3. Do certain cities have higher turnover rates than others?\n",
    "\n",
    "g. Comparative Analysis:\n",
    "1. How does the salary distribution differ between genders?\n",
    "\n",
    "These questions cover various aspects of the dataset, including employee demographics, employment details, financial information, retention rates, geographical insights, and comparative analysis. They should help provide valuable insights into the company's workforce and operations."
   ]
  },
  {
   "cell_type": "code",
   "execution_count": null,
   "id": "3b7b203a",
   "metadata": {},
   "outputs": [],
   "source": [
    "data.duplicated('EEID').sum()"
   ]
  },
  {
   "cell_type": "code",
   "execution_count": 5,
   "id": "a77f4ca9",
   "metadata": {},
   "outputs": [
    {
     "data": {
      "text/html": [
       "<div>\n",
       "<style scoped>\n",
       "    .dataframe tbody tr th:only-of-type {\n",
       "        vertical-align: middle;\n",
       "    }\n",
       "\n",
       "    .dataframe tbody tr th {\n",
       "        vertical-align: top;\n",
       "    }\n",
       "\n",
       "    .dataframe thead th {\n",
       "        text-align: right;\n",
       "    }\n",
       "</style>\n",
       "<table border=\"1\" class=\"dataframe\">\n",
       "  <thead>\n",
       "    <tr style=\"text-align: right;\">\n",
       "      <th></th>\n",
       "      <th>EEID</th>\n",
       "      <th>Full Name</th>\n",
       "      <th>Job Title</th>\n",
       "      <th>Department</th>\n",
       "      <th>Business Unit</th>\n",
       "      <th>Gender</th>\n",
       "      <th>Ethnicity</th>\n",
       "      <th>Age</th>\n",
       "      <th>Hire Date</th>\n",
       "      <th>Annual Salary</th>\n",
       "      <th>Bonus %</th>\n",
       "      <th>Country</th>\n",
       "      <th>City</th>\n",
       "      <th>Exit Date</th>\n",
       "    </tr>\n",
       "  </thead>\n",
       "  <tbody>\n",
       "  </tbody>\n",
       "</table>\n",
       "</div>"
      ],
      "text/plain": [
       "Empty DataFrame\n",
       "Columns: [EEID, Full Name, Job Title, Department, Business Unit, Gender, Ethnicity, Age, Hire Date, Annual Salary, Bonus %, Country, City, Exit Date]\n",
       "Index: []"
      ]
     },
     "execution_count": 5,
     "metadata": {},
     "output_type": "execute_result"
    }
   ],
   "source": [
    "# to find if there are any duplicate record for the same employee. \n",
    "# Since there can be multiple employees with same name or age or country or ethnicity, \n",
    "# I have considered multiple parameters to check there are duplicate records for the same employees\n",
    "data[data.duplicated(['Full Name', 'Age', 'Ethnicity', 'Country'])]"
   ]
  },
  {
   "cell_type": "code",
   "execution_count": 6,
   "id": "31bb580c",
   "metadata": {},
   "outputs": [],
   "source": [
    "# There are no duplicate records for the same employee, however there are duplicate EEID numbers. \n",
    "# Hence We have to drop the 'EEID' and add a new column as the EEID with unique values. \n",
    "data.drop(['EEID'], axis=1, inplace=True)\n",
    "# Generate Unique employee ids\n",
    "unique_eeids = range(1, len(data)+1)\n",
    "data['EEID'] = unique_eeids"
   ]
  },
  {
   "cell_type": "code",
   "execution_count": 7,
   "id": "1956b7a2",
   "metadata": {},
   "outputs": [],
   "source": [
    "# rearranging the columns in the dataframe\n",
    "data = data[['EEID', 'Full Name', 'Job Title', 'Department', 'Business Unit', 'Gender',\n",
    "       'Ethnicity', 'Age', 'Hire Date', 'Annual Salary', 'Bonus %', 'Country',\n",
    "       'City', 'Exit Date']]"
   ]
  },
  {
   "cell_type": "code",
   "execution_count": 8,
   "id": "2ce7401a",
   "metadata": {},
   "outputs": [
    {
     "data": {
      "text/html": [
       "<div>\n",
       "<style scoped>\n",
       "    .dataframe tbody tr th:only-of-type {\n",
       "        vertical-align: middle;\n",
       "    }\n",
       "\n",
       "    .dataframe tbody tr th {\n",
       "        vertical-align: top;\n",
       "    }\n",
       "\n",
       "    .dataframe thead th {\n",
       "        text-align: right;\n",
       "    }\n",
       "</style>\n",
       "<table border=\"1\" class=\"dataframe\">\n",
       "  <thead>\n",
       "    <tr style=\"text-align: right;\">\n",
       "      <th></th>\n",
       "      <th>EEID</th>\n",
       "      <th>Full Name</th>\n",
       "      <th>Job Title</th>\n",
       "      <th>Department</th>\n",
       "      <th>Business Unit</th>\n",
       "      <th>Gender</th>\n",
       "      <th>Ethnicity</th>\n",
       "      <th>Age</th>\n",
       "      <th>Hire Date</th>\n",
       "      <th>Annual Salary</th>\n",
       "      <th>Bonus %</th>\n",
       "      <th>Country</th>\n",
       "      <th>City</th>\n",
       "      <th>Exit Date</th>\n",
       "    </tr>\n",
       "  </thead>\n",
       "  <tbody>\n",
       "    <tr>\n",
       "      <th>0</th>\n",
       "      <td>1</td>\n",
       "      <td>Emily Davis</td>\n",
       "      <td>Sr. Manger</td>\n",
       "      <td>IT</td>\n",
       "      <td>Research &amp; Development</td>\n",
       "      <td>Female</td>\n",
       "      <td>Black</td>\n",
       "      <td>55</td>\n",
       "      <td>2016-04-08</td>\n",
       "      <td>141604</td>\n",
       "      <td>0.15</td>\n",
       "      <td>United States</td>\n",
       "      <td>Seattle</td>\n",
       "      <td>2021-10-16</td>\n",
       "    </tr>\n",
       "    <tr>\n",
       "      <th>1</th>\n",
       "      <td>2</td>\n",
       "      <td>Theodore Dinh</td>\n",
       "      <td>Technical Architect</td>\n",
       "      <td>IT</td>\n",
       "      <td>Manufacturing</td>\n",
       "      <td>Male</td>\n",
       "      <td>Asian</td>\n",
       "      <td>59</td>\n",
       "      <td>1997-11-29</td>\n",
       "      <td>99975</td>\n",
       "      <td>0.00</td>\n",
       "      <td>China</td>\n",
       "      <td>Chongqing</td>\n",
       "      <td>NaT</td>\n",
       "    </tr>\n",
       "    <tr>\n",
       "      <th>2</th>\n",
       "      <td>3</td>\n",
       "      <td>Luna Sanders</td>\n",
       "      <td>Director</td>\n",
       "      <td>Finance</td>\n",
       "      <td>Speciality Products</td>\n",
       "      <td>Female</td>\n",
       "      <td>Caucasian</td>\n",
       "      <td>50</td>\n",
       "      <td>2006-10-26</td>\n",
       "      <td>163099</td>\n",
       "      <td>0.20</td>\n",
       "      <td>United States</td>\n",
       "      <td>Chicago</td>\n",
       "      <td>NaT</td>\n",
       "    </tr>\n",
       "    <tr>\n",
       "      <th>3</th>\n",
       "      <td>4</td>\n",
       "      <td>Penelope Jordan</td>\n",
       "      <td>Computer Systems Manager</td>\n",
       "      <td>IT</td>\n",
       "      <td>Manufacturing</td>\n",
       "      <td>Female</td>\n",
       "      <td>Caucasian</td>\n",
       "      <td>26</td>\n",
       "      <td>2019-09-27</td>\n",
       "      <td>84913</td>\n",
       "      <td>0.07</td>\n",
       "      <td>United States</td>\n",
       "      <td>Chicago</td>\n",
       "      <td>NaT</td>\n",
       "    </tr>\n",
       "    <tr>\n",
       "      <th>4</th>\n",
       "      <td>5</td>\n",
       "      <td>Austin Vo</td>\n",
       "      <td>Sr. Analyst</td>\n",
       "      <td>Finance</td>\n",
       "      <td>Manufacturing</td>\n",
       "      <td>Male</td>\n",
       "      <td>Asian</td>\n",
       "      <td>55</td>\n",
       "      <td>1995-11-20</td>\n",
       "      <td>95409</td>\n",
       "      <td>0.00</td>\n",
       "      <td>United States</td>\n",
       "      <td>Phoenix</td>\n",
       "      <td>NaT</td>\n",
       "    </tr>\n",
       "    <tr>\n",
       "      <th>...</th>\n",
       "      <td>...</td>\n",
       "      <td>...</td>\n",
       "      <td>...</td>\n",
       "      <td>...</td>\n",
       "      <td>...</td>\n",
       "      <td>...</td>\n",
       "      <td>...</td>\n",
       "      <td>...</td>\n",
       "      <td>...</td>\n",
       "      <td>...</td>\n",
       "      <td>...</td>\n",
       "      <td>...</td>\n",
       "      <td>...</td>\n",
       "      <td>...</td>\n",
       "    </tr>\n",
       "    <tr>\n",
       "      <th>995</th>\n",
       "      <td>996</td>\n",
       "      <td>Wesley Young</td>\n",
       "      <td>Sr. Analyst</td>\n",
       "      <td>Marketing</td>\n",
       "      <td>Speciality Products</td>\n",
       "      <td>Male</td>\n",
       "      <td>Caucasian</td>\n",
       "      <td>33</td>\n",
       "      <td>2016-09-18</td>\n",
       "      <td>98427</td>\n",
       "      <td>0.00</td>\n",
       "      <td>United States</td>\n",
       "      <td>Columbus</td>\n",
       "      <td>NaT</td>\n",
       "    </tr>\n",
       "    <tr>\n",
       "      <th>996</th>\n",
       "      <td>997</td>\n",
       "      <td>Lillian Khan</td>\n",
       "      <td>Analyst</td>\n",
       "      <td>Finance</td>\n",
       "      <td>Speciality Products</td>\n",
       "      <td>Female</td>\n",
       "      <td>Asian</td>\n",
       "      <td>44</td>\n",
       "      <td>2010-05-31</td>\n",
       "      <td>47387</td>\n",
       "      <td>0.00</td>\n",
       "      <td>China</td>\n",
       "      <td>Chengdu</td>\n",
       "      <td>2018-01-08</td>\n",
       "    </tr>\n",
       "    <tr>\n",
       "      <th>997</th>\n",
       "      <td>998</td>\n",
       "      <td>Oliver Yang</td>\n",
       "      <td>Director</td>\n",
       "      <td>Marketing</td>\n",
       "      <td>Speciality Products</td>\n",
       "      <td>Male</td>\n",
       "      <td>Asian</td>\n",
       "      <td>31</td>\n",
       "      <td>2019-06-10</td>\n",
       "      <td>176710</td>\n",
       "      <td>0.15</td>\n",
       "      <td>United States</td>\n",
       "      <td>Miami</td>\n",
       "      <td>NaT</td>\n",
       "    </tr>\n",
       "    <tr>\n",
       "      <th>998</th>\n",
       "      <td>999</td>\n",
       "      <td>Lily Nguyen</td>\n",
       "      <td>Sr. Analyst</td>\n",
       "      <td>Finance</td>\n",
       "      <td>Speciality Products</td>\n",
       "      <td>Female</td>\n",
       "      <td>Asian</td>\n",
       "      <td>33</td>\n",
       "      <td>2012-01-28</td>\n",
       "      <td>95960</td>\n",
       "      <td>0.00</td>\n",
       "      <td>China</td>\n",
       "      <td>Chengdu</td>\n",
       "      <td>NaT</td>\n",
       "    </tr>\n",
       "    <tr>\n",
       "      <th>999</th>\n",
       "      <td>1000</td>\n",
       "      <td>Sofia Cheng</td>\n",
       "      <td>Vice President</td>\n",
       "      <td>Accounting</td>\n",
       "      <td>Corporate</td>\n",
       "      <td>Female</td>\n",
       "      <td>Asian</td>\n",
       "      <td>63</td>\n",
       "      <td>2020-07-26</td>\n",
       "      <td>216195</td>\n",
       "      <td>0.31</td>\n",
       "      <td>United States</td>\n",
       "      <td>Miami</td>\n",
       "      <td>NaT</td>\n",
       "    </tr>\n",
       "  </tbody>\n",
       "</table>\n",
       "<p>1000 rows × 14 columns</p>\n",
       "</div>"
      ],
      "text/plain": [
       "     EEID        Full Name                 Job Title  Department  \\\n",
       "0       1      Emily Davis                Sr. Manger          IT   \n",
       "1       2    Theodore Dinh       Technical Architect          IT   \n",
       "2       3     Luna Sanders                  Director     Finance   \n",
       "3       4  Penelope Jordan  Computer Systems Manager          IT   \n",
       "4       5        Austin Vo               Sr. Analyst     Finance   \n",
       "..    ...              ...                       ...         ...   \n",
       "995   996     Wesley Young               Sr. Analyst   Marketing   \n",
       "996   997     Lillian Khan                   Analyst     Finance   \n",
       "997   998      Oliver Yang                  Director   Marketing   \n",
       "998   999      Lily Nguyen               Sr. Analyst     Finance   \n",
       "999  1000      Sofia Cheng            Vice President  Accounting   \n",
       "\n",
       "              Business Unit  Gender  Ethnicity  Age  Hire Date  Annual Salary  \\\n",
       "0    Research & Development  Female      Black   55 2016-04-08         141604   \n",
       "1             Manufacturing    Male      Asian   59 1997-11-29          99975   \n",
       "2       Speciality Products  Female  Caucasian   50 2006-10-26         163099   \n",
       "3             Manufacturing  Female  Caucasian   26 2019-09-27          84913   \n",
       "4             Manufacturing    Male      Asian   55 1995-11-20          95409   \n",
       "..                      ...     ...        ...  ...        ...            ...   \n",
       "995     Speciality Products    Male  Caucasian   33 2016-09-18          98427   \n",
       "996     Speciality Products  Female      Asian   44 2010-05-31          47387   \n",
       "997     Speciality Products    Male      Asian   31 2019-06-10         176710   \n",
       "998     Speciality Products  Female      Asian   33 2012-01-28          95960   \n",
       "999               Corporate  Female      Asian   63 2020-07-26         216195   \n",
       "\n",
       "     Bonus %        Country       City  Exit Date  \n",
       "0       0.15  United States    Seattle 2021-10-16  \n",
       "1       0.00          China  Chongqing        NaT  \n",
       "2       0.20  United States    Chicago        NaT  \n",
       "3       0.07  United States    Chicago        NaT  \n",
       "4       0.00  United States    Phoenix        NaT  \n",
       "..       ...            ...        ...        ...  \n",
       "995     0.00  United States   Columbus        NaT  \n",
       "996     0.00          China    Chengdu 2018-01-08  \n",
       "997     0.15  United States      Miami        NaT  \n",
       "998     0.00          China    Chengdu        NaT  \n",
       "999     0.31  United States      Miami        NaT  \n",
       "\n",
       "[1000 rows x 14 columns]"
      ]
     },
     "execution_count": 8,
     "metadata": {},
     "output_type": "execute_result"
    }
   ],
   "source": [
    "data"
   ]
  },
  {
   "cell_type": "markdown",
   "id": "c29ff8d0",
   "metadata": {},
   "source": [
    "##### question a1: How many employees are represented in the dataset?"
   ]
  },
  {
   "cell_type": "code",
   "execution_count": 9,
   "id": "0baf29bf",
   "metadata": {},
   "outputs": [
    {
     "data": {
      "text/plain": [
       "1000"
      ]
     },
     "execution_count": 9,
     "metadata": {},
     "output_type": "execute_result"
    }
   ],
   "source": [
    "len(data['EEID'])"
   ]
  },
  {
   "cell_type": "markdown",
   "id": "fa2427cf",
   "metadata": {},
   "source": [
    "##### question a2: What is the distribution of the genders among the employees?"
   ]
  },
  {
   "cell_type": "code",
   "execution_count": 10,
   "id": "2af82692",
   "metadata": {},
   "outputs": [
    {
     "data": {
      "text/plain": [
       "Gender\n",
       "Female    518\n",
       "Male      482\n",
       "Name: EEID, dtype: int64"
      ]
     },
     "execution_count": 10,
     "metadata": {},
     "output_type": "execute_result"
    }
   ],
   "source": [
    "data.groupby('Gender')['EEID'].count()"
   ]
  },
  {
   "cell_type": "code",
   "execution_count": 11,
   "id": "ea59e40c",
   "metadata": {},
   "outputs": [
    {
     "data": {
      "text/plain": [
       "Female    518\n",
       "Male      482\n",
       "Name: Gender, dtype: int64"
      ]
     },
     "execution_count": 11,
     "metadata": {},
     "output_type": "execute_result"
    }
   ],
   "source": [
    "# another way to solve the above problem\n",
    "data['Gender'].value_counts()"
   ]
  },
  {
   "cell_type": "markdown",
   "id": "9e95feba",
   "metadata": {},
   "source": [
    "##### question a3: What are the most common job titles within the company?"
   ]
  },
  {
   "cell_type": "code",
   "execution_count": 12,
   "id": "d854936e",
   "metadata": {},
   "outputs": [
    {
     "data": {
      "text/plain": [
       "Director          121\n",
       "Sr. Manger        110\n",
       "Vice President    105\n",
       "Manager            98\n",
       "Sr. Analyst        70\n",
       "Name: Job Title, dtype: int64"
      ]
     },
     "execution_count": 12,
     "metadata": {},
     "output_type": "execute_result"
    }
   ],
   "source": [
    "data['Job Title'].value_counts().head(5)"
   ]
  },
  {
   "cell_type": "code",
   "execution_count": 13,
   "id": "49cc393d",
   "metadata": {},
   "outputs": [
    {
     "data": {
      "text/plain": [
       "Job Title\n",
       "Account Representative             21\n",
       "Analyst                            51\n",
       "Analyst II                         53\n",
       "Automation Engineer                 7\n",
       "Business Partner                   19\n",
       "Cloud Infrastructure Architect     15\n",
       "Computer Systems Manager           21\n",
       "Controls Engineer                  15\n",
       "Development Engineer               19\n",
       "Director                          121\n",
       "Engineering Manager                20\n",
       "Enterprise Architect               18\n",
       "Field Engineer                     21\n",
       "HRIS Analyst                       16\n",
       "IT Coordinator                     11\n",
       "IT Systems Architect               12\n",
       "Manager                            98\n",
       "Network Administrator              10\n",
       "Network Architect                  18\n",
       "Network Engineer                    7\n",
       "Operations Engineer                12\n",
       "Quality Engineer                   20\n",
       "Service Desk Analyst               10\n",
       "Solutions Architect                15\n",
       "Sr. Account Representative          9\n",
       "Sr. Analyst                        70\n",
       "Sr. Business Partner               17\n",
       "Sr. Manger                        110\n",
       "System Administrator               15\n",
       "Systems Analyst                    15\n",
       "Technical Architect                17\n",
       "Test Engineer                      12\n",
       "Vice President                    105\n",
       "Name: EEID, dtype: int64"
      ]
     },
     "execution_count": 13,
     "metadata": {},
     "output_type": "execute_result"
    }
   ],
   "source": [
    "data.groupby('Job Title')['EEID'].count()"
   ]
  },
  {
   "cell_type": "markdown",
   "id": "842c8830",
   "metadata": {},
   "source": [
    "##### question b1: What is the average age of the employees in the company"
   ]
  },
  {
   "cell_type": "code",
   "execution_count": 14,
   "id": "09eacf63",
   "metadata": {},
   "outputs": [
    {
     "data": {
      "text/plain": [
       "44.382"
      ]
     },
     "execution_count": 14,
     "metadata": {},
     "output_type": "execute_result"
    }
   ],
   "source": [
    "data['Age'].mean()"
   ]
  },
  {
   "cell_type": "markdown",
   "id": "8de9de21",
   "metadata": {},
   "source": [
    "##### question b2: Can you provide a breakdown of employee ages by gender?"
   ]
  },
  {
   "cell_type": "code",
   "execution_count": 15,
   "id": "fed25651",
   "metadata": {},
   "outputs": [],
   "source": [
    "# how to pivot the data into different age groups "
   ]
  },
  {
   "cell_type": "code",
   "execution_count": 16,
   "id": "45a2a6cf",
   "metadata": {
    "scrolled": true
   },
   "outputs": [
    {
     "data": {
      "text/html": [
       "<div>\n",
       "<style scoped>\n",
       "    .dataframe tbody tr th:only-of-type {\n",
       "        vertical-align: middle;\n",
       "    }\n",
       "\n",
       "    .dataframe tbody tr th {\n",
       "        vertical-align: top;\n",
       "    }\n",
       "\n",
       "    .dataframe thead th {\n",
       "        text-align: right;\n",
       "    }\n",
       "</style>\n",
       "<table border=\"1\" class=\"dataframe\">\n",
       "  <thead>\n",
       "    <tr style=\"text-align: right;\">\n",
       "      <th></th>\n",
       "      <th>count</th>\n",
       "      <th>mean</th>\n",
       "      <th>std</th>\n",
       "      <th>min</th>\n",
       "      <th>25%</th>\n",
       "      <th>50%</th>\n",
       "      <th>75%</th>\n",
       "      <th>max</th>\n",
       "    </tr>\n",
       "    <tr>\n",
       "      <th>Gender</th>\n",
       "      <th></th>\n",
       "      <th></th>\n",
       "      <th></th>\n",
       "      <th></th>\n",
       "      <th></th>\n",
       "      <th></th>\n",
       "      <th></th>\n",
       "      <th></th>\n",
       "    </tr>\n",
       "  </thead>\n",
       "  <tbody>\n",
       "    <tr>\n",
       "      <th>Female</th>\n",
       "      <td>518.0</td>\n",
       "      <td>44.277992</td>\n",
       "      <td>11.362667</td>\n",
       "      <td>25.0</td>\n",
       "      <td>35.0</td>\n",
       "      <td>45.0</td>\n",
       "      <td>53.75</td>\n",
       "      <td>65.0</td>\n",
       "    </tr>\n",
       "    <tr>\n",
       "      <th>Male</th>\n",
       "      <td>482.0</td>\n",
       "      <td>44.493776</td>\n",
       "      <td>11.132026</td>\n",
       "      <td>25.0</td>\n",
       "      <td>35.0</td>\n",
       "      <td>45.0</td>\n",
       "      <td>54.00</td>\n",
       "      <td>65.0</td>\n",
       "    </tr>\n",
       "  </tbody>\n",
       "</table>\n",
       "</div>"
      ],
      "text/plain": [
       "        count       mean        std   min   25%   50%    75%   max\n",
       "Gender                                                            \n",
       "Female  518.0  44.277992  11.362667  25.0  35.0  45.0  53.75  65.0\n",
       "Male    482.0  44.493776  11.132026  25.0  35.0  45.0  54.00  65.0"
      ]
     },
     "execution_count": 16,
     "metadata": {},
     "output_type": "execute_result"
    }
   ],
   "source": [
    "data.groupby('Gender')['Age'].describe()"
   ]
  },
  {
   "cell_type": "markdown",
   "id": "9482b8fc",
   "metadata": {},
   "source": [
    "##### question b3: What is the distribution of ethnicities among employees?"
   ]
  },
  {
   "cell_type": "code",
   "execution_count": 17,
   "id": "18e2040f",
   "metadata": {},
   "outputs": [
    {
     "data": {
      "text/plain": [
       "Ethnicity  Gender\n",
       "Asian      Female    207\n",
       "           Male      197\n",
       "Black      Female     37\n",
       "           Male       37\n",
       "Caucasian  Female    140\n",
       "           Male      131\n",
       "Latino     Female    134\n",
       "           Male      117\n",
       "Name: EEID, dtype: int64"
      ]
     },
     "execution_count": 17,
     "metadata": {},
     "output_type": "execute_result"
    }
   ],
   "source": [
    "data.groupby(['Ethnicity', 'Gender'])['EEID'].count()"
   ]
  },
  {
   "cell_type": "markdown",
   "id": "25bfac3c",
   "metadata": {},
   "source": [
    "##### question c1: How many employees are there in each department?"
   ]
  },
  {
   "cell_type": "code",
   "execution_count": 18,
   "id": "394b9dbe",
   "metadata": {},
   "outputs": [
    {
     "data": {
      "text/plain": [
       "Department\n",
       "Accounting          96\n",
       "Engineering        158\n",
       "Finance            120\n",
       "Human Resources    125\n",
       "IT                 241\n",
       "Marketing          120\n",
       "Sales              140\n",
       "Name: EEID, dtype: int64"
      ]
     },
     "execution_count": 18,
     "metadata": {},
     "output_type": "execute_result"
    }
   ],
   "source": [
    "data.groupby('Department')['EEID'].count()"
   ]
  },
  {
   "cell_type": "markdown",
   "id": "cbf396bc",
   "metadata": {},
   "source": [
    "##### question c2: What is the average annual salary for employees in each department?"
   ]
  },
  {
   "cell_type": "code",
   "execution_count": 19,
   "id": "2bebac13",
   "metadata": {},
   "outputs": [
    {
     "data": {
      "text/plain": [
       "Department\n",
       "Accounting         123146.947917\n",
       "Engineering        109035.208861\n",
       "Finance            122802.891667\n",
       "Human Resources    118058.440000\n",
       "IT                  97790.452282\n",
       "Marketing          129663.033333\n",
       "Sales              111049.857143\n",
       "Name: Annual Salary, dtype: float64"
      ]
     },
     "execution_count": 19,
     "metadata": {},
     "output_type": "execute_result"
    }
   ],
   "source": [
    "data.groupby('Department')['Annual Salary'].mean()"
   ]
  },
  {
   "cell_type": "code",
   "execution_count": 20,
   "id": "6e79de9f",
   "metadata": {},
   "outputs": [
    {
     "data": {
      "text/plain": [
       "Index(['EEID', 'Full Name', 'Job Title', 'Department', 'Business Unit',\n",
       "       'Gender', 'Ethnicity', 'Age', 'Hire Date', 'Annual Salary', 'Bonus %',\n",
       "       'Country', 'City', 'Exit Date'],\n",
       "      dtype='object')"
      ]
     },
     "execution_count": 20,
     "metadata": {},
     "output_type": "execute_result"
    }
   ],
   "source": [
    "data.columns"
   ]
  },
  {
   "cell_type": "code",
   "execution_count": 21,
   "id": "e6dd6914",
   "metadata": {},
   "outputs": [
    {
     "data": {
      "text/plain": [
       "Int64Index([2016, 1997, 2006, 2019, 1995, 2017, 2020, 2020, 2019, 2018,\n",
       "            ...\n",
       "            2010, 1998, 2015, 2018, 2009, 2016, 2010, 2019, 2012, 2020],\n",
       "           dtype='int64', name='Hire Date', length=1000)"
      ]
     },
     "execution_count": 21,
     "metadata": {},
     "output_type": "execute_result"
    }
   ],
   "source": [
    "pd.DatetimeIndex(data['Hire Date']).year"
   ]
  },
  {
   "cell_type": "markdown",
   "id": "31224d31",
   "metadata": {},
   "source": [
    "##### question c3: Are there any trends in the hiring dates of employees?"
   ]
  },
  {
   "cell_type": "code",
   "execution_count": 22,
   "id": "0d77d97f",
   "metadata": {},
   "outputs": [
    {
     "data": {
      "image/png": "[encoded data removed]",
      "text/plain": [
       "<Figure size 432x288 with 1 Axes>"
      ]
     },
     "metadata": {
      "needs_background": "light"
     },
     "output_type": "display_data"
    }
   ],
   "source": [
    "# Analyzing hiring trends by plotting a histogram\n",
    "import matplotlib.pyplot as plt\n",
    "\n",
    "plt.hist(pd.DatetimeIndex(data['Hire Date']).year, bins=40)\n",
    "plt.xlabel('Year of Hire')\n",
    "plt.ylabel('Number of Employees Hired')\n",
    "plt.title('Distribution of Employee Hiring Dates')\n",
    "plt.show()"
   ]
  },
  {
   "cell_type": "markdown",
   "id": "ac0dba38",
   "metadata": {},
   "source": [
    "##### question d1: What is the average annual salary across all employees?"
   ]
  },
  {
   "cell_type": "code",
   "execution_count": 25,
   "id": "180e4dfa",
   "metadata": {},
   "outputs": [
    {
     "data": {
      "text/plain": [
       "113217.365"
      ]
     },
     "execution_count": 25,
     "metadata": {},
     "output_type": "execute_result"
    }
   ],
   "source": [
    "data['Annual Salary'].mean()"
   ]
  },
  {
   "cell_type": "markdown",
   "id": "df4e59f6",
   "metadata": {},
   "source": [
    "##### question d2: How does bonus percentage vary across different departments?"
   ]
  },
  {
   "cell_type": "code",
   "execution_count": 27,
   "id": "d351c2c9",
   "metadata": {},
   "outputs": [],
   "source": [
    "import matplotlib.pyplot as plt\n",
    "import seaborn as sns"
   ]
  },
  {
   "cell_type": "code",
   "execution_count": 29,
   "id": "349c297d",
   "metadata": {},
   "outputs": [
    {
     "data": {
      "image/png": "[encoded data removed]",
      "text/plain": [
       "<Figure size 864x432 with 1 Axes>"
      ]
     },
     "metadata": {
      "needs_background": "light"
     },
     "output_type": "display_data"
    }
   ],
   "source": [
    "plt.figure(figsize=(12, 6))\n",
    "sns.boxplot(x='Bonus %', y=\"Department\", data=data)\n",
    "plt.xlabel('Bonus Percentage')\n",
    "plt.ylabel('Department')\n",
    "plt.title('Bonus Percentage by department')\n",
    "plt.xticks(rotation=45)\n",
    "plt.tight_layout()\n",
    "plt.show()"
   ]
  },
  {
   "cell_type": "code",
   "execution_count": 30,
   "id": "b2ad23ea",
   "metadata": {},
   "outputs": [],
   "source": [
    "bonus_stats_by_department = data.groupby('Department')['Bonus %'].describe()"
   ]
  },
  {
   "cell_type": "code",
   "execution_count": 31,
   "id": "12131cee",
   "metadata": {
    "scrolled": true
   },
   "outputs": [
    {
     "name": "stdout",
     "output_type": "stream",
     "text": [
      "\n",
      "Summary statistics for bonus percentage by department:\n",
      "                 count      mean       std  min  25%   50%     75%   max\n",
      "Department                                                              \n",
      "Accounting        96.0  0.111354  0.129685  0.0  0.0  0.06  0.2150  0.40\n",
      "Engineering      158.0  0.071646  0.116082  0.0  0.0  0.00  0.1300  0.40\n",
      "Finance          120.0  0.111583  0.118123  0.0  0.0  0.09  0.1800  0.39\n",
      "Human Resources  125.0  0.107280  0.120526  0.0  0.0  0.08  0.1700  0.39\n",
      "IT               241.0  0.054813  0.101000  0.0  0.0  0.00  0.0800  0.39\n",
      "Marketing        120.0  0.124250  0.125836  0.0  0.0  0.10  0.2325  0.40\n",
      "Sales            140.0  0.083786  0.111745  0.0  0.0  0.00  0.1425  0.38\n"
     ]
    }
   ],
   "source": [
    "print(\"\\nSummary statistics for bonus percentage by department:\")\n",
    "print(bonus_stats_by_department)"
   ]
  },
  {
   "cell_type": "markdown",
   "id": "f07e7892",
   "metadata": {},
   "source": [
    "Summary: \n",
    "- Marketing stands out with the highest mean bonus percentage and a relatively high 75th percentile, indicating that a significant portion of employees in this department receive substantial bonuses. \n",
    "- IT, Engineering and Sales have the lowest mean bonus percentages, with medians at 0%, suggesting that many employees in these departments receive little to no bonus. \n",
    "- Departments like Accounting and Marketing show higher variability (standard deviation) in bonus percentages, indicating a wider range of bonuses compared to other departments. \n",
    "- The 0% values in the minimum and 25th percentile columns across all departments indicate that a portion of employees in each department do not receive bonuses. \n",
    "- The maximum bonus percentages are similar across departments, with most departments having a maximum around 39-40%."
   ]
  },
  {
   "cell_type": "markdown",
   "id": "74436717",
   "metadata": {},
   "source": [
    "##### question d3: Is there any correlation between salary and bonus percentage?"
   ]
  },
  {
   "cell_type": "code",
   "execution_count": 22,
   "id": "cebce7be",
   "metadata": {},
   "outputs": [
    {
     "data": {
      "text/plain": [
       "0.9256920811233008"
      ]
     },
     "execution_count": 22,
     "metadata": {},
     "output_type": "execute_result"
    }
   ],
   "source": [
    "data['Annual Salary'].corr(data['Bonus %'])"
   ]
  },
  {
   "cell_type": "code",
   "execution_count": 23,
   "id": "f87d01f6",
   "metadata": {
    "scrolled": true
   },
   "outputs": [
    {
     "data": {
      "image/png": "[encoded data removed]",
      "text/plain": [
       "<Figure size 576x432 with 1 Axes>"
      ]
     },
     "metadata": {
      "needs_background": "light"
     },
     "output_type": "display_data"
    }
   ],
   "source": [
    "plt.figure(figsize=(8, 6))\n",
    "plt.scatter(data['Annual Salary'], data['Bonus %'])\n",
    "plt.xlabel('Annual Salary')\n",
    "plt.ylabel('Bonus %')\n",
    "plt.grid(True)\n",
    "correlation = data['Annual Salary'].corr(data['Bonus %'])\n",
    "plt.annotate(f\"Correlation: {correlation:.2f}\", xy=(0.8, 0.1), xycoords='axes fraction', fontsize=10)\n",
    "\n",
    "plt.show()"
   ]
  },
  {
   "cell_type": "markdown",
   "id": "e20fca2a",
   "metadata": {},
   "source": [
    "The above correlation of '0.92' between 'Annual Salary' and 'Bonus' indicates a strong correlation. It suggests a clear upward trend, as the annual salary increases, bonus percentage also tends to increase. "
   ]
  },
  {
   "cell_type": "markdown",
   "id": "1d567ad5",
   "metadata": {},
   "source": [
    "### Adding a new column called 'Tenure' in the original dataset. "
   ]
  },
  {
   "cell_type": "code",
   "execution_count": 24,
   "id": "50fb0a6f",
   "metadata": {},
   "outputs": [
    {
     "name": "stdout",
     "output_type": "stream",
     "text": [
      "Today's date: 2024-04-30\n"
     ]
    }
   ],
   "source": [
    "from datetime import date\n",
    "\n",
    "today = date.today()\n",
    "print(\"Today's date:\", today)"
   ]
  },
  {
   "cell_type": "code",
   "execution_count": 25,
   "id": "bf7b5c26",
   "metadata": {},
   "outputs": [],
   "source": [
    "data['Tenure'] = data['Exit Date'] - data['Hire Date']"
   ]
  },
  {
   "cell_type": "code",
   "execution_count": 26,
   "id": "205eef76",
   "metadata": {},
   "outputs": [
    {
     "name": "stdout",
     "output_type": "stream",
     "text": [
      "<class 'pandas.core.frame.DataFrame'>\n",
      "RangeIndex: 1000 entries, 0 to 999\n",
      "Data columns (total 15 columns):\n",
      " #   Column         Non-Null Count  Dtype          \n",
      "---  ------         --------------  -----          \n",
      " 0   EEID           1000 non-null   int64          \n",
      " 1   Full Name      1000 non-null   object         \n",
      " 2   Job Title      1000 non-null   object         \n",
      " 3   Department     1000 non-null   object         \n",
      " 4   Business Unit  1000 non-null   object         \n",
      " 5   Gender         1000 non-null   object         \n",
      " 6   Ethnicity      1000 non-null   object         \n",
      " 7   Age            1000 non-null   int64          \n",
      " 8   Hire Date      1000 non-null   datetime64[ns] \n",
      " 9   Annual Salary  1000 non-null   int64          \n",
      " 10  Bonus %        1000 non-null   float64        \n",
      " 11  Country        1000 non-null   object         \n",
      " 12  City           1000 non-null   object         \n",
      " 13  Exit Date      85 non-null     datetime64[ns] \n",
      " 14  Tenure         85 non-null     timedelta64[ns]\n",
      "dtypes: datetime64[ns](2), float64(1), int64(3), object(8), timedelta64[ns](1)\n",
      "memory usage: 117.3+ KB\n"
     ]
    }
   ],
   "source": [
    "data.info()"
   ]
  },
  {
   "cell_type": "code",
   "execution_count": 27,
   "id": "330c6a47",
   "metadata": {},
   "outputs": [
    {
     "name": "stderr",
     "output_type": "stream",
     "text": [
      "C:\\Users\\Deepanshu\\AppData\\Local\\Temp\\ipykernel_26148\\1400650501.py:4: SettingWithCopyWarning: \n",
      "A value is trying to be set on a copy of a slice from a DataFrame\n",
      "\n",
      "See the caveats in the documentation: https://pandas.pydata.org/pandas-docs/stable/user_guide/indexing.html#returning-a-view-versus-a-copy\n",
      "  data['Tenure'][i] = (today - data['Hire Date'][i].date())\n"
     ]
    }
   ],
   "source": [
    "for i in range(len(data['Tenure'])):\n",
    "    if pd.isna(data['Tenure'][i]) == True:\n",
    "#         print(data['Tenure'][i])\n",
    "        data['Tenure'][i] = (today - data['Hire Date'][i].date())"
   ]
  },
  {
   "cell_type": "markdown",
   "id": "2deb700a",
   "metadata": {},
   "source": [
    "_Note: Pandas issues this warning to alert you of a potential pitfall. If you intend to modify the original DataFrame, using a copy can lead to unexpected behavior  because the changes might not be persistent. to fix this warning: use 'data.loc[i, 'Tenure']' instead of 'data['Tenure'][i]'_"
   ]
  },
  {
   "cell_type": "code",
   "execution_count": 28,
   "id": "776573ba",
   "metadata": {},
   "outputs": [],
   "source": [
    "for i in range(len(data)):\n",
    "    data.loc[i, 'Tenure'] = data['Tenure'][i].days"
   ]
  },
  {
   "cell_type": "code",
   "execution_count": 29,
   "id": "1f3c6d6c",
   "metadata": {},
   "outputs": [
    {
     "data": {
      "text/html": [
       "<div>\n",
       "<style scoped>\n",
       "    .dataframe tbody tr th:only-of-type {\n",
       "        vertical-align: middle;\n",
       "    }\n",
       "\n",
       "    .dataframe tbody tr th {\n",
       "        vertical-align: top;\n",
       "    }\n",
       "\n",
       "    .dataframe thead th {\n",
       "        text-align: right;\n",
       "    }\n",
       "</style>\n",
       "<table border=\"1\" class=\"dataframe\">\n",
       "  <thead>\n",
       "    <tr style=\"text-align: right;\">\n",
       "      <th></th>\n",
       "      <th>EEID</th>\n",
       "      <th>Full Name</th>\n",
       "      <th>Job Title</th>\n",
       "      <th>Department</th>\n",
       "      <th>Business Unit</th>\n",
       "      <th>Gender</th>\n",
       "      <th>Ethnicity</th>\n",
       "      <th>Age</th>\n",
       "      <th>Hire Date</th>\n",
       "      <th>Annual Salary</th>\n",
       "      <th>Bonus %</th>\n",
       "      <th>Country</th>\n",
       "      <th>City</th>\n",
       "      <th>Exit Date</th>\n",
       "      <th>Tenure</th>\n",
       "    </tr>\n",
       "  </thead>\n",
       "  <tbody>\n",
       "    <tr>\n",
       "      <th>0</th>\n",
       "      <td>1</td>\n",
       "      <td>Emily Davis</td>\n",
       "      <td>Sr. Manger</td>\n",
       "      <td>IT</td>\n",
       "      <td>Research &amp; Development</td>\n",
       "      <td>Female</td>\n",
       "      <td>Black</td>\n",
       "      <td>55</td>\n",
       "      <td>2016-04-08</td>\n",
       "      <td>141604</td>\n",
       "      <td>0.15</td>\n",
       "      <td>United States</td>\n",
       "      <td>Seattle</td>\n",
       "      <td>2021-10-16</td>\n",
       "      <td>2017</td>\n",
       "    </tr>\n",
       "    <tr>\n",
       "      <th>1</th>\n",
       "      <td>2</td>\n",
       "      <td>Theodore Dinh</td>\n",
       "      <td>Technical Architect</td>\n",
       "      <td>IT</td>\n",
       "      <td>Manufacturing</td>\n",
       "      <td>Male</td>\n",
       "      <td>Asian</td>\n",
       "      <td>59</td>\n",
       "      <td>1997-11-29</td>\n",
       "      <td>99975</td>\n",
       "      <td>0.00</td>\n",
       "      <td>China</td>\n",
       "      <td>Chongqing</td>\n",
       "      <td>NaT</td>\n",
       "      <td>9649</td>\n",
       "    </tr>\n",
       "    <tr>\n",
       "      <th>2</th>\n",
       "      <td>3</td>\n",
       "      <td>Luna Sanders</td>\n",
       "      <td>Director</td>\n",
       "      <td>Finance</td>\n",
       "      <td>Speciality Products</td>\n",
       "      <td>Female</td>\n",
       "      <td>Caucasian</td>\n",
       "      <td>50</td>\n",
       "      <td>2006-10-26</td>\n",
       "      <td>163099</td>\n",
       "      <td>0.20</td>\n",
       "      <td>United States</td>\n",
       "      <td>Chicago</td>\n",
       "      <td>NaT</td>\n",
       "      <td>6396</td>\n",
       "    </tr>\n",
       "    <tr>\n",
       "      <th>3</th>\n",
       "      <td>4</td>\n",
       "      <td>Penelope Jordan</td>\n",
       "      <td>Computer Systems Manager</td>\n",
       "      <td>IT</td>\n",
       "      <td>Manufacturing</td>\n",
       "      <td>Female</td>\n",
       "      <td>Caucasian</td>\n",
       "      <td>26</td>\n",
       "      <td>2019-09-27</td>\n",
       "      <td>84913</td>\n",
       "      <td>0.07</td>\n",
       "      <td>United States</td>\n",
       "      <td>Chicago</td>\n",
       "      <td>NaT</td>\n",
       "      <td>1677</td>\n",
       "    </tr>\n",
       "    <tr>\n",
       "      <th>4</th>\n",
       "      <td>5</td>\n",
       "      <td>Austin Vo</td>\n",
       "      <td>Sr. Analyst</td>\n",
       "      <td>Finance</td>\n",
       "      <td>Manufacturing</td>\n",
       "      <td>Male</td>\n",
       "      <td>Asian</td>\n",
       "      <td>55</td>\n",
       "      <td>1995-11-20</td>\n",
       "      <td>95409</td>\n",
       "      <td>0.00</td>\n",
       "      <td>United States</td>\n",
       "      <td>Phoenix</td>\n",
       "      <td>NaT</td>\n",
       "      <td>10389</td>\n",
       "    </tr>\n",
       "    <tr>\n",
       "      <th>...</th>\n",
       "      <td>...</td>\n",
       "      <td>...</td>\n",
       "      <td>...</td>\n",
       "      <td>...</td>\n",
       "      <td>...</td>\n",
       "      <td>...</td>\n",
       "      <td>...</td>\n",
       "      <td>...</td>\n",
       "      <td>...</td>\n",
       "      <td>...</td>\n",
       "      <td>...</td>\n",
       "      <td>...</td>\n",
       "      <td>...</td>\n",
       "      <td>...</td>\n",
       "      <td>...</td>\n",
       "    </tr>\n",
       "    <tr>\n",
       "      <th>995</th>\n",
       "      <td>996</td>\n",
       "      <td>Wesley Young</td>\n",
       "      <td>Sr. Analyst</td>\n",
       "      <td>Marketing</td>\n",
       "      <td>Speciality Products</td>\n",
       "      <td>Male</td>\n",
       "      <td>Caucasian</td>\n",
       "      <td>33</td>\n",
       "      <td>2016-09-18</td>\n",
       "      <td>98427</td>\n",
       "      <td>0.00</td>\n",
       "      <td>United States</td>\n",
       "      <td>Columbus</td>\n",
       "      <td>NaT</td>\n",
       "      <td>2781</td>\n",
       "    </tr>\n",
       "    <tr>\n",
       "      <th>996</th>\n",
       "      <td>997</td>\n",
       "      <td>Lillian Khan</td>\n",
       "      <td>Analyst</td>\n",
       "      <td>Finance</td>\n",
       "      <td>Speciality Products</td>\n",
       "      <td>Female</td>\n",
       "      <td>Asian</td>\n",
       "      <td>44</td>\n",
       "      <td>2010-05-31</td>\n",
       "      <td>47387</td>\n",
       "      <td>0.00</td>\n",
       "      <td>China</td>\n",
       "      <td>Chengdu</td>\n",
       "      <td>2018-01-08</td>\n",
       "      <td>2779</td>\n",
       "    </tr>\n",
       "    <tr>\n",
       "      <th>997</th>\n",
       "      <td>998</td>\n",
       "      <td>Oliver Yang</td>\n",
       "      <td>Director</td>\n",
       "      <td>Marketing</td>\n",
       "      <td>Speciality Products</td>\n",
       "      <td>Male</td>\n",
       "      <td>Asian</td>\n",
       "      <td>31</td>\n",
       "      <td>2019-06-10</td>\n",
       "      <td>176710</td>\n",
       "      <td>0.15</td>\n",
       "      <td>United States</td>\n",
       "      <td>Miami</td>\n",
       "      <td>NaT</td>\n",
       "      <td>1786</td>\n",
       "    </tr>\n",
       "    <tr>\n",
       "      <th>998</th>\n",
       "      <td>999</td>\n",
       "      <td>Lily Nguyen</td>\n",
       "      <td>Sr. Analyst</td>\n",
       "      <td>Finance</td>\n",
       "      <td>Speciality Products</td>\n",
       "      <td>Female</td>\n",
       "      <td>Asian</td>\n",
       "      <td>33</td>\n",
       "      <td>2012-01-28</td>\n",
       "      <td>95960</td>\n",
       "      <td>0.00</td>\n",
       "      <td>China</td>\n",
       "      <td>Chengdu</td>\n",
       "      <td>NaT</td>\n",
       "      <td>4476</td>\n",
       "    </tr>\n",
       "    <tr>\n",
       "      <th>999</th>\n",
       "      <td>1000</td>\n",
       "      <td>Sofia Cheng</td>\n",
       "      <td>Vice President</td>\n",
       "      <td>Accounting</td>\n",
       "      <td>Corporate</td>\n",
       "      <td>Female</td>\n",
       "      <td>Asian</td>\n",
       "      <td>63</td>\n",
       "      <td>2020-07-26</td>\n",
       "      <td>216195</td>\n",
       "      <td>0.31</td>\n",
       "      <td>United States</td>\n",
       "      <td>Miami</td>\n",
       "      <td>NaT</td>\n",
       "      <td>1374</td>\n",
       "    </tr>\n",
       "  </tbody>\n",
       "</table>\n",
       "<p>1000 rows × 15 columns</p>\n",
       "</div>"
      ],
      "text/plain": [
       "     EEID        Full Name                 Job Title  Department  \\\n",
       "0       1      Emily Davis                Sr. Manger          IT   \n",
       "1       2    Theodore Dinh       Technical Architect          IT   \n",
       "2       3     Luna Sanders                  Director     Finance   \n",
       "3       4  Penelope Jordan  Computer Systems Manager          IT   \n",
       "4       5        Austin Vo               Sr. Analyst     Finance   \n",
       "..    ...              ...                       ...         ...   \n",
       "995   996     Wesley Young               Sr. Analyst   Marketing   \n",
       "996   997     Lillian Khan                   Analyst     Finance   \n",
       "997   998      Oliver Yang                  Director   Marketing   \n",
       "998   999      Lily Nguyen               Sr. Analyst     Finance   \n",
       "999  1000      Sofia Cheng            Vice President  Accounting   \n",
       "\n",
       "              Business Unit  Gender  Ethnicity  Age  Hire Date  Annual Salary  \\\n",
       "0    Research & Development  Female      Black   55 2016-04-08         141604   \n",
       "1             Manufacturing    Male      Asian   59 1997-11-29          99975   \n",
       "2       Speciality Products  Female  Caucasian   50 2006-10-26         163099   \n",
       "3             Manufacturing  Female  Caucasian   26 2019-09-27          84913   \n",
       "4             Manufacturing    Male      Asian   55 1995-11-20          95409   \n",
       "..                      ...     ...        ...  ...        ...            ...   \n",
       "995     Speciality Products    Male  Caucasian   33 2016-09-18          98427   \n",
       "996     Speciality Products  Female      Asian   44 2010-05-31          47387   \n",
       "997     Speciality Products    Male      Asian   31 2019-06-10         176710   \n",
       "998     Speciality Products  Female      Asian   33 2012-01-28          95960   \n",
       "999               Corporate  Female      Asian   63 2020-07-26         216195   \n",
       "\n",
       "     Bonus %        Country       City  Exit Date Tenure  \n",
       "0       0.15  United States    Seattle 2021-10-16   2017  \n",
       "1       0.00          China  Chongqing        NaT   9649  \n",
       "2       0.20  United States    Chicago        NaT   6396  \n",
       "3       0.07  United States    Chicago        NaT   1677  \n",
       "4       0.00  United States    Phoenix        NaT  10389  \n",
       "..       ...            ...        ...        ...    ...  \n",
       "995     0.00  United States   Columbus        NaT   2781  \n",
       "996     0.00          China    Chengdu 2018-01-08   2779  \n",
       "997     0.15  United States      Miami        NaT   1786  \n",
       "998     0.00          China    Chengdu        NaT   4476  \n",
       "999     0.31  United States      Miami        NaT   1374  \n",
       "\n",
       "[1000 rows x 15 columns]"
      ]
     },
     "execution_count": 29,
     "metadata": {},
     "output_type": "execute_result"
    }
   ],
   "source": [
    "data"
   ]
  },
  {
   "cell_type": "markdown",
   "id": "b93c92c8",
   "metadata": {},
   "source": [
    "##### question e1: What is the average tenure of employees in the company?"
   ]
  },
  {
   "cell_type": "code",
   "execution_count": 31,
   "id": "d36e992f",
   "metadata": {},
   "outputs": [
    {
     "name": "stdout",
     "output_type": "stream",
     "text": [
      "Average Tenure is: 4173 days\n"
     ]
    }
   ],
   "source": [
    "data['Tenure'].mean()\n",
    "print(f\"Average Tenure is: {data['Tenure'].mean():.0f} days\")"
   ]
  },
  {
   "cell_type": "markdown",
   "id": "206b464a",
   "metadata": {},
   "source": [
    "##### question e2: Can you identify any patterns in the exit dates of employees?"
   ]
  },
  {
   "cell_type": "markdown",
   "id": "566a03fc",
   "metadata": {},
   "source": [
    "Creating new columns called 'Exit Year' and 'Exit Month' in the dataset."
   ]
  },
  {
   "cell_type": "code",
   "execution_count": 33,
   "id": "ec908362",
   "metadata": {},
   "outputs": [],
   "source": [
    "for i in range(len(data['Exit Date'])):\n",
    "    if pd.isna(data['Exit Date'].dt.year[i]):\n",
    "        pass\n",
    "    else:\n",
    "        data.loc[i, 'Exit Year'] = int(data['Exit Date'].dt.year[i])"
   ]
  },
  {
   "cell_type": "code",
   "execution_count": 34,
   "id": "bf5d235b",
   "metadata": {},
   "outputs": [],
   "source": [
    "for i in range(len(data['Exit Date'])):\n",
    "    if pd.isna(data['Exit Date'].dt.year[i]):\n",
    "        pass\n",
    "    else:\n",
    "        data.loc[i, 'Exit Month'] = int(data['Exit Date'].dt.month[i])"
   ]
  },
  {
   "cell_type": "code",
   "execution_count": 59,
   "id": "934a49f5",
   "metadata": {
    "scrolled": false
   },
   "outputs": [
    {
     "data": {
      "text/plain": [
       "Exit Year\n",
       "1994.0     1\n",
       "1996.0     1\n",
       "1998.0     1\n",
       "2003.0     1\n",
       "2004.0     3\n",
       "2005.0     1\n",
       "2006.0     1\n",
       "2007.0     2\n",
       "2008.0     2\n",
       "2009.0     1\n",
       "2010.0     1\n",
       "2011.0     1\n",
       "2013.0     2\n",
       "2014.0     4\n",
       "2015.0     3\n",
       "2016.0     2\n",
       "2017.0     8\n",
       "2018.0     4\n",
       "2019.0     7\n",
       "2020.0    12\n",
       "2021.0    20\n",
       "2022.0     7\n",
       "Name: EEID, dtype: int64"
      ]
     },
     "execution_count": 59,
     "metadata": {},
     "output_type": "execute_result"
    }
   ],
   "source": [
    "data.groupby(['Exit Year'])['EEID'].count()"
   ]
  },
  {
   "cell_type": "code",
   "execution_count": 52,
   "id": "8d4bc9c3",
   "metadata": {},
   "outputs": [
    {
     "data": {
      "text/plain": [
       "Exit Year  Exit Month\n",
       "1994.0     12.0          1\n",
       "1996.0     12.0          1\n",
       "1998.0     10.0          1\n",
       "2003.0     1.0           1\n",
       "2004.0     5.0           2\n",
       "                        ..\n",
       "2021.0     11.0          1\n",
       "2022.0     4.0           3\n",
       "           5.0           1\n",
       "           6.0           2\n",
       "           8.0           1\n",
       "Name: EEID, Length: 63, dtype: int64"
      ]
     },
     "execution_count": 52,
     "metadata": {},
     "output_type": "execute_result"
    }
   ],
   "source": [
    "data.groupby(['Exit Year', 'Exit Month'])['EEID'].size()"
   ]
  },
  {
   "cell_type": "code",
   "execution_count": 58,
   "id": "983e90d5",
   "metadata": {},
   "outputs": [
    {
     "data": {
      "text/html": [
       "<div>\n",
       "<style scoped>\n",
       "    .dataframe tbody tr th:only-of-type {\n",
       "        vertical-align: middle;\n",
       "    }\n",
       "\n",
       "    .dataframe tbody tr th {\n",
       "        vertical-align: top;\n",
       "    }\n",
       "\n",
       "    .dataframe thead th {\n",
       "        text-align: right;\n",
       "    }\n",
       "</style>\n",
       "<table border=\"1\" class=\"dataframe\">\n",
       "  <thead>\n",
       "    <tr style=\"text-align: right;\">\n",
       "      <th></th>\n",
       "      <th></th>\n",
       "      <th>EEID</th>\n",
       "    </tr>\n",
       "    <tr>\n",
       "      <th>Exit Year</th>\n",
       "      <th>Exit Month</th>\n",
       "      <th></th>\n",
       "    </tr>\n",
       "  </thead>\n",
       "  <tbody>\n",
       "    <tr>\n",
       "      <th rowspan=\"11\" valign=\"top\">2021.0</th>\n",
       "      <th>1.0</th>\n",
       "      <td>2</td>\n",
       "    </tr>\n",
       "    <tr>\n",
       "      <th>2.0</th>\n",
       "      <td>1</td>\n",
       "    </tr>\n",
       "    <tr>\n",
       "      <th>3.0</th>\n",
       "      <td>2</td>\n",
       "    </tr>\n",
       "    <tr>\n",
       "      <th>4.0</th>\n",
       "      <td>2</td>\n",
       "    </tr>\n",
       "    <tr>\n",
       "      <th>5.0</th>\n",
       "      <td>5</td>\n",
       "    </tr>\n",
       "    <tr>\n",
       "      <th>6.0</th>\n",
       "      <td>1</td>\n",
       "    </tr>\n",
       "    <tr>\n",
       "      <th>7.0</th>\n",
       "      <td>2</td>\n",
       "    </tr>\n",
       "    <tr>\n",
       "      <th>8.0</th>\n",
       "      <td>1</td>\n",
       "    </tr>\n",
       "    <tr>\n",
       "      <th>9.0</th>\n",
       "      <td>1</td>\n",
       "    </tr>\n",
       "    <tr>\n",
       "      <th>10.0</th>\n",
       "      <td>2</td>\n",
       "    </tr>\n",
       "    <tr>\n",
       "      <th>11.0</th>\n",
       "      <td>1</td>\n",
       "    </tr>\n",
       "  </tbody>\n",
       "</table>\n",
       "</div>"
      ],
      "text/plain": [
       "                      EEID\n",
       "Exit Year Exit Month      \n",
       "2021.0    1.0            2\n",
       "          2.0            1\n",
       "          3.0            2\n",
       "          4.0            2\n",
       "          5.0            5\n",
       "          6.0            1\n",
       "          7.0            2\n",
       "          8.0            1\n",
       "          9.0            1\n",
       "          10.0           2\n",
       "          11.0           1"
      ]
     },
     "execution_count": 58,
     "metadata": {},
     "output_type": "execute_result"
    }
   ],
   "source": [
    "data[data['Exit Year'] == 2021].groupby(['Exit Year', 'Exit Month'])[['EEID']].count()"
   ]
  },
  {
   "cell_type": "markdown",
   "id": "92086904",
   "metadata": {},
   "source": [
    "##### question e3: Is there any relationship between job title and employee turnover?"
   ]
  },
  {
   "cell_type": "markdown",
   "id": "6d49a329",
   "metadata": {},
   "source": [
    "To explore the relationship between job title and employee turnover, you can calculate the turnover rate for each job title. \n",
    "Turnover rate can be defined as the percentage of employees who have left the company within a certain period of time. "
   ]
  },
  {
   "cell_type": "code",
   "execution_count": 36,
   "id": "abaa9754",
   "metadata": {},
   "outputs": [
    {
     "name": "stdout",
     "output_type": "stream",
     "text": [
      "Job Title\n",
      "Director                          0.141176\n",
      "Sr. Manger                        0.117647\n",
      "Sr. Analyst                       0.094118\n",
      "Manager                           0.058824\n",
      "Analyst II                        0.058824\n",
      "Business Partner                  0.058824\n",
      "Analyst                           0.047059\n",
      "Vice President                    0.047059\n",
      "Account Representative            0.035294\n",
      "Engineering Manager               0.035294\n",
      "Sr. Business Partner              0.035294\n",
      "Computer Systems Manager          0.023529\n",
      "System Administrator              0.023529\n",
      "Quality Engineer                  0.023529\n",
      "Network Engineer                  0.023529\n",
      "Operations Engineer               0.023529\n",
      "HRIS Analyst                      0.023529\n",
      "IT Systems Architect              0.011765\n",
      "Network Administrator             0.011765\n",
      "Test Engineer                     0.011765\n",
      "Technical Architect               0.011765\n",
      "Systems Analyst                   0.011765\n",
      "Automation Engineer               0.011765\n",
      "Field Engineer                    0.011765\n",
      "Development Engineer              0.011765\n",
      "Solutions Architect               0.011765\n",
      "Controls Engineer                 0.011765\n",
      "IT Coordinator                    0.011765\n",
      "Cloud Infrastructure Architect    0.000000\n",
      "Service Desk Analyst              0.000000\n",
      "Enterprise Architect              0.000000\n",
      "Network Architect                 0.000000\n",
      "Sr. Account Representative        0.000000\n",
      "Name: Exit Date, dtype: float64\n"
     ]
    }
   ],
   "source": [
    "turnover_rate_by_job_title = data.groupby('Job Title')['Exit Date'].count() / data.groupby('Job Title')['Exit Date'].count().sum()\n",
    "print(turnover_rate_by_job_title.sort_values(ascending=False))"
   ]
  },
  {
   "cell_type": "markdown",
   "id": "0f7f2e5c",
   "metadata": {},
   "source": [
    "##### question f1: Which city has the highest number of employees?"
   ]
  },
  {
   "cell_type": "code",
   "execution_count": 61,
   "id": "1ce37c7d",
   "metadata": {},
   "outputs": [
    {
     "data": {
      "text/plain": [
       "City\n",
       "Seattle           118\n",
       "Columbus          113\n",
       "Miami             112\n",
       "Phoenix           109\n",
       "Austin             99\n",
       "Chicago            92\n",
       "Chongqing          65\n",
       "Beijing            55\n",
       "Sao Paulo          53\n",
       "Shanghai           52\n",
       "Chengdu            46\n",
       "Rio de Janerio     44\n",
       "Manaus             42\n",
       "dtype: int64"
      ]
     },
     "execution_count": 61,
     "metadata": {},
     "output_type": "execute_result"
    }
   ],
   "source": [
    "data.value_counts('City')"
   ]
  },
  {
   "cell_type": "markdown",
   "id": "737ec90f",
   "metadata": {},
   "source": [
    "##### question f2: Are there differences in salary or bonus percentage based on the country of employment?"
   ]
  },
  {
   "cell_type": "markdown",
   "id": "4e468c4a",
   "metadata": {},
   "source": [
    "To analyze whether there are differences in salary or bonus percentage based on the country of employment, \n",
    "we can calculate summary statistics such as the mean, median, minimum, and maximum for each country. "
   ]
  },
  {
   "cell_type": "code",
   "execution_count": 34,
   "id": "fe6da8a9",
   "metadata": {},
   "outputs": [
    {
     "name": "stdout",
     "output_type": "stream",
     "text": [
      "Summary statistics for salary by country:\n",
      "               count           mean           std      min      25%      50%  \\\n",
      "Country                                                                        \n",
      "Brazil         139.0  112324.834532  53333.949732  40316.0  71405.0  96441.0   \n",
      "China          218.0  113823.532110  51218.915330  41728.0  73901.0  97384.0   \n",
      "United States  643.0  113204.794712  54434.206703  40063.0  70261.5  96313.0   \n",
      "\n",
      "                    75%       max  \n",
      "Country                            \n",
      "Brazil         147053.0  258426.0  \n",
      "China          149143.0  257194.0  \n",
      "United States  151743.0  258498.0  \n",
      "\n",
      "Summary statistics for bonus percentage by country:\n",
      "               count      mean       std  min  25%  50%   75%  max\n",
      "Country                                                           \n",
      "Brazil         139.0  0.086763  0.118280  0.0  0.0  0.0  0.15  0.4\n",
      "China          218.0  0.084954  0.110684  0.0  0.0  0.0  0.14  0.4\n",
      "United States  643.0  0.090327  0.120240  0.0  0.0  0.0  0.15  0.4\n"
     ]
    }
   ],
   "source": [
    "# Calculate summary statistics for salary by country\n",
    "salary_stats_by_country = data.groupby('Country')['Annual Salary'].describe()\n",
    "\n",
    "# Calculate summary statistics for bonus percentage by country\n",
    "bonus_stats_by_country = data.groupby('Country')['Bonus %'].describe()\n",
    "\n",
    "# Display the summary statistics\n",
    "print(\"Summary statistics for salary by country:\")\n",
    "print(salary_stats_by_country)\n",
    "\n",
    "print(\"\\nSummary statistics for bonus percentage by country:\")\n",
    "print(bonus_stats_by_country)"
   ]
  },
  {
   "cell_type": "code",
   "execution_count": 33,
   "id": "a1aa80a7",
   "metadata": {},
   "outputs": [
    {
     "data": {
      "image/png": "[encoded data removed]",
      "text/plain": [
       "<Figure size 864x432 with 1 Axes>"
      ]
     },
     "metadata": {
      "needs_background": "light"
     },
     "output_type": "display_data"
    }
   ],
   "source": [
    "plt.figure(figsize=(12, 6))\n",
    "sns.boxplot(x='Annual Salary', y='Country', data=data)\n",
    "plt.xlabel('Annual Salary')\n",
    "plt.ylabel('Country')\n",
    "plt.title('Salary Distribution by Country')\n",
    "plt.xticks(rotation=45)\n",
    "plt.tight_layout()\n",
    "plt.show()"
   ]
  },
  {
   "cell_type": "code",
   "execution_count": 32,
   "id": "47c3d68d",
   "metadata": {},
   "outputs": [
    {
     "data": {
      "image/png": "[encoded data removed]",
      "text/plain": [
       "<Figure size 864x432 with 1 Axes>"
      ]
     },
     "metadata": {
      "needs_background": "light"
     },
     "output_type": "display_data"
    }
   ],
   "source": [
    "plt.figure(figsize=(12, 6))\n",
    "sns.boxplot(x='Bonus %', y='Country', data=data)\n",
    "plt.xlabel('Bonus Percentage')\n",
    "plt.ylabel('Country')\n",
    "plt.title('Bonus Percentage by Country')\n",
    "plt.xticks(rotation=45)\n",
    "plt.tight_layout()\n",
    "plt.show()"
   ]
  },
  {
   "cell_type": "code",
   "execution_count": 63,
   "id": "362c4f44",
   "metadata": {},
   "outputs": [
    {
     "data": {
      "text/plain": [
       "Index(['EEID', 'Full Name', 'Job Title', 'Department', 'Business Unit',\n",
       "       'Gender', 'Ethnicity', 'Age', 'Hire Date', 'Annual Salary', 'Bonus %',\n",
       "       'Country', 'City', 'Exit Date', 'Tenure', 'Exit Year', 'Exit Month'],\n",
       "      dtype='object')"
      ]
     },
     "execution_count": 63,
     "metadata": {},
     "output_type": "execute_result"
    }
   ],
   "source": [
    "data.columns"
   ]
  },
  {
   "cell_type": "markdown",
   "id": "11f9c491",
   "metadata": {},
   "source": [
    "##### question f3: Do certain cities have higher turnover rates than others?"
   ]
  },
  {
   "cell_type": "code",
   "execution_count": 67,
   "id": "ca941f8a",
   "metadata": {},
   "outputs": [
    {
     "name": "stdout",
     "output_type": "stream",
     "text": [
      "Turnover rate by city:\n",
      "City\n",
      "Miami             15.294118\n",
      "Austin            12.941176\n",
      "Columbus          10.588235\n",
      "Seattle            9.411765\n",
      "Chicago            8.235294\n",
      "Chongqing          8.235294\n",
      "Beijing            7.058824\n",
      "Manaus             5.882353\n",
      "Phoenix            5.882353\n",
      "Chengdu            4.705882\n",
      "Sao Paulo          4.705882\n",
      "Shanghai           4.705882\n",
      "Rio de Janerio     2.352941\n",
      "Name: Exit Date, dtype: float64\n"
     ]
    }
   ],
   "source": [
    "# Calculate turnover rate by city\n",
    "# Define turnover rate as the percentage of employees who have exited the company\n",
    "turnover_rate_by_city = data.groupby('City')['Exit Date'].count() / data.groupby('City')['Exit Date'].count().sum() * 100\n",
    "\n",
    "# Display turnover rate by city\n",
    "print(\"Turnover rate by city:\")\n",
    "print(turnover_rate_by_city.sort_values(ascending=False))"
   ]
  },
  {
   "cell_type": "markdown",
   "id": "0c04da79",
   "metadata": {},
   "source": [
    "##### question g1: How does the salary distribution differ between genders?"
   ]
  },
  {
   "cell_type": "code",
   "execution_count": 89,
   "id": "c69f3d7a",
   "metadata": {},
   "outputs": [
    {
     "data": {
      "image/png": "[encoded data removed]",
      "text/plain": [
       "<Figure size 720x432 with 2 Axes>"
      ]
     },
     "metadata": {
      "needs_background": "light"
     },
     "output_type": "display_data"
    }
   ],
   "source": [
    "import matplotlib.pyplot as plt\n",
    "import seaborn as sns\n",
    "\n",
    "# ploting histogram to draw visualization\n",
    "plt.figure(figsize=(10, 6))\n",
    "plt.subplot(1, 2, 1)\n",
    "plt.hist(data[data['Gender'] == 'Male']['Annual Salary'], bins=25, color='blue', alpha=0.5, label='Male')\n",
    "plt.xlabel('Annual Salary')\n",
    "plt.ylabel('Frequency')\n",
    "plt.ylim(0, 60)\n",
    "plt.title('Salary Distribution for Male')\n",
    "plt.legend()\n",
    "\n",
    "plt.subplot(1, 2, 2)\n",
    "plt.hist(data[data['Gender'] == 'Female']['Annual Salary'], bins=25, color='red', alpha=0.5, label='Female')\n",
    "plt.xlabel('Annual Salary')\n",
    "plt.ylabel('Frequency')\n",
    "plt.ylim(0, 60)\n",
    "plt.title('Salary Distribution Female')\n",
    "plt.legend()\n",
    "\n",
    "plt.show()"
   ]
  },
  {
   "cell_type": "code",
   "execution_count": null,
   "id": "d3bda8e9",
   "metadata": {},
   "outputs": [],
   "source": []
  }
 ],
 "metadata": {
  "kernelspec": {
   "display_name": "Python 3 (ipykernel)",
   "language": "python",
   "name": "python3"
  },
  "language_info": {
   "codemirror_mode": {
    "name": "ipython",
    "version": 3
   },
   "file_extension": ".py",
   "mimetype": "text/x-python",
   "name": "python",
   "nbconvert_exporter": "python",
   "pygments_lexer": "ipython3",
   "version": "3.9.12"
  }
 },
 "nbformat": 4,
 "nbformat_minor": 5
}
