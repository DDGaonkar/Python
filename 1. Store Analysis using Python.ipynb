{
 "cells": [
  {
   "cell_type": "code",
   "execution_count": 2,
   "id": "a3214602",
   "metadata": {},
   "outputs": [
    {
     "name": "stdout",
     "output_type": "stream",
     "text": [
      "Collecting matplotlib-venn\n",
      "  Downloading matplotlib-venn-1.1.2.tar.gz (40 kB)\n",
      "  Installing build dependencies: started\n",
      "  Installing build dependencies: finished with status 'done'\n",
      "  Getting requirements to build wheel: started\n",
      "  Getting requirements to build wheel: finished with status 'done'\n",
      "  Preparing metadata (pyproject.toml): started\n",
      "  Preparing metadata (pyproject.toml): finished with status 'done'\n",
      "Requirement already satisfied: matplotlib in c:\\users\\deepanshu\\anaconda3\\lib\\site-packages (from matplotlib-venn) (3.10.0)\n",
      "Requirement already satisfied: numpy in c:\\users\\deepanshu\\anaconda3\\lib\\site-packages (from matplotlib-venn) (2.1.3)\n",
      "Requirement already satisfied: scipy in c:\\users\\deepanshu\\anaconda3\\lib\\site-packages (from matplotlib-venn) (1.15.3)\n",
      "Requirement already satisfied: contourpy>=1.0.1 in c:\\users\\deepanshu\\anaconda3\\lib\\site-packages (from matplotlib->matplotlib-venn) (1.3.1)\n",
      "Requirement already satisfied: cycler>=0.10 in c:\\users\\deepanshu\\anaconda3\\lib\\site-packages (from matplotlib->matplotlib-venn) (0.11.0)\n",
      "Requirement already satisfied: fonttools>=4.22.0 in c:\\users\\deepanshu\\anaconda3\\lib\\site-packages (from matplotlib->matplotlib-venn) (4.55.3)\n",
      "Requirement already satisfied: kiwisolver>=1.3.1 in c:\\users\\deepanshu\\anaconda3\\lib\\site-packages (from matplotlib->matplotlib-venn) (1.4.8)\n",
      "Requirement already satisfied: packaging>=20.0 in c:\\users\\deepanshu\\anaconda3\\lib\\site-packages (from matplotlib->matplotlib-venn) (24.2)\n",
      "Requirement already satisfied: pillow>=8 in c:\\users\\deepanshu\\anaconda3\\lib\\site-packages (from matplotlib->matplotlib-venn) (11.1.0)\n",
      "Requirement already satisfied: pyparsing>=2.3.1 in c:\\users\\deepanshu\\anaconda3\\lib\\site-packages (from matplotlib->matplotlib-venn) (3.2.0)\n",
      "Requirement already satisfied: python-dateutil>=2.7 in c:\\users\\deepanshu\\anaconda3\\lib\\site-packages (from matplotlib->matplotlib-venn) (2.9.0.post0)\n",
      "Requirement already satisfied: six>=1.5 in c:\\users\\deepanshu\\anaconda3\\lib\\site-packages (from python-dateutil>=2.7->matplotlib->matplotlib-venn) (1.17.0)\n",
      "Building wheels for collected packages: matplotlib-venn\n",
      "  Building wheel for matplotlib-venn (pyproject.toml): started\n",
      "  Building wheel for matplotlib-venn (pyproject.toml): finished with status 'done'\n",
      "  Created wheel for matplotlib-venn: filename=matplotlib_venn-1.1.2-py3-none-any.whl size=45437 sha256=66578f334856ff21cb1a3a0c651c3d8ecdbe860bc739423232b2514529252bcf\n",
      "  Stored in directory: c:\\users\\deepanshu\\appdata\\local\\pip\\cache\\wheels\\d1\\5f\\e6\\771479559f992b8398265ebf61f8a3d33ca0b8f75552e06ad2\n",
      "Successfully built matplotlib-venn\n",
      "Installing collected packages: matplotlib-venn\n",
      "Successfully installed matplotlib-venn-1.1.2\n",
      "Note: you may need to restart the kernel to use updated packages.\n"
     ]
    }
   ],
   "source": [
    "pip install matplotlib-venn"
   ]
  },
  {
   "cell_type": "code",
   "execution_count": null,
   "id": "fd29c692",
   "metadata": {},
   "outputs": [],
   "source": [
    "import pandas as pd\n",
    "import numpy as np\n",
    "import scipy.stats as stats\n",
    "import seaborn as sns\n",
    "import matplotlib.pyplot as plt\n",
    "from matplotlib_venn import venn3"
   ]
  },
  {
   "cell_type": "code",
   "execution_count": null,
   "id": "800443cd",
   "metadata": {},
   "outputs": [],
   "source": [
    "df = pd.read_excel(\"C:/Users/Deepanshu/DA/Python/Superstore Analysis/Superstore dataset.xls\")"
   ]
  },
  {
   "cell_type": "markdown",
   "id": "7fde2cc7",
   "metadata": {},
   "source": [
    "=====================================================\n",
    "====================================================="
   ]
  },
  {
   "cell_type": "markdown",
   "id": "c17429ff",
   "metadata": {},
   "source": [
    "# Data Preprocessing"
   ]
  },
  {
   "cell_type": "markdown",
   "id": "66b0259d",
   "metadata": {},
   "source": [
    "=====================================================\n",
    "====================================================="
   ]
  },
  {
   "cell_type": "code",
   "execution_count": 223,
   "id": "26e81967",
   "metadata": {},
   "outputs": [],
   "source": [
    "LocationLookup = df[['Country', 'Region', 'State', 'City', 'Postal Code'\n",
    "]].sort_values(\n",
    "    by=['Region', 'State', 'City', 'Postal Code'], \n",
    "    ascending=True\n",
    ").drop_duplicates()"
   ]
  },
  {
   "cell_type": "markdown",
   "id": "d422eae9",
   "metadata": {},
   "source": [
    "#### Creating a table 'LocationLookup' to normalize the original dataframe\n",
    "=================================================================================================================="
   ]
  },
  {
   "cell_type": "markdown",
   "id": "3fa06b3d",
   "metadata": {},
   "source": [
    "creating an index column for LocationLookup table"
   ]
  },
  {
   "cell_type": "code",
   "execution_count": 224,
   "id": "b23b9975",
   "metadata": {},
   "outputs": [],
   "source": [
    "# no of digits in the number obtained after finding the number of records\n",
    "zfill_len = len(str(len(LocationLookup)))"
   ]
  },
  {
   "cell_type": "code",
   "execution_count": 225,
   "id": "0d4cd086",
   "metadata": {},
   "outputs": [],
   "source": [
    "LocationLookup['Location Id'] = [\"USA\" + str(i).zfill(zfill_len) for i in range(1, len(LocationLookup) + 1)]"
   ]
  },
  {
   "cell_type": "code",
   "execution_count": 226,
   "id": "0b4e50af",
   "metadata": {},
   "outputs": [],
   "source": [
    "# rearranging the columns\n",
    "LocationLookup = LocationLookup[['Location Id', 'Country', 'Region', 'State', 'City', 'Postal Code']]"
   ]
  },
  {
   "cell_type": "code",
   "execution_count": 227,
   "id": "b8cbe0d2",
   "metadata": {},
   "outputs": [],
   "source": [
    "LocationLookup.reset_index(drop=True, inplace=True)"
   ]
  },
  {
   "cell_type": "code",
   "execution_count": 228,
   "id": "23501f00",
   "metadata": {},
   "outputs": [],
   "source": [
    "# replalcing columns 'Country', 'City', 'Region', 'Postal Code' with 'Location Id'\n",
    "df = pd.merge(\n",
    "    df, \n",
    "    LocationLookup, \n",
    "    on=['Country', 'Region', 'State', 'City', 'Postal Code'], \n",
    "    how='left'\n",
    ")"
   ]
  },
  {
   "cell_type": "code",
   "execution_count": 229,
   "id": "6f4f855d",
   "metadata": {},
   "outputs": [],
   "source": [
    "# dropping unwanted columns to reduce redundancy\n",
    "df = df.drop(['Country', 'Region', 'State', 'City', 'Postal Code'], axis=1)"
   ]
  },
  {
   "cell_type": "code",
   "execution_count": 230,
   "id": "6baaa66b",
   "metadata": {},
   "outputs": [],
   "source": [
    "# rearranging the columns in the dataframe\n",
    "df = df[[\n",
    "    'Order ID', 'Order Date', 'Ship Date', 'Ship Mode', 'Customer ID', 'Customer Name', 'Location Id', 'Segment', \n",
    "    'Product ID', 'Category', 'Sub-Category', 'Product Name', 'Sales', 'Quantity', 'Discount', 'Profit'\n",
    "]]"
   ]
  },
  {
   "cell_type": "markdown",
   "id": "c3122dcb",
   "metadata": {},
   "source": [
    "#### Creating a table 'OrderLookup' to normalize the original dataframe\n",
    "=================================================================================================================="
   ]
  },
  {
   "cell_type": "code",
   "execution_count": 231,
   "id": "3ec7f188",
   "metadata": {},
   "outputs": [
    {
     "data": {
      "text/plain": [
       "Index(['Order ID', 'Order Date', 'Ship Date', 'Ship Mode', 'Customer ID',\n",
       "       'Customer Name', 'Location Id', 'Segment', 'Product ID', 'Category',\n",
       "       'Sub-Category', 'Product Name', 'Sales', 'Quantity', 'Discount',\n",
       "       'Profit'],\n",
       "      dtype='object')"
      ]
     },
     "execution_count": 231,
     "metadata": {},
     "output_type": "execute_result"
    }
   ],
   "source": [
    "df.columns"
   ]
  },
  {
   "cell_type": "code",
   "execution_count": 232,
   "id": "7c39c1a4",
   "metadata": {},
   "outputs": [],
   "source": [
    "OrderLookup = df[['Order ID', 'Order Date', 'Ship Date', 'Ship Mode']].sort_values(by=['Order ID'])"
   ]
  },
  {
   "cell_type": "code",
   "execution_count": 233,
   "id": "cfbcc736",
   "metadata": {},
   "outputs": [],
   "source": [
    "OrderLookup = OrderLookup.drop_duplicates(['Order ID'])"
   ]
  },
  {
   "cell_type": "code",
   "execution_count": 234,
   "id": "3730bb74",
   "metadata": {},
   "outputs": [],
   "source": [
    "OrderLookup.reset_index(drop=True, inplace=True)"
   ]
  },
  {
   "cell_type": "code",
   "execution_count": 235,
   "id": "6ecd41b7",
   "metadata": {},
   "outputs": [],
   "source": [
    "# dropping unnecessary columns from original fact table \n",
    "df = df.drop(['Order Date', 'Ship Date', 'Ship Mode'], axis=1)"
   ]
  },
  {
   "cell_type": "code",
   "execution_count": 236,
   "id": "65c66916",
   "metadata": {},
   "outputs": [
    {
     "name": "stdout",
     "output_type": "stream",
     "text": [
      "<class 'pandas.core.frame.DataFrame'>\n",
      "RangeIndex: 5009 entries, 0 to 5008\n",
      "Data columns (total 4 columns):\n",
      " #   Column      Non-Null Count  Dtype         \n",
      "---  ------      --------------  -----         \n",
      " 0   Order ID    5009 non-null   object        \n",
      " 1   Order Date  5009 non-null   datetime64[ns]\n",
      " 2   Ship Date   5009 non-null   datetime64[ns]\n",
      " 3   Ship Mode   5009 non-null   object        \n",
      "dtypes: datetime64[ns](2), object(2)\n",
      "memory usage: 156.7+ KB\n"
     ]
    }
   ],
   "source": [
    "OrderLookup.info()"
   ]
  },
  {
   "cell_type": "code",
   "execution_count": 237,
   "id": "6628e9ea",
   "metadata": {},
   "outputs": [
    {
     "data": {
      "text/plain": [
       "array(['Standard Class', 'Second Class', 'First Class', 'Same Day'],\n",
       "      dtype=object)"
      ]
     },
     "execution_count": 237,
     "metadata": {},
     "output_type": "execute_result"
    }
   ],
   "source": [
    "OrderLookup['Ship Mode'].unique()"
   ]
  },
  {
   "cell_type": "code",
   "execution_count": null,
   "id": "9f2e9b77",
   "metadata": {},
   "outputs": [],
   "source": []
  },
  {
   "cell_type": "code",
   "execution_count": null,
   "id": "8522cfb7",
   "metadata": {},
   "outputs": [],
   "source": []
  },
  {
   "cell_type": "markdown",
   "id": "699ab43a",
   "metadata": {},
   "source": [
    "#### Creating a table 'CustomerLookup' to normalize the original dataframe\n",
    "=================================================================================================================="
   ]
  },
  {
   "cell_type": "code",
   "execution_count": 238,
   "id": "89325623",
   "metadata": {},
   "outputs": [
    {
     "data": {
      "text/plain": [
       "Index(['Order ID', 'Customer ID', 'Customer Name', 'Location Id', 'Segment',\n",
       "       'Product ID', 'Category', 'Sub-Category', 'Product Name', 'Sales',\n",
       "       'Quantity', 'Discount', 'Profit'],\n",
       "      dtype='object')"
      ]
     },
     "execution_count": 238,
     "metadata": {},
     "output_type": "execute_result"
    }
   ],
   "source": [
    "df.columns"
   ]
  },
  {
   "cell_type": "code",
   "execution_count": 239,
   "id": "eb0a35b6",
   "metadata": {},
   "outputs": [],
   "source": [
    "CustomerLookup = df[['Customer ID', 'Customer Name']].sort_values(by=['Customer ID']).drop_duplicates(['Customer ID'])"
   ]
  },
  {
   "cell_type": "code",
   "execution_count": 240,
   "id": "f97829ce",
   "metadata": {},
   "outputs": [],
   "source": [
    "CustomerLookup.reset_index(drop=True, inplace=True)"
   ]
  },
  {
   "cell_type": "code",
   "execution_count": 241,
   "id": "d9570eac",
   "metadata": {},
   "outputs": [],
   "source": [
    "# dropping unnecessary ccolumns from original fact table\n",
    "df = df.drop(['Customer Name'], axis=1)"
   ]
  },
  {
   "cell_type": "markdown",
   "id": "cb9b970b",
   "metadata": {},
   "source": [
    "#### Creating a table 'ProductLookup' to normalize the original dataframe\n",
    "=================================================================================================================="
   ]
  },
  {
   "cell_type": "code",
   "execution_count": 242,
   "id": "1fdf091f",
   "metadata": {},
   "outputs": [
    {
     "data": {
      "text/plain": [
       "Index(['Order ID', 'Customer ID', 'Location Id', 'Segment', 'Product ID',\n",
       "       'Category', 'Sub-Category', 'Product Name', 'Sales', 'Quantity',\n",
       "       'Discount', 'Profit'],\n",
       "      dtype='object')"
      ]
     },
     "execution_count": 242,
     "metadata": {},
     "output_type": "execute_result"
    }
   ],
   "source": [
    "df.columns"
   ]
  },
  {
   "cell_type": "code",
   "execution_count": 243,
   "id": "06ede669",
   "metadata": {},
   "outputs": [],
   "source": [
    "ProductLookup = df[['Product ID', 'Product Name', 'Category', 'Sub-Category']].sort_values(\n",
    "    by=['Product ID']\n",
    ").drop_duplicates()"
   ]
  },
  {
   "cell_type": "code",
   "execution_count": 244,
   "id": "a36e4005",
   "metadata": {},
   "outputs": [],
   "source": [
    "# resetting index values\n",
    "ProductLookup.reset_index(drop=True, inplace=True)"
   ]
  },
  {
   "cell_type": "code",
   "execution_count": 245,
   "id": "beb913fc",
   "metadata": {},
   "outputs": [],
   "source": [
    "# dropping unnecessary columns from the original fact table\n",
    "df.drop(\n",
    "    columns=['Category', 'Sub-Category', 'Product Name'], \n",
    "    axis=1, \n",
    "    inplace=True\n",
    ")"
   ]
  },
  {
   "cell_type": "code",
   "execution_count": 246,
   "id": "5f4484ad",
   "metadata": {},
   "outputs": [],
   "source": [
    "conditions = [\n",
    "    df['Profit'] > 0, \n",
    "    df['Profit']  == 0, \n",
    "    df['Profit'] < 0\n",
    "]\n",
    "\n",
    "choices = [\n",
    "    'Profit', \n",
    "    'None', \n",
    "    'Loss'\n",
    "]\n",
    "\n",
    "df['Profit Or Loss'] = np.select(conditions, choices)"
   ]
  },
  {
   "cell_type": "code",
   "execution_count": 247,
   "id": "2ab95072",
   "metadata": {},
   "outputs": [],
   "source": [
    "TransactionTable = df"
   ]
  },
  {
   "cell_type": "code",
   "execution_count": 248,
   "id": "7116af59",
   "metadata": {},
   "outputs": [],
   "source": [
    "TransactionTable.drop_duplicates(inplace=True)"
   ]
  },
  {
   "cell_type": "code",
   "execution_count": 249,
   "id": "da2d4b45",
   "metadata": {},
   "outputs": [],
   "source": [
    "TransactionTable['Sales'] = round(TransactionTable['Sales'], 2)\n",
    "TransactionTable['Profit'] = round(TransactionTable['Profit'], 2)"
   ]
  },
  {
   "cell_type": "code",
   "execution_count": 250,
   "id": "f189ac72",
   "metadata": {},
   "outputs": [
    {
     "name": "stdout",
     "output_type": "stream",
     "text": [
      "<class 'pandas.core.frame.DataFrame'>\n",
      "Int64Index: 9993 entries, 0 to 9993\n",
      "Data columns (total 10 columns):\n",
      " #   Column          Non-Null Count  Dtype  \n",
      "---  ------          --------------  -----  \n",
      " 0   Order ID        9993 non-null   object \n",
      " 1   Customer ID     9993 non-null   object \n",
      " 2   Location Id     9993 non-null   object \n",
      " 3   Segment         9993 non-null   object \n",
      " 4   Product ID      9993 non-null   object \n",
      " 5   Sales           9993 non-null   float64\n",
      " 6   Quantity        9993 non-null   int64  \n",
      " 7   Discount        9993 non-null   float64\n",
      " 8   Profit          9993 non-null   float64\n",
      " 9   Profit Or Loss  9993 non-null   object \n",
      "dtypes: float64(3), int64(1), object(6)\n",
      "memory usage: 858.8+ KB\n"
     ]
    }
   ],
   "source": [
    "TransactionTable.info()"
   ]
  },
  {
   "cell_type": "markdown",
   "id": "9f70fb2a",
   "metadata": {},
   "source": [
    "=====================================================\n",
    "====================================================="
   ]
  },
  {
   "cell_type": "markdown",
   "id": "0e77fcc0",
   "metadata": {},
   "source": [
    "# Key Performance Indicators"
   ]
  },
  {
   "cell_type": "markdown",
   "id": "c936a2bd",
   "metadata": {},
   "source": [
    "=====================================================\n",
    "====================================================="
   ]
  },
  {
   "cell_type": "markdown",
   "id": "401e05ba",
   "metadata": {},
   "source": [
    "##### Total Sales\n",
    "=================================================================================================================="
   ]
  },
  {
   "cell_type": "code",
   "execution_count": 251,
   "id": "7b02c17c",
   "metadata": {},
   "outputs": [
    {
     "name": "stdout",
     "output_type": "stream",
     "text": [
      "Total Sales: $2296919.37\n"
     ]
    }
   ],
   "source": [
    "result = TransactionTable[['Sales']].sum().values[0]\n",
    "print(\"Total Sales: ${}\" .format(round(result, 2)))"
   ]
  },
  {
   "cell_type": "markdown",
   "id": "e373944c",
   "metadata": {},
   "source": [
    "##### Total Profit\n",
    "=================================================================================================================="
   ]
  },
  {
   "cell_type": "code",
   "execution_count": 252,
   "id": "f8538372",
   "metadata": {},
   "outputs": [
    {
     "name": "stdout",
     "output_type": "stream",
     "text": [
      "Total Profit: $442527.59\n"
     ]
    }
   ],
   "source": [
    "result = TransactionTable[\n",
    "    TransactionTable['Profit Or Loss'] == \"Profit\"\n",
    "][['Profit']].sum().values[0]\n",
    "\n",
    "print(\"Total Profit: ${}\" .format(round(result, 2)))"
   ]
  },
  {
   "cell_type": "markdown",
   "id": "8c310e75",
   "metadata": {},
   "source": [
    "##### Profit or Loss distribution\n",
    "=================================================================================================================="
   ]
  },
  {
   "cell_type": "markdown",
   "id": "152527d4",
   "metadata": {},
   "source": [
    "Profit and Loss distribution by number of transactions"
   ]
  },
  {
   "cell_type": "code",
   "execution_count": 253,
   "id": "7ea56116",
   "metadata": {},
   "outputs": [],
   "source": [
    "total_transactions = len(TransactionTable)\n",
    "profit_transactions = len(TransactionTable[TransactionTable['Profit Or Loss'] == \"Profit\"])\n",
    "loss_transactions = len(TransactionTable[TransactionTable['Profit Or Loss'] == \"Loss\"])\n",
    "none_transactions = len(TransactionTable[TransactionTable['Profit Or Loss'] == \"None\"])\n",
    "\n",
    "profit_percent = profit_transactions/total_transactions*100\n",
    "loss_percent = loss_transactions/total_transactions*100\n",
    "none_percent = none_transactions/total_transactions*100"
   ]
  },
  {
   "cell_type": "code",
   "execution_count": 254,
   "id": "ec5f71ee",
   "metadata": {
    "scrolled": true
   },
   "outputs": [
    {
     "name": "stdout",
     "output_type": "stream",
     "text": [
      "  Transaction Type      Count\n",
      "0           Profit  80.636446\n",
      "1             Loss  18.713099\n",
      "2             None   0.650455\n"
     ]
    }
   ],
   "source": [
    "import pandas as pd\n",
    "\n",
    "distribution = pd.DataFrame({\n",
    "    'Transaction Type': ['Profit', 'Loss', 'None'],\n",
    "    'Count': [profit_percent, loss_percent, none_percent]\n",
    "})\n",
    "\n",
    "print(distribution)\n"
   ]
  },
  {
   "cell_type": "code",
   "execution_count": 255,
   "id": "1577d515",
   "metadata": {},
   "outputs": [
    {
     "data": {
      "image/png": "[encoded data removed]",
      "text/plain": [
       "<Figure size 576x432 with 1 Axes>"
      ]
     },
     "metadata": {},
     "output_type": "display_data"
    }
   ],
   "source": [
    "import matplotlib.pyplot as plt\n",
    "import seaborn as sns\n",
    "\n",
    "# Pie Chart\n",
    "plt.figure(figsize=(8, 6)) # 1. Set the figure size\n",
    "plt.pie(\n",
    "    distribution['Count'], # 2. Values that determine the size of each slice\n",
    "    labels=distribution['Transaction Type'], # 3. Labels for each slice\n",
    "    autopct='%1.1f%%', # 4. Format to display % values on slices\n",
    "    startangle=90, # 5. Rotate the start of the first slice\n",
    "    colors=sns.color_palette('pastel')) # 6. Use pastel colors from Seaborn\n",
    "plt.title('Transaction Distribution')\n",
    "plt.show()\n"
   ]
  },
  {
   "cell_type": "markdown",
   "id": "12b71f95",
   "metadata": {},
   "source": [
    "##### Order distribution by Product Category\n",
    "=================================================================================================================="
   ]
  },
  {
   "cell_type": "code",
   "execution_count": 257,
   "id": "be750196",
   "metadata": {},
   "outputs": [],
   "source": [
    "df = pd.merge(\n",
    "    TransactionTable, \n",
    "    ProductLookup, \n",
    "    on='Product ID', \n",
    "    how=\"left\"\n",
    ")"
   ]
  },
  {
   "cell_type": "code",
   "execution_count": 258,
   "id": "601f8fe1",
   "metadata": {},
   "outputs": [
    {
     "data": {
      "text/plain": [
       "array(['Furniture', 'Office Supplies', 'Technology'], dtype=object)"
      ]
     },
     "execution_count": 258,
     "metadata": {},
     "output_type": "execute_result"
    }
   ],
   "source": [
    "df['Category'].unique()"
   ]
  },
  {
   "cell_type": "code",
   "execution_count": 259,
   "id": "288d41d5",
   "metadata": {},
   "outputs": [],
   "source": [
    "# creating set of Order IDs per Category\n",
    "furniture_orders = set(\n",
    "    df[df['Category'] == \"Furniture\"]['Order ID']\n",
    ")\n",
    "\n",
    "office_orders = set(\n",
    "    df[df['Category'] == \"Office Supplies\"]['Order ID']\n",
    ")\n",
    "\n",
    "technology_orders = set(\n",
    "    df[df['Category'] == \"Technology\"]['Order ID']\n",
    ")"
   ]
  },
  {
   "cell_type": "code",
   "execution_count": null,
   "id": "af241578",
   "metadata": {},
   "outputs": [],
   "source": []
  },
  {
   "cell_type": "code",
   "execution_count": 260,
   "id": "964991f9",
   "metadata": {},
   "outputs": [
    {
     "data": {
      "image/png": "[encoded data removed]",
      "text/plain": [
       "<Figure size 576x432 with 1 Axes>"
      ]
     },
     "metadata": {},
     "output_type": "display_data"
    }
   ],
   "source": [
    "# plotting the venn diagram\n",
    "plt.figure(figsize=(8, 6))\n",
    "venn3(\n",
    "    [furniture_orders, office_orders, technology_orders], \n",
    "    set_labels=('Furniture', 'Office Supplies', 'Technology')\n",
    ")\n",
    "plt.title(\"Overlap of Orders Between Categories\")\n",
    "plt.show()"
   ]
  },
  {
   "cell_type": "code",
   "execution_count": null,
   "id": "afc3d37a",
   "metadata": {},
   "outputs": [],
   "source": []
  },
  {
   "cell_type": "markdown",
   "id": "40d46005",
   "metadata": {},
   "source": [
    "=====================================================\n",
    "====================================================="
   ]
  },
  {
   "cell_type": "markdown",
   "id": "b5c121e5",
   "metadata": {},
   "source": [
    "# Time Based Analysis"
   ]
  },
  {
   "cell_type": "markdown",
   "id": "15a8c81b",
   "metadata": {},
   "source": [
    "=====================================================\n",
    "====================================================="
   ]
  },
  {
   "cell_type": "code",
   "execution_count": null,
   "id": "ea99a047",
   "metadata": {},
   "outputs": [],
   "source": []
  },
  {
   "cell_type": "markdown",
   "id": "9963e6ef",
   "metadata": {},
   "source": [
    "##### Total Sales by each year\n",
    "=================================================================================================================="
   ]
  },
  {
   "cell_type": "code",
   "execution_count": 262,
   "id": "42f5879e",
   "metadata": {},
   "outputs": [],
   "source": [
    "df = pd.merge(\n",
    "    TransactionTable, \n",
    "    OrderLookup, \n",
    "    on='Order ID', \n",
    "    how=\"left\"\n",
    ")"
   ]
  },
  {
   "cell_type": "code",
   "execution_count": 263,
   "id": "b7f2c44c",
   "metadata": {},
   "outputs": [],
   "source": [
    "# adding a new column for Year\n",
    "df['Year'] = df['Order Date'].dt.year"
   ]
  },
  {
   "cell_type": "code",
   "execution_count": 264,
   "id": "f6a596f4",
   "metadata": {},
   "outputs": [],
   "source": [
    "df = df.groupby(['Year'])['Sales'].sum().reset_index()"
   ]
  },
  {
   "cell_type": "code",
   "execution_count": 265,
   "id": "91d61c0e",
   "metadata": {},
   "outputs": [
    {
     "data": {
      "image/png": "[encoded data removed]",
      "text/plain": [
       "<Figure size 576x432 with 1 Axes>"
      ]
     },
     "metadata": {},
     "output_type": "display_data"
    }
   ],
   "source": [
    "plt.figure(figsize=(8, 6))\n",
    "plt.bar(\n",
    "    df['Year'], \n",
    "    df['Sales'], \n",
    "    color=\"skyblue\"\n",
    ")\n",
    "plt.xlabel(\"Year\")\n",
    "plt.ylabel(\"Total Sales\")\n",
    "plt.title(\"Total Sales per year\")\n",
    "plt.xticks(df['Year'])\n",
    "plt.show()"
   ]
  },
  {
   "cell_type": "markdown",
   "id": "5ebf1bcf",
   "metadata": {},
   "source": [
    "##### YOY Sales growth\n",
    "=================================================================================================================="
   ]
  },
  {
   "cell_type": "code",
   "execution_count": 267,
   "id": "4c29e1a5",
   "metadata": {},
   "outputs": [],
   "source": [
    "df['YOY Sales Growth %'] = \"\" * len(df)"
   ]
  },
  {
   "cell_type": "code",
   "execution_count": 268,
   "id": "7c1c9d1b",
   "metadata": {},
   "outputs": [
    {
     "name": "stderr",
     "output_type": "stream",
     "text": [
      "C:\\Users\\Deepanshu\\AppData\\Local\\Temp\\ipykernel_31488\\675309080.py:2: SettingWithCopyWarning: \n",
      "A value is trying to be set on a copy of a slice from a DataFrame\n",
      "\n",
      "See the caveats in the documentation: https://pandas.pydata.org/pandas-docs/stable/user_guide/indexing.html#returning-a-view-versus-a-copy\n",
      "  df['YOY Sales Growth %'][i] = (df['Sales'][i] - df['Sales'][i-1])/df['Sales'][i-1] * 100\n"
     ]
    }
   ],
   "source": [
    "for i in range(1, len(df)):\n",
    "    df['YOY Sales Growth %'][i] = (df['Sales'][i] - df['Sales'][i-1])/df['Sales'][i-1] * 100"
   ]
  },
  {
   "cell_type": "code",
   "execution_count": 269,
   "id": "1a1b15d2",
   "metadata": {},
   "outputs": [
    {
     "data": {
      "text/html": [
       "<div>\n",
       "<style scoped>\n",
       "    .dataframe tbody tr th:only-of-type {\n",
       "        vertical-align: middle;\n",
       "    }\n",
       "\n",
       "    .dataframe tbody tr th {\n",
       "        vertical-align: top;\n",
       "    }\n",
       "\n",
       "    .dataframe thead th {\n",
       "        text-align: right;\n",
       "    }\n",
       "</style>\n",
       "<table border=\"1\" class=\"dataframe\">\n",
       "  <thead>\n",
       "    <tr style=\"text-align: right;\">\n",
       "      <th></th>\n",
       "      <th>Year</th>\n",
       "      <th>Sales</th>\n",
       "      <th>YOY Sales Growth %</th>\n",
       "    </tr>\n",
       "  </thead>\n",
       "  <tbody>\n",
       "    <tr>\n",
       "      <th>0</th>\n",
       "      <td>2014</td>\n",
       "      <td>483966.14</td>\n",
       "      <td></td>\n",
       "    </tr>\n",
       "    <tr>\n",
       "      <th>1</th>\n",
       "      <td>2015</td>\n",
       "      <td>470532.39</td>\n",
       "      <td>-2.775762</td>\n",
       "    </tr>\n",
       "    <tr>\n",
       "      <th>2</th>\n",
       "      <td>2016</td>\n",
       "      <td>609205.74</td>\n",
       "      <td>29.471584</td>\n",
       "    </tr>\n",
       "    <tr>\n",
       "      <th>3</th>\n",
       "      <td>2017</td>\n",
       "      <td>733215.10</td>\n",
       "      <td>20.355908</td>\n",
       "    </tr>\n",
       "  </tbody>\n",
       "</table>\n",
       "</div>"
      ],
      "text/plain": [
       "   Year      Sales YOY Sales Growth %\n",
       "0  2014  483966.14                   \n",
       "1  2015  470532.39          -2.775762\n",
       "2  2016  609205.74          29.471584\n",
       "3  2017  733215.10          20.355908"
      ]
     },
     "execution_count": 269,
     "metadata": {},
     "output_type": "execute_result"
    }
   ],
   "source": [
    "df"
   ]
  },
  {
   "cell_type": "markdown",
   "id": "68216d63",
   "metadata": {},
   "source": [
    "##### Time required for each shipping mode\n",
    "=================================================================================================================="
   ]
  },
  {
   "cell_type": "code",
   "execution_count": 282,
   "id": "e8af6448",
   "metadata": {},
   "outputs": [],
   "source": [
    "df = pd.merge(\n",
    "    TransactionTable, \n",
    "    OrderLookup, \n",
    "    on='Order ID', \n",
    "    how=\"left\"\n",
    ")"
   ]
  },
  {
   "cell_type": "code",
   "execution_count": 284,
   "id": "73f4c65f",
   "metadata": {},
   "outputs": [],
   "source": [
    "# extract year and month\n",
    "df['Year'] = df['Order Date'].dt.year\n",
    "df['Month'] = df['Order Date'].dt.month"
   ]
  },
  {
   "cell_type": "code",
   "execution_count": 288,
   "id": "be4ae46f",
   "metadata": {},
   "outputs": [],
   "source": [
    "monthly_sales = df.groupby(['Year', 'Month'])['Sales'].sum().reset_index()"
   ]
  },
  {
   "cell_type": "code",
   "execution_count": 300,
   "id": "e80c36aa",
   "metadata": {},
   "outputs": [
    {
     "data": {
      "image/png": "[encoded data removed]",
      "text/plain": [
       "<Figure size 1008x576 with 1 Axes>"
      ]
     },
     "metadata": {},
     "output_type": "display_data"
    }
   ],
   "source": [
    "sns.set_style(\"whitegrid\")\n",
    "\n",
    "# plot\n",
    "plt.figure(figsize=(14, 8))\n",
    "\n",
    "sns.lineplot(\n",
    "    data = monthly_sales, \n",
    "    x = \"Month\", \n",
    "    y = \"Sales\", \n",
    "    hue = \"Year\", \n",
    "    marker = \"o\", \n",
    "    palette = \"pastel\"\n",
    ")\n",
    "\n",
    "plt.title(\n",
    "    \"Month-wise sales analysis for each year\", \n",
    "    fontsize = 14\n",
    ")\n",
    "\n",
    "plt.xlabel(\n",
    "    \"Month\", \n",
    "    fontsize = 14\n",
    ")\n",
    "\n",
    "plt.ylabel(\n",
    "    \"Total Sales\", \n",
    "    fontsize = 14\n",
    ")\n",
    "\n",
    "plt.xticks(\n",
    "    ticks = range(1, 13)\n",
    ")\n",
    "\n",
    "plt.legend(\n",
    "    title = \"Year\"\n",
    ")\n",
    "\n",
    "plt.show()"
   ]
  },
  {
   "cell_type": "code",
   "execution_count": null,
   "id": "79d4d653",
   "metadata": {},
   "outputs": [],
   "source": []
  },
  {
   "cell_type": "markdown",
   "id": "dfb55cf3",
   "metadata": {},
   "source": [
    "##### Time required for each shipping mode\n",
    "=================================================================================================================="
   ]
  },
  {
   "cell_type": "code",
   "execution_count": 270,
   "id": "b7511f4f",
   "metadata": {},
   "outputs": [
    {
     "data": {
      "text/html": [
       "<div>\n",
       "<style scoped>\n",
       "    .dataframe tbody tr th:only-of-type {\n",
       "        vertical-align: middle;\n",
       "    }\n",
       "\n",
       "    .dataframe tbody tr th {\n",
       "        vertical-align: top;\n",
       "    }\n",
       "\n",
       "    .dataframe thead th {\n",
       "        text-align: right;\n",
       "    }\n",
       "</style>\n",
       "<table border=\"1\" class=\"dataframe\">\n",
       "  <thead>\n",
       "    <tr style=\"text-align: right;\">\n",
       "      <th></th>\n",
       "      <th>Order ID</th>\n",
       "      <th>Order Date</th>\n",
       "      <th>Ship Date</th>\n",
       "      <th>Ship Mode</th>\n",
       "    </tr>\n",
       "  </thead>\n",
       "  <tbody>\n",
       "    <tr>\n",
       "      <th>0</th>\n",
       "      <td>CA-2014-100006</td>\n",
       "      <td>2014-09-07</td>\n",
       "      <td>2014-09-13</td>\n",
       "      <td>Standard Class</td>\n",
       "    </tr>\n",
       "    <tr>\n",
       "      <th>1</th>\n",
       "      <td>CA-2014-100090</td>\n",
       "      <td>2014-07-08</td>\n",
       "      <td>2014-07-12</td>\n",
       "      <td>Standard Class</td>\n",
       "    </tr>\n",
       "    <tr>\n",
       "      <th>2</th>\n",
       "      <td>CA-2014-100293</td>\n",
       "      <td>2014-03-14</td>\n",
       "      <td>2014-03-18</td>\n",
       "      <td>Standard Class</td>\n",
       "    </tr>\n",
       "    <tr>\n",
       "      <th>3</th>\n",
       "      <td>CA-2014-100328</td>\n",
       "      <td>2014-01-28</td>\n",
       "      <td>2014-02-03</td>\n",
       "      <td>Standard Class</td>\n",
       "    </tr>\n",
       "    <tr>\n",
       "      <th>4</th>\n",
       "      <td>CA-2014-100363</td>\n",
       "      <td>2014-04-08</td>\n",
       "      <td>2014-04-15</td>\n",
       "      <td>Standard Class</td>\n",
       "    </tr>\n",
       "    <tr>\n",
       "      <th>...</th>\n",
       "      <td>...</td>\n",
       "      <td>...</td>\n",
       "      <td>...</td>\n",
       "      <td>...</td>\n",
       "    </tr>\n",
       "    <tr>\n",
       "      <th>5004</th>\n",
       "      <td>US-2017-168802</td>\n",
       "      <td>2017-11-03</td>\n",
       "      <td>2017-11-07</td>\n",
       "      <td>Standard Class</td>\n",
       "    </tr>\n",
       "    <tr>\n",
       "      <th>5005</th>\n",
       "      <td>US-2017-169320</td>\n",
       "      <td>2017-07-23</td>\n",
       "      <td>2017-07-25</td>\n",
       "      <td>Second Class</td>\n",
       "    </tr>\n",
       "    <tr>\n",
       "      <th>5006</th>\n",
       "      <td>US-2017-169488</td>\n",
       "      <td>2017-09-07</td>\n",
       "      <td>2017-09-09</td>\n",
       "      <td>First Class</td>\n",
       "    </tr>\n",
       "    <tr>\n",
       "      <th>5007</th>\n",
       "      <td>US-2017-169502</td>\n",
       "      <td>2017-08-28</td>\n",
       "      <td>2017-09-01</td>\n",
       "      <td>Standard Class</td>\n",
       "    </tr>\n",
       "    <tr>\n",
       "      <th>5008</th>\n",
       "      <td>US-2017-169551</td>\n",
       "      <td>2017-07-07</td>\n",
       "      <td>2017-07-09</td>\n",
       "      <td>First Class</td>\n",
       "    </tr>\n",
       "  </tbody>\n",
       "</table>\n",
       "<p>5009 rows × 4 columns</p>\n",
       "</div>"
      ],
      "text/plain": [
       "            Order ID Order Date  Ship Date       Ship Mode\n",
       "0     CA-2014-100006 2014-09-07 2014-09-13  Standard Class\n",
       "1     CA-2014-100090 2014-07-08 2014-07-12  Standard Class\n",
       "2     CA-2014-100293 2014-03-14 2014-03-18  Standard Class\n",
       "3     CA-2014-100328 2014-01-28 2014-02-03  Standard Class\n",
       "4     CA-2014-100363 2014-04-08 2014-04-15  Standard Class\n",
       "...              ...        ...        ...             ...\n",
       "5004  US-2017-168802 2017-11-03 2017-11-07  Standard Class\n",
       "5005  US-2017-169320 2017-07-23 2017-07-25    Second Class\n",
       "5006  US-2017-169488 2017-09-07 2017-09-09     First Class\n",
       "5007  US-2017-169502 2017-08-28 2017-09-01  Standard Class\n",
       "5008  US-2017-169551 2017-07-07 2017-07-09     First Class\n",
       "\n",
       "[5009 rows x 4 columns]"
      ]
     },
     "execution_count": 270,
     "metadata": {},
     "output_type": "execute_result"
    }
   ],
   "source": [
    "OrderLookup"
   ]
  },
  {
   "cell_type": "code",
   "execution_count": 271,
   "id": "d1abecd1",
   "metadata": {},
   "outputs": [],
   "source": [
    "df = OrderLookup[['Ship Mode', 'Order Date', 'Ship Date']]"
   ]
  },
  {
   "cell_type": "code",
   "execution_count": 272,
   "id": "732be1ee",
   "metadata": {},
   "outputs": [],
   "source": [
    "df['Shipping Period'] = df['Ship Date'] - df['Order Date']"
   ]
  },
  {
   "cell_type": "code",
   "execution_count": 273,
   "id": "0c1d134e",
   "metadata": {},
   "outputs": [
    {
     "data": {
      "text/html": [
       "<div>\n",
       "<style scoped>\n",
       "    .dataframe tbody tr th:only-of-type {\n",
       "        vertical-align: middle;\n",
       "    }\n",
       "\n",
       "    .dataframe tbody tr th {\n",
       "        vertical-align: top;\n",
       "    }\n",
       "\n",
       "    .dataframe thead th {\n",
       "        text-align: right;\n",
       "    }\n",
       "</style>\n",
       "<table border=\"1\" class=\"dataframe\">\n",
       "  <thead>\n",
       "    <tr style=\"text-align: right;\">\n",
       "      <th></th>\n",
       "      <th>Ship Mode</th>\n",
       "      <th>Order Date</th>\n",
       "      <th>Ship Date</th>\n",
       "      <th>Shipping Period</th>\n",
       "    </tr>\n",
       "  </thead>\n",
       "  <tbody>\n",
       "    <tr>\n",
       "      <th>0</th>\n",
       "      <td>Standard Class</td>\n",
       "      <td>2014-09-07</td>\n",
       "      <td>2014-09-13</td>\n",
       "      <td>6 days</td>\n",
       "    </tr>\n",
       "    <tr>\n",
       "      <th>1</th>\n",
       "      <td>Standard Class</td>\n",
       "      <td>2014-07-08</td>\n",
       "      <td>2014-07-12</td>\n",
       "      <td>4 days</td>\n",
       "    </tr>\n",
       "    <tr>\n",
       "      <th>2</th>\n",
       "      <td>Standard Class</td>\n",
       "      <td>2014-03-14</td>\n",
       "      <td>2014-03-18</td>\n",
       "      <td>4 days</td>\n",
       "    </tr>\n",
       "    <tr>\n",
       "      <th>3</th>\n",
       "      <td>Standard Class</td>\n",
       "      <td>2014-01-28</td>\n",
       "      <td>2014-02-03</td>\n",
       "      <td>6 days</td>\n",
       "    </tr>\n",
       "    <tr>\n",
       "      <th>4</th>\n",
       "      <td>Standard Class</td>\n",
       "      <td>2014-04-08</td>\n",
       "      <td>2014-04-15</td>\n",
       "      <td>7 days</td>\n",
       "    </tr>\n",
       "    <tr>\n",
       "      <th>...</th>\n",
       "      <td>...</td>\n",
       "      <td>...</td>\n",
       "      <td>...</td>\n",
       "      <td>...</td>\n",
       "    </tr>\n",
       "    <tr>\n",
       "      <th>5004</th>\n",
       "      <td>Standard Class</td>\n",
       "      <td>2017-11-03</td>\n",
       "      <td>2017-11-07</td>\n",
       "      <td>4 days</td>\n",
       "    </tr>\n",
       "    <tr>\n",
       "      <th>5005</th>\n",
       "      <td>Second Class</td>\n",
       "      <td>2017-07-23</td>\n",
       "      <td>2017-07-25</td>\n",
       "      <td>2 days</td>\n",
       "    </tr>\n",
       "    <tr>\n",
       "      <th>5006</th>\n",
       "      <td>First Class</td>\n",
       "      <td>2017-09-07</td>\n",
       "      <td>2017-09-09</td>\n",
       "      <td>2 days</td>\n",
       "    </tr>\n",
       "    <tr>\n",
       "      <th>5007</th>\n",
       "      <td>Standard Class</td>\n",
       "      <td>2017-08-28</td>\n",
       "      <td>2017-09-01</td>\n",
       "      <td>4 days</td>\n",
       "    </tr>\n",
       "    <tr>\n",
       "      <th>5008</th>\n",
       "      <td>First Class</td>\n",
       "      <td>2017-07-07</td>\n",
       "      <td>2017-07-09</td>\n",
       "      <td>2 days</td>\n",
       "    </tr>\n",
       "  </tbody>\n",
       "</table>\n",
       "<p>5009 rows × 4 columns</p>\n",
       "</div>"
      ],
      "text/plain": [
       "           Ship Mode Order Date  Ship Date Shipping Period\n",
       "0     Standard Class 2014-09-07 2014-09-13          6 days\n",
       "1     Standard Class 2014-07-08 2014-07-12          4 days\n",
       "2     Standard Class 2014-03-14 2014-03-18          4 days\n",
       "3     Standard Class 2014-01-28 2014-02-03          6 days\n",
       "4     Standard Class 2014-04-08 2014-04-15          7 days\n",
       "...              ...        ...        ...             ...\n",
       "5004  Standard Class 2017-11-03 2017-11-07          4 days\n",
       "5005    Second Class 2017-07-23 2017-07-25          2 days\n",
       "5006     First Class 2017-09-07 2017-09-09          2 days\n",
       "5007  Standard Class 2017-08-28 2017-09-01          4 days\n",
       "5008     First Class 2017-07-07 2017-07-09          2 days\n",
       "\n",
       "[5009 rows x 4 columns]"
      ]
     },
     "execution_count": 273,
     "metadata": {},
     "output_type": "execute_result"
    }
   ],
   "source": [
    "df"
   ]
  },
  {
   "cell_type": "code",
   "execution_count": 274,
   "id": "31a799d0",
   "metadata": {},
   "outputs": [],
   "source": [
    "df = df.groupby(['Ship Mode'])['Shipping Period'].agg(\n",
    "    MinShippingPeriod = \"min\", \n",
    "    MaxShippingPeriod = \"max\", \n",
    "    AvgShippingPeriod = \"mean\"\n",
    ").reset_index()"
   ]
  },
  {
   "cell_type": "code",
   "execution_count": 275,
   "id": "8256f44a",
   "metadata": {},
   "outputs": [],
   "source": [
    "df['MinShippingPeriod'] = df['MinShippingPeriod'].dt.days\n",
    "df['MaxShippingPeriod'] = df['MaxShippingPeriod'].dt.days\n",
    "df['AvgShippingPeriod'] = df['AvgShippingPeriod'].dt.days"
   ]
  },
  {
   "cell_type": "code",
   "execution_count": 276,
   "id": "0759af04",
   "metadata": {},
   "outputs": [],
   "source": [
    "df.rename(\n",
    "    columns = {\n",
    "        'MinShippingPeriod' : 'Min Shipping Period',\n",
    "        'MaxShippingPeriod' : 'Max Shipping Period'\n",
    "    }, \n",
    "    inplace = True\n",
    ")"
   ]
  },
  {
   "cell_type": "code",
   "execution_count": 277,
   "id": "47a615af",
   "metadata": {},
   "outputs": [],
   "source": [
    "# define a custom order\n",
    "custom_order = ['Same Day', 'First Class', 'Second Class', 'Standard Class']\n",
    "\n",
    "# convert Ship Mode into categorical type with your custom order\n",
    "df['Ship Mode'] = pd.Categorical(\n",
    "    df['Ship Mode'], \n",
    "    categories = custom_order, \n",
    "    ordered = True\n",
    ")\n",
    "\n",
    "# now sort based on the categorical order\n",
    "df = df.sort_values('Ship Mode').reset_index(drop=True)"
   ]
  },
  {
   "cell_type": "code",
   "execution_count": 279,
   "id": "fb70800b",
   "metadata": {},
   "outputs": [
    {
     "data": {
      "text/html": [
       "<div>\n",
       "<style scoped>\n",
       "    .dataframe tbody tr th:only-of-type {\n",
       "        vertical-align: middle;\n",
       "    }\n",
       "\n",
       "    .dataframe tbody tr th {\n",
       "        vertical-align: top;\n",
       "    }\n",
       "\n",
       "    .dataframe thead th {\n",
       "        text-align: right;\n",
       "    }\n",
       "</style>\n",
       "<table border=\"1\" class=\"dataframe\">\n",
       "  <thead>\n",
       "    <tr style=\"text-align: right;\">\n",
       "      <th></th>\n",
       "      <th>Ship Mode</th>\n",
       "      <th>Min Shipping Period</th>\n",
       "      <th>Max Shipping Period</th>\n",
       "      <th>AvgShippingPeriod</th>\n",
       "    </tr>\n",
       "  </thead>\n",
       "  <tbody>\n",
       "    <tr>\n",
       "      <th>0</th>\n",
       "      <td>Same Day</td>\n",
       "      <td>0</td>\n",
       "      <td>1</td>\n",
       "      <td>0</td>\n",
       "    </tr>\n",
       "    <tr>\n",
       "      <th>1</th>\n",
       "      <td>First Class</td>\n",
       "      <td>1</td>\n",
       "      <td>4</td>\n",
       "      <td>2</td>\n",
       "    </tr>\n",
       "    <tr>\n",
       "      <th>2</th>\n",
       "      <td>Second Class</td>\n",
       "      <td>1</td>\n",
       "      <td>5</td>\n",
       "      <td>3</td>\n",
       "    </tr>\n",
       "    <tr>\n",
       "      <th>3</th>\n",
       "      <td>Standard Class</td>\n",
       "      <td>3</td>\n",
       "      <td>7</td>\n",
       "      <td>5</td>\n",
       "    </tr>\n",
       "  </tbody>\n",
       "</table>\n",
       "</div>"
      ],
      "text/plain": [
       "        Ship Mode  Min Shipping Period  Max Shipping Period  AvgShippingPeriod\n",
       "0        Same Day                    0                    1                  0\n",
       "1     First Class                    1                    4                  2\n",
       "2    Second Class                    1                    5                  3\n",
       "3  Standard Class                    3                    7                  5"
      ]
     },
     "execution_count": 279,
     "metadata": {},
     "output_type": "execute_result"
    }
   ],
   "source": [
    "df"
   ]
  },
  {
   "cell_type": "code",
   "execution_count": null,
   "id": "238251cb",
   "metadata": {},
   "outputs": [],
   "source": []
  },
  {
   "cell_type": "markdown",
   "id": "c6612403",
   "metadata": {},
   "source": [
    "=====================================================\n",
    "====================================================="
   ]
  },
  {
   "cell_type": "markdown",
   "id": "14bde32a",
   "metadata": {
    "jp-MarkdownHeadingCollapsed": true
   },
   "source": [
    "# Product Insights"
   ]
  },
  {
   "cell_type": "markdown",
   "id": "5dab60e3",
   "metadata": {},
   "source": [
    "=====================================================\n",
    "====================================================="
   ]
  },
  {
   "cell_type": "markdown",
   "id": "8a7a8076-7f16-4930-bb8b-ee04c8b31200",
   "metadata": {},
   "source": [
    "##### Top 10 products by Total Sales\n",
    "=================================================================================================================="
   ]
  },
  {
   "cell_type": "code",
   "execution_count": 301,
   "id": "22585988",
   "metadata": {},
   "outputs": [],
   "source": [
    "df = TransactionTable"
   ]
  },
  {
   "cell_type": "code",
   "execution_count": 303,
   "id": "6a8bbdd3",
   "metadata": {},
   "outputs": [],
   "source": [
    "df = pd.merge(\n",
    "    TransactionTable, \n",
    "    ProductLookup, \n",
    "    on = 'Product ID', \n",
    "    how = 'left'\n",
    ")"
   ]
  },
  {
   "cell_type": "code",
   "execution_count": 311,
   "id": "7d5b4ffc",
   "metadata": {},
   "outputs": [],
   "source": [
    "df = df.groupby(['Product ID', 'Product Name'])['Sales'].sum().reset_index().sort_values(\n",
    "    by='Sales', \n",
    "    ascending=False\n",
    ").head(10)"
   ]
  },
  {
   "cell_type": "code",
   "execution_count": 314,
   "id": "4a03c0ae",
   "metadata": {},
   "outputs": [
    {
     "data": {
      "text/html": [
       "<div>\n",
       "<style scoped>\n",
       "    .dataframe tbody tr th:only-of-type {\n",
       "        vertical-align: middle;\n",
       "    }\n",
       "\n",
       "    .dataframe tbody tr th {\n",
       "        vertical-align: top;\n",
       "    }\n",
       "\n",
       "    .dataframe thead th {\n",
       "        text-align: right;\n",
       "    }\n",
       "</style>\n",
       "<table border=\"1\" class=\"dataframe\">\n",
       "  <thead>\n",
       "    <tr style=\"text-align: right;\">\n",
       "      <th></th>\n",
       "      <th>Product ID</th>\n",
       "      <th>Product Name</th>\n",
       "      <th>Sales</th>\n",
       "    </tr>\n",
       "  </thead>\n",
       "  <tbody>\n",
       "    <tr>\n",
       "      <th>1640</th>\n",
       "      <td>TEC-CO-10004722</td>\n",
       "      <td>Canon imageCLASS 2200 Advanced Copier</td>\n",
       "      <td>61599.83</td>\n",
       "    </tr>\n",
       "    <tr>\n",
       "      <th>787</th>\n",
       "      <td>OFF-BI-10003527</td>\n",
       "      <td>Fellowes PB500 Electric Punch Plastic Comb Bin...</td>\n",
       "      <td>27453.38</td>\n",
       "    </tr>\n",
       "    <tr>\n",
       "      <th>1669</th>\n",
       "      <td>TEC-MA-10002412</td>\n",
       "      <td>Cisco TelePresence System EX90 Videoconferenci...</td>\n",
       "      <td>22638.48</td>\n",
       "    </tr>\n",
       "    <tr>\n",
       "      <th>82</th>\n",
       "      <td>FUR-CH-10002024</td>\n",
       "      <td>HON 5400 Series Task Chairs for Big and Tall</td>\n",
       "      <td>21870.57</td>\n",
       "    </tr>\n",
       "    <tr>\n",
       "      <th>701</th>\n",
       "      <td>OFF-BI-10001359</td>\n",
       "      <td>GBC DocuBind TL300 Electric Binding System</td>\n",
       "      <td>19823.47</td>\n",
       "    </tr>\n",
       "    <tr>\n",
       "      <th>667</th>\n",
       "      <td>OFF-BI-10000545</td>\n",
       "      <td>GBC Ibimaster 500 Manual ProClick Binding System</td>\n",
       "      <td>19024.50</td>\n",
       "    </tr>\n",
       "    <tr>\n",
       "      <th>1630</th>\n",
       "      <td>TEC-CO-10001449</td>\n",
       "      <td>Hewlett Packard LaserJet 3310 Copier</td>\n",
       "      <td>18839.68</td>\n",
       "    </tr>\n",
       "    <tr>\n",
       "      <th>1657</th>\n",
       "      <td>TEC-MA-10001127</td>\n",
       "      <td>HP Designjet T520 Inkjet Large Format Printer ...</td>\n",
       "      <td>18374.89</td>\n",
       "    </tr>\n",
       "    <tr>\n",
       "      <th>858</th>\n",
       "      <td>OFF-BI-10004995</td>\n",
       "      <td>GBC DocuBind P400 Electric Binding System</td>\n",
       "      <td>17965.07</td>\n",
       "    </tr>\n",
       "    <tr>\n",
       "      <th>1443</th>\n",
       "      <td>OFF-SU-10000151</td>\n",
       "      <td>High Speed Automatic Electric Letter Opener</td>\n",
       "      <td>17030.31</td>\n",
       "    </tr>\n",
       "  </tbody>\n",
       "</table>\n",
       "</div>"
      ],
      "text/plain": [
       "           Product ID                                       Product Name  \\\n",
       "1640  TEC-CO-10004722              Canon imageCLASS 2200 Advanced Copier   \n",
       "787   OFF-BI-10003527  Fellowes PB500 Electric Punch Plastic Comb Bin...   \n",
       "1669  TEC-MA-10002412  Cisco TelePresence System EX90 Videoconferenci...   \n",
       "82    FUR-CH-10002024       HON 5400 Series Task Chairs for Big and Tall   \n",
       "701   OFF-BI-10001359         GBC DocuBind TL300 Electric Binding System   \n",
       "667   OFF-BI-10000545   GBC Ibimaster 500 Manual ProClick Binding System   \n",
       "1630  TEC-CO-10001449               Hewlett Packard LaserJet 3310 Copier   \n",
       "1657  TEC-MA-10001127  HP Designjet T520 Inkjet Large Format Printer ...   \n",
       "858   OFF-BI-10004995          GBC DocuBind P400 Electric Binding System   \n",
       "1443  OFF-SU-10000151        High Speed Automatic Electric Letter Opener   \n",
       "\n",
       "         Sales  \n",
       "1640  61599.83  \n",
       "787   27453.38  \n",
       "1669  22638.48  \n",
       "82    21870.57  \n",
       "701   19823.47  \n",
       "667   19024.50  \n",
       "1630  18839.68  \n",
       "1657  18374.89  \n",
       "858   17965.07  \n",
       "1443  17030.31  "
      ]
     },
     "execution_count": 314,
     "metadata": {},
     "output_type": "execute_result"
    }
   ],
   "source": [
    "df"
   ]
  },
  {
   "cell_type": "code",
   "execution_count": null,
   "id": "ca4f21a7",
   "metadata": {},
   "outputs": [],
   "source": []
  },
  {
   "cell_type": "markdown",
   "id": "5cc66604",
   "metadata": {},
   "source": [
    "=====================================================\n",
    "====================================================="
   ]
  },
  {
   "cell_type": "markdown",
   "id": "460a238d",
   "metadata": {},
   "source": [
    "# Customer Insight"
   ]
  },
  {
   "cell_type": "markdown",
   "id": "b9f84abf",
   "metadata": {},
   "source": [
    "=====================================================\n",
    "====================================================="
   ]
  },
  {
   "cell_type": "markdown",
   "id": "94ebb1dc-1345-414f-b9d3-099828e75834",
   "metadata": {},
   "source": [
    "##### Top customers by Total Sales\n",
    "=================================================================================================================="
   ]
  },
  {
   "cell_type": "code",
   "execution_count": 333,
   "id": "a9f3a04b",
   "metadata": {},
   "outputs": [
    {
     "data": {
      "text/html": [
       "<div>\n",
       "<style scoped>\n",
       "    .dataframe tbody tr th:only-of-type {\n",
       "        vertical-align: middle;\n",
       "    }\n",
       "\n",
       "    .dataframe tbody tr th {\n",
       "        vertical-align: top;\n",
       "    }\n",
       "\n",
       "    .dataframe thead th {\n",
       "        text-align: right;\n",
       "    }\n",
       "</style>\n",
       "<table border=\"1\" class=\"dataframe\">\n",
       "  <thead>\n",
       "    <tr style=\"text-align: right;\">\n",
       "      <th></th>\n",
       "      <th>Order ID</th>\n",
       "      <th>Customer ID</th>\n",
       "      <th>Location Id</th>\n",
       "      <th>Segment</th>\n",
       "      <th>Product ID</th>\n",
       "      <th>Sales</th>\n",
       "      <th>Quantity</th>\n",
       "      <th>Discount</th>\n",
       "      <th>Profit</th>\n",
       "      <th>Profit Or Loss</th>\n",
       "      <th>Customer Name</th>\n",
       "    </tr>\n",
       "  </thead>\n",
       "  <tbody>\n",
       "    <tr>\n",
       "      <th>0</th>\n",
       "      <td>CA-2016-152156</td>\n",
       "      <td>CG-12520</td>\n",
       "      <td>USA385</td>\n",
       "      <td>Consumer</td>\n",
       "      <td>FUR-BO-10001798</td>\n",
       "      <td>261.96</td>\n",
       "      <td>2</td>\n",
       "      <td>0.00</td>\n",
       "      <td>41.91</td>\n",
       "      <td>Profit</td>\n",
       "      <td>Claire Gute</td>\n",
       "    </tr>\n",
       "    <tr>\n",
       "      <th>1</th>\n",
       "      <td>CA-2016-152156</td>\n",
       "      <td>CG-12520</td>\n",
       "      <td>USA385</td>\n",
       "      <td>Consumer</td>\n",
       "      <td>FUR-CH-10000454</td>\n",
       "      <td>731.94</td>\n",
       "      <td>3</td>\n",
       "      <td>0.00</td>\n",
       "      <td>219.58</td>\n",
       "      <td>Profit</td>\n",
       "      <td>Claire Gute</td>\n",
       "    </tr>\n",
       "    <tr>\n",
       "      <th>2</th>\n",
       "      <td>CA-2016-138688</td>\n",
       "      <td>DV-13045</td>\n",
       "      <td>USA501</td>\n",
       "      <td>Corporate</td>\n",
       "      <td>OFF-LA-10000240</td>\n",
       "      <td>14.62</td>\n",
       "      <td>2</td>\n",
       "      <td>0.00</td>\n",
       "      <td>6.87</td>\n",
       "      <td>Profit</td>\n",
       "      <td>Darrin Van Huff</td>\n",
       "    </tr>\n",
       "    <tr>\n",
       "      <th>3</th>\n",
       "      <td>US-2015-108966</td>\n",
       "      <td>SO-20335</td>\n",
       "      <td>USA341</td>\n",
       "      <td>Consumer</td>\n",
       "      <td>FUR-TA-10000577</td>\n",
       "      <td>957.58</td>\n",
       "      <td>5</td>\n",
       "      <td>0.45</td>\n",
       "      <td>-383.03</td>\n",
       "      <td>Loss</td>\n",
       "      <td>Sean O'Donnell</td>\n",
       "    </tr>\n",
       "    <tr>\n",
       "      <th>4</th>\n",
       "      <td>US-2015-108966</td>\n",
       "      <td>SO-20335</td>\n",
       "      <td>USA341</td>\n",
       "      <td>Consumer</td>\n",
       "      <td>OFF-ST-10000760</td>\n",
       "      <td>22.37</td>\n",
       "      <td>2</td>\n",
       "      <td>0.20</td>\n",
       "      <td>2.52</td>\n",
       "      <td>Profit</td>\n",
       "      <td>Sean O'Donnell</td>\n",
       "    </tr>\n",
       "    <tr>\n",
       "      <th>...</th>\n",
       "      <td>...</td>\n",
       "      <td>...</td>\n",
       "      <td>...</td>\n",
       "      <td>...</td>\n",
       "      <td>...</td>\n",
       "      <td>...</td>\n",
       "      <td>...</td>\n",
       "      <td>...</td>\n",
       "      <td>...</td>\n",
       "      <td>...</td>\n",
       "      <td>...</td>\n",
       "    </tr>\n",
       "    <tr>\n",
       "      <th>9988</th>\n",
       "      <td>CA-2014-110422</td>\n",
       "      <td>TB-21400</td>\n",
       "      <td>USA353</td>\n",
       "      <td>Consumer</td>\n",
       "      <td>FUR-FU-10001889</td>\n",
       "      <td>25.25</td>\n",
       "      <td>3</td>\n",
       "      <td>0.20</td>\n",
       "      <td>4.10</td>\n",
       "      <td>Profit</td>\n",
       "      <td>Tom Boeckenhauer</td>\n",
       "    </tr>\n",
       "    <tr>\n",
       "      <th>9989</th>\n",
       "      <td>CA-2017-121258</td>\n",
       "      <td>DB-13060</td>\n",
       "      <td>USA477</td>\n",
       "      <td>Consumer</td>\n",
       "      <td>FUR-FU-10000747</td>\n",
       "      <td>91.96</td>\n",
       "      <td>2</td>\n",
       "      <td>0.00</td>\n",
       "      <td>15.63</td>\n",
       "      <td>Profit</td>\n",
       "      <td>Dave Brooks</td>\n",
       "    </tr>\n",
       "    <tr>\n",
       "      <th>9990</th>\n",
       "      <td>CA-2017-121258</td>\n",
       "      <td>DB-13060</td>\n",
       "      <td>USA477</td>\n",
       "      <td>Consumer</td>\n",
       "      <td>TEC-PH-10003645</td>\n",
       "      <td>258.58</td>\n",
       "      <td>2</td>\n",
       "      <td>0.20</td>\n",
       "      <td>19.39</td>\n",
       "      <td>Profit</td>\n",
       "      <td>Dave Brooks</td>\n",
       "    </tr>\n",
       "    <tr>\n",
       "      <th>9991</th>\n",
       "      <td>CA-2017-121258</td>\n",
       "      <td>DB-13060</td>\n",
       "      <td>USA477</td>\n",
       "      <td>Consumer</td>\n",
       "      <td>OFF-PA-10004041</td>\n",
       "      <td>29.60</td>\n",
       "      <td>4</td>\n",
       "      <td>0.00</td>\n",
       "      <td>13.32</td>\n",
       "      <td>Profit</td>\n",
       "      <td>Dave Brooks</td>\n",
       "    </tr>\n",
       "    <tr>\n",
       "      <th>9992</th>\n",
       "      <td>CA-2017-119914</td>\n",
       "      <td>CC-12220</td>\n",
       "      <td>USA551</td>\n",
       "      <td>Consumer</td>\n",
       "      <td>OFF-AP-10002684</td>\n",
       "      <td>243.16</td>\n",
       "      <td>2</td>\n",
       "      <td>0.00</td>\n",
       "      <td>72.95</td>\n",
       "      <td>Profit</td>\n",
       "      <td>Chris Cortes</td>\n",
       "    </tr>\n",
       "  </tbody>\n",
       "</table>\n",
       "<p>9993 rows × 11 columns</p>\n",
       "</div>"
      ],
      "text/plain": [
       "            Order ID Customer ID Location Id    Segment       Product ID  \\\n",
       "0     CA-2016-152156    CG-12520      USA385   Consumer  FUR-BO-10001798   \n",
       "1     CA-2016-152156    CG-12520      USA385   Consumer  FUR-CH-10000454   \n",
       "2     CA-2016-138688    DV-13045      USA501  Corporate  OFF-LA-10000240   \n",
       "3     US-2015-108966    SO-20335      USA341   Consumer  FUR-TA-10000577   \n",
       "4     US-2015-108966    SO-20335      USA341   Consumer  OFF-ST-10000760   \n",
       "...              ...         ...         ...        ...              ...   \n",
       "9988  CA-2014-110422    TB-21400      USA353   Consumer  FUR-FU-10001889   \n",
       "9989  CA-2017-121258    DB-13060      USA477   Consumer  FUR-FU-10000747   \n",
       "9990  CA-2017-121258    DB-13060      USA477   Consumer  TEC-PH-10003645   \n",
       "9991  CA-2017-121258    DB-13060      USA477   Consumer  OFF-PA-10004041   \n",
       "9992  CA-2017-119914    CC-12220      USA551   Consumer  OFF-AP-10002684   \n",
       "\n",
       "       Sales  Quantity  Discount  Profit Profit Or Loss     Customer Name  \n",
       "0     261.96         2      0.00   41.91         Profit       Claire Gute  \n",
       "1     731.94         3      0.00  219.58         Profit       Claire Gute  \n",
       "2      14.62         2      0.00    6.87         Profit   Darrin Van Huff  \n",
       "3     957.58         5      0.45 -383.03           Loss    Sean O'Donnell  \n",
       "4      22.37         2      0.20    2.52         Profit    Sean O'Donnell  \n",
       "...      ...       ...       ...     ...            ...               ...  \n",
       "9988   25.25         3      0.20    4.10         Profit  Tom Boeckenhauer  \n",
       "9989   91.96         2      0.00   15.63         Profit       Dave Brooks  \n",
       "9990  258.58         2      0.20   19.39         Profit       Dave Brooks  \n",
       "9991   29.60         4      0.00   13.32         Profit       Dave Brooks  \n",
       "9992  243.16         2      0.00   72.95         Profit      Chris Cortes  \n",
       "\n",
       "[9993 rows x 11 columns]"
      ]
     },
     "execution_count": 333,
     "metadata": {},
     "output_type": "execute_result"
    }
   ],
   "source": [
    "df = pd.merge(\n",
    "    TransactionTable, \n",
    "    CustomerLookup, \n",
    "    on = 'Customer ID', \n",
    "    how = 'left'\n",
    ")\n",
    "df"
   ]
  },
  {
   "cell_type": "code",
   "execution_count": 334,
   "id": "48ebea23",
   "metadata": {},
   "outputs": [],
   "source": [
    "df = df.groupby(['Customer ID', 'Customer Name'])['Sales'].sum().reset_index().sort_values(by='Sales', ascending=False).head(5)"
   ]
  },
  {
   "cell_type": "code",
   "execution_count": 335,
   "id": "0b43783e",
   "metadata": {},
   "outputs": [
    {
     "data": {
      "text/html": [
       "<style type=\"text/css\">\n",
       "</style>\n",
       "<table id=\"T_1a625\">\n",
       "  <thead>\n",
       "    <tr>\n",
       "      <th id=\"T_1a625_level0_col0\" class=\"col_heading level0 col0\" >Customer ID</th>\n",
       "      <th id=\"T_1a625_level0_col1\" class=\"col_heading level0 col1\" >Customer Name</th>\n",
       "      <th id=\"T_1a625_level0_col2\" class=\"col_heading level0 col2\" >Sales</th>\n",
       "    </tr>\n",
       "  </thead>\n",
       "  <tbody>\n",
       "    <tr>\n",
       "      <td id=\"T_1a625_row0_col0\" class=\"data row0 col0\" >SM-20320</td>\n",
       "      <td id=\"T_1a625_row0_col1\" class=\"data row0 col1\" >Sean Miller</td>\n",
       "      <td id=\"T_1a625_row0_col2\" class=\"data row0 col2\" >25043.070000</td>\n",
       "    </tr>\n",
       "    <tr>\n",
       "      <td id=\"T_1a625_row1_col0\" class=\"data row1 col0\" >TC-20980</td>\n",
       "      <td id=\"T_1a625_row1_col1\" class=\"data row1 col1\" >Tamara Chand</td>\n",
       "      <td id=\"T_1a625_row1_col2\" class=\"data row1 col2\" >19052.220000</td>\n",
       "    </tr>\n",
       "    <tr>\n",
       "      <td id=\"T_1a625_row2_col0\" class=\"data row2 col0\" >RB-19360</td>\n",
       "      <td id=\"T_1a625_row2_col1\" class=\"data row2 col1\" >Raymond Buch</td>\n",
       "      <td id=\"T_1a625_row2_col2\" class=\"data row2 col2\" >15117.350000</td>\n",
       "    </tr>\n",
       "    <tr>\n",
       "      <td id=\"T_1a625_row3_col0\" class=\"data row3 col0\" >TA-21385</td>\n",
       "      <td id=\"T_1a625_row3_col1\" class=\"data row3 col1\" >Tom Ashbrook</td>\n",
       "      <td id=\"T_1a625_row3_col2\" class=\"data row3 col2\" >14595.620000</td>\n",
       "    </tr>\n",
       "    <tr>\n",
       "      <td id=\"T_1a625_row4_col0\" class=\"data row4 col0\" >AB-10105</td>\n",
       "      <td id=\"T_1a625_row4_col1\" class=\"data row4 col1\" >Adrian Barton</td>\n",
       "      <td id=\"T_1a625_row4_col2\" class=\"data row4 col2\" >14473.560000</td>\n",
       "    </tr>\n",
       "  </tbody>\n",
       "</table>\n"
      ],
      "text/plain": [
       "<pandas.io.formats.style.Styler at 0x165c492bc10>"
      ]
     },
     "execution_count": 335,
     "metadata": {},
     "output_type": "execute_result"
    }
   ],
   "source": [
    "df.style.hide()"
   ]
  },
  {
   "cell_type": "code",
   "execution_count": null,
   "id": "9823c2de",
   "metadata": {},
   "outputs": [],
   "source": []
  },
  {
   "cell_type": "markdown",
   "id": "36e94b78",
   "metadata": {},
   "source": [
    "##### Top customer by Total Sales from each region\n",
    "=================================================================================================================="
   ]
  },
  {
   "cell_type": "code",
   "execution_count": 342,
   "id": "805c2871",
   "metadata": {},
   "outputs": [],
   "source": [
    "df = pd.merge(\n",
    "    TransactionTable, \n",
    "    LocationLookup, \n",
    "    on = 'Location Id', \n",
    "    how = 'left'\n",
    ")\n",
    "\n",
    "df = df.merge( \n",
    "    CustomerLookup, \n",
    "    on = 'Customer ID', \n",
    "    how = 'left'\n",
    ")"
   ]
  },
  {
   "cell_type": "code",
   "execution_count": 348,
   "id": "9511f155",
   "metadata": {},
   "outputs": [
    {
     "data": {
      "text/html": [
       "<div>\n",
       "<style scoped>\n",
       "    .dataframe tbody tr th:only-of-type {\n",
       "        vertical-align: middle;\n",
       "    }\n",
       "\n",
       "    .dataframe tbody tr th {\n",
       "        vertical-align: top;\n",
       "    }\n",
       "\n",
       "    .dataframe thead th {\n",
       "        text-align: right;\n",
       "    }\n",
       "</style>\n",
       "<table border=\"1\" class=\"dataframe\">\n",
       "  <thead>\n",
       "    <tr style=\"text-align: right;\">\n",
       "      <th></th>\n",
       "      <th>Region</th>\n",
       "      <th>Customer ID</th>\n",
       "      <th>Customer Name</th>\n",
       "      <th>Sales</th>\n",
       "    </tr>\n",
       "  </thead>\n",
       "  <tbody>\n",
       "    <tr>\n",
       "      <th>0</th>\n",
       "      <td>Central</td>\n",
       "      <td>TC-20980</td>\n",
       "      <td>Tamara Chand</td>\n",
       "      <td>18437.14</td>\n",
       "    </tr>\n",
       "    <tr>\n",
       "      <th>1</th>\n",
       "      <td>East</td>\n",
       "      <td>TA-21385</td>\n",
       "      <td>Tom Ashbrook</td>\n",
       "      <td>13723.50</td>\n",
       "    </tr>\n",
       "    <tr>\n",
       "      <th>2</th>\n",
       "      <td>South</td>\n",
       "      <td>SM-20320</td>\n",
       "      <td>Sean Miller</td>\n",
       "      <td>23669.21</td>\n",
       "    </tr>\n",
       "    <tr>\n",
       "      <th>3</th>\n",
       "      <td>West</td>\n",
       "      <td>RB-19360</td>\n",
       "      <td>Raymond Buch</td>\n",
       "      <td>14345.28</td>\n",
       "    </tr>\n",
       "  </tbody>\n",
       "</table>\n",
       "</div>"
      ],
      "text/plain": [
       "    Region Customer ID Customer Name     Sales\n",
       "0  Central    TC-20980  Tamara Chand  18437.14\n",
       "1     East    TA-21385  Tom Ashbrook  13723.50\n",
       "2    South    SM-20320   Sean Miller  23669.21\n",
       "3     West    RB-19360  Raymond Buch  14345.28"
      ]
     },
     "execution_count": 348,
     "metadata": {},
     "output_type": "execute_result"
    }
   ],
   "source": [
    "df = df.groupby(['Region', 'Customer ID', 'Customer Name'])['Sales'].sum().reset_index()\n",
    "\n",
    "df = df.sort_values(['Region', 'Sales'], ascending=[True, False])\n",
    "\n",
    "df = df.groupby(['Region']).first().reset_index()\n",
    "\n",
    "df"
   ]
  },
  {
   "cell_type": "code",
   "execution_count": null,
   "id": "4333432a",
   "metadata": {},
   "outputs": [],
   "source": []
  },
  {
   "cell_type": "markdown",
   "id": "df6a5688",
   "metadata": {},
   "source": [
    "##### Customers who buy the same products\n",
    "=================================================================================================================="
   ]
  },
  {
   "cell_type": "code",
   "execution_count": 437,
   "id": "ec0da519",
   "metadata": {},
   "outputs": [
    {
     "data": {
      "text/html": [
       "<div>\n",
       "<style scoped>\n",
       "    .dataframe tbody tr th:only-of-type {\n",
       "        vertical-align: middle;\n",
       "    }\n",
       "\n",
       "    .dataframe tbody tr th {\n",
       "        vertical-align: top;\n",
       "    }\n",
       "\n",
       "    .dataframe thead th {\n",
       "        text-align: right;\n",
       "    }\n",
       "</style>\n",
       "<table border=\"1\" class=\"dataframe\">\n",
       "  <thead>\n",
       "    <tr style=\"text-align: right;\">\n",
       "      <th></th>\n",
       "      <th>Product ID</th>\n",
       "      <th>Product Name</th>\n",
       "      <th>Category</th>\n",
       "      <th>Sub-Category</th>\n",
       "    </tr>\n",
       "  </thead>\n",
       "  <tbody>\n",
       "    <tr>\n",
       "      <th>0</th>\n",
       "      <td>FUR-BO-10000112</td>\n",
       "      <td>Bush Birmingham Collection Bookcase, Dark Cherry</td>\n",
       "      <td>Furniture</td>\n",
       "      <td>Bookcases</td>\n",
       "    </tr>\n",
       "    <tr>\n",
       "      <th>1</th>\n",
       "      <td>FUR-BO-10000330</td>\n",
       "      <td>Sauder Camden County Barrister Bookcase, Plank...</td>\n",
       "      <td>Furniture</td>\n",
       "      <td>Bookcases</td>\n",
       "    </tr>\n",
       "    <tr>\n",
       "      <th>2</th>\n",
       "      <td>FUR-BO-10000362</td>\n",
       "      <td>Sauder Inglewood Library Bookcases</td>\n",
       "      <td>Furniture</td>\n",
       "      <td>Bookcases</td>\n",
       "    </tr>\n",
       "    <tr>\n",
       "      <th>3</th>\n",
       "      <td>FUR-BO-10000468</td>\n",
       "      <td>O'Sullivan 2-Shelf Heavy-Duty Bookcases</td>\n",
       "      <td>Furniture</td>\n",
       "      <td>Bookcases</td>\n",
       "    </tr>\n",
       "    <tr>\n",
       "      <th>4</th>\n",
       "      <td>FUR-BO-10000711</td>\n",
       "      <td>Hon Metal Bookcases, Gray</td>\n",
       "      <td>Furniture</td>\n",
       "      <td>Bookcases</td>\n",
       "    </tr>\n",
       "    <tr>\n",
       "      <th>...</th>\n",
       "      <td>...</td>\n",
       "      <td>...</td>\n",
       "      <td>...</td>\n",
       "      <td>...</td>\n",
       "    </tr>\n",
       "    <tr>\n",
       "      <th>1889</th>\n",
       "      <td>TEC-PH-10004912</td>\n",
       "      <td>Cisco SPA112 2 Port Phone Adapter</td>\n",
       "      <td>Technology</td>\n",
       "      <td>Phones</td>\n",
       "    </tr>\n",
       "    <tr>\n",
       "      <th>1890</th>\n",
       "      <td>TEC-PH-10004922</td>\n",
       "      <td>RCA Visys Integrated PBX 8-Line Router</td>\n",
       "      <td>Technology</td>\n",
       "      <td>Phones</td>\n",
       "    </tr>\n",
       "    <tr>\n",
       "      <th>1891</th>\n",
       "      <td>TEC-PH-10004924</td>\n",
       "      <td>SKILCRAFT Telephone Shoulder Rest, 2\" x 6.5\" x...</td>\n",
       "      <td>Technology</td>\n",
       "      <td>Phones</td>\n",
       "    </tr>\n",
       "    <tr>\n",
       "      <th>1892</th>\n",
       "      <td>TEC-PH-10004959</td>\n",
       "      <td>Classic Ivory Antique Telephone ZL1810</td>\n",
       "      <td>Technology</td>\n",
       "      <td>Phones</td>\n",
       "    </tr>\n",
       "    <tr>\n",
       "      <th>1893</th>\n",
       "      <td>TEC-PH-10004977</td>\n",
       "      <td>GE 30524EE4</td>\n",
       "      <td>Technology</td>\n",
       "      <td>Phones</td>\n",
       "    </tr>\n",
       "  </tbody>\n",
       "</table>\n",
       "<p>1894 rows × 4 columns</p>\n",
       "</div>"
      ],
      "text/plain": [
       "           Product ID                                       Product Name  \\\n",
       "0     FUR-BO-10000112   Bush Birmingham Collection Bookcase, Dark Cherry   \n",
       "1     FUR-BO-10000330  Sauder Camden County Barrister Bookcase, Plank...   \n",
       "2     FUR-BO-10000362                 Sauder Inglewood Library Bookcases   \n",
       "3     FUR-BO-10000468            O'Sullivan 2-Shelf Heavy-Duty Bookcases   \n",
       "4     FUR-BO-10000711                          Hon Metal Bookcases, Gray   \n",
       "...               ...                                                ...   \n",
       "1889  TEC-PH-10004912                  Cisco SPA112 2 Port Phone Adapter   \n",
       "1890  TEC-PH-10004922             RCA Visys Integrated PBX 8-Line Router   \n",
       "1891  TEC-PH-10004924  SKILCRAFT Telephone Shoulder Rest, 2\" x 6.5\" x...   \n",
       "1892  TEC-PH-10004959             Classic Ivory Antique Telephone ZL1810   \n",
       "1893  TEC-PH-10004977                                        GE 30524EE4   \n",
       "\n",
       "        Category Sub-Category  \n",
       "0      Furniture    Bookcases  \n",
       "1      Furniture    Bookcases  \n",
       "2      Furniture    Bookcases  \n",
       "3      Furniture    Bookcases  \n",
       "4      Furniture    Bookcases  \n",
       "...          ...          ...  \n",
       "1889  Technology       Phones  \n",
       "1890  Technology       Phones  \n",
       "1891  Technology       Phones  \n",
       "1892  Technology       Phones  \n",
       "1893  Technology       Phones  \n",
       "\n",
       "[1894 rows x 4 columns]"
      ]
     },
     "execution_count": 437,
     "metadata": {},
     "output_type": "execute_result"
    }
   ],
   "source": [
    "ProductLookup"
   ]
  },
  {
   "cell_type": "code",
   "execution_count": 458,
   "id": "ae7abc2d",
   "metadata": {},
   "outputs": [],
   "source": [
    "df = pd.merge(\n",
    "    TransactionTable, \n",
    "    CustomerLookup, \n",
    "    on = 'Customer ID', \n",
    "    how = 'left'\n",
    ")\n",
    "\n",
    "df = pd.merge(\n",
    "    df, \n",
    "    ProductLookup, \n",
    "    on = 'Product ID', \n",
    "    how = 'left'\n",
    ")"
   ]
  },
  {
   "cell_type": "code",
   "execution_count": 459,
   "id": "3a430bbc",
   "metadata": {},
   "outputs": [
    {
     "data": {
      "text/html": [
       "<div>\n",
       "<style scoped>\n",
       "    .dataframe tbody tr th:only-of-type {\n",
       "        vertical-align: middle;\n",
       "    }\n",
       "\n",
       "    .dataframe tbody tr th {\n",
       "        vertical-align: top;\n",
       "    }\n",
       "\n",
       "    .dataframe thead th {\n",
       "        text-align: right;\n",
       "    }\n",
       "</style>\n",
       "<table border=\"1\" class=\"dataframe\">\n",
       "  <thead>\n",
       "    <tr style=\"text-align: right;\">\n",
       "      <th></th>\n",
       "      <th>Order ID</th>\n",
       "      <th>Customer ID</th>\n",
       "      <th>Location Id</th>\n",
       "      <th>Segment</th>\n",
       "      <th>Product ID</th>\n",
       "      <th>Sales</th>\n",
       "      <th>Quantity</th>\n",
       "      <th>Discount</th>\n",
       "      <th>Profit</th>\n",
       "      <th>Profit Or Loss</th>\n",
       "      <th>Customer Name</th>\n",
       "      <th>Product Name</th>\n",
       "      <th>Category</th>\n",
       "      <th>Sub-Category</th>\n",
       "    </tr>\n",
       "  </thead>\n",
       "  <tbody>\n",
       "    <tr>\n",
       "      <th>0</th>\n",
       "      <td>CA-2016-152156</td>\n",
       "      <td>CG-12520</td>\n",
       "      <td>USA385</td>\n",
       "      <td>Consumer</td>\n",
       "      <td>FUR-BO-10001798</td>\n",
       "      <td>261.96</td>\n",
       "      <td>2</td>\n",
       "      <td>0.00</td>\n",
       "      <td>41.91</td>\n",
       "      <td>Profit</td>\n",
       "      <td>Claire Gute</td>\n",
       "      <td>Bush Somerset Collection Bookcase</td>\n",
       "      <td>Furniture</td>\n",
       "      <td>Bookcases</td>\n",
       "    </tr>\n",
       "    <tr>\n",
       "      <th>1</th>\n",
       "      <td>CA-2016-152156</td>\n",
       "      <td>CG-12520</td>\n",
       "      <td>USA385</td>\n",
       "      <td>Consumer</td>\n",
       "      <td>FUR-CH-10000454</td>\n",
       "      <td>731.94</td>\n",
       "      <td>3</td>\n",
       "      <td>0.00</td>\n",
       "      <td>219.58</td>\n",
       "      <td>Profit</td>\n",
       "      <td>Claire Gute</td>\n",
       "      <td>Hon Deluxe Fabric Upholstered Stacking Chairs,...</td>\n",
       "      <td>Furniture</td>\n",
       "      <td>Chairs</td>\n",
       "    </tr>\n",
       "    <tr>\n",
       "      <th>2</th>\n",
       "      <td>CA-2016-138688</td>\n",
       "      <td>DV-13045</td>\n",
       "      <td>USA501</td>\n",
       "      <td>Corporate</td>\n",
       "      <td>OFF-LA-10000240</td>\n",
       "      <td>14.62</td>\n",
       "      <td>2</td>\n",
       "      <td>0.00</td>\n",
       "      <td>6.87</td>\n",
       "      <td>Profit</td>\n",
       "      <td>Darrin Van Huff</td>\n",
       "      <td>Self-Adhesive Address Labels for Typewriters b...</td>\n",
       "      <td>Office Supplies</td>\n",
       "      <td>Labels</td>\n",
       "    </tr>\n",
       "    <tr>\n",
       "      <th>3</th>\n",
       "      <td>US-2015-108966</td>\n",
       "      <td>SO-20335</td>\n",
       "      <td>USA341</td>\n",
       "      <td>Consumer</td>\n",
       "      <td>FUR-TA-10000577</td>\n",
       "      <td>957.58</td>\n",
       "      <td>5</td>\n",
       "      <td>0.45</td>\n",
       "      <td>-383.03</td>\n",
       "      <td>Loss</td>\n",
       "      <td>Sean O'Donnell</td>\n",
       "      <td>Bretford CR4500 Series Slim Rectangular Table</td>\n",
       "      <td>Furniture</td>\n",
       "      <td>Tables</td>\n",
       "    </tr>\n",
       "    <tr>\n",
       "      <th>4</th>\n",
       "      <td>US-2015-108966</td>\n",
       "      <td>SO-20335</td>\n",
       "      <td>USA341</td>\n",
       "      <td>Consumer</td>\n",
       "      <td>OFF-ST-10000760</td>\n",
       "      <td>22.37</td>\n",
       "      <td>2</td>\n",
       "      <td>0.20</td>\n",
       "      <td>2.52</td>\n",
       "      <td>Profit</td>\n",
       "      <td>Sean O'Donnell</td>\n",
       "      <td>Eldon Fold 'N Roll Cart System</td>\n",
       "      <td>Office Supplies</td>\n",
       "      <td>Storage</td>\n",
       "    </tr>\n",
       "    <tr>\n",
       "      <th>...</th>\n",
       "      <td>...</td>\n",
       "      <td>...</td>\n",
       "      <td>...</td>\n",
       "      <td>...</td>\n",
       "      <td>...</td>\n",
       "      <td>...</td>\n",
       "      <td>...</td>\n",
       "      <td>...</td>\n",
       "      <td>...</td>\n",
       "      <td>...</td>\n",
       "      <td>...</td>\n",
       "      <td>...</td>\n",
       "      <td>...</td>\n",
       "      <td>...</td>\n",
       "    </tr>\n",
       "    <tr>\n",
       "      <th>10325</th>\n",
       "      <td>CA-2014-110422</td>\n",
       "      <td>TB-21400</td>\n",
       "      <td>USA353</td>\n",
       "      <td>Consumer</td>\n",
       "      <td>FUR-FU-10001889</td>\n",
       "      <td>25.25</td>\n",
       "      <td>3</td>\n",
       "      <td>0.20</td>\n",
       "      <td>4.10</td>\n",
       "      <td>Profit</td>\n",
       "      <td>Tom Boeckenhauer</td>\n",
       "      <td>Ultra Door Pull Handle</td>\n",
       "      <td>Furniture</td>\n",
       "      <td>Furnishings</td>\n",
       "    </tr>\n",
       "    <tr>\n",
       "      <th>10326</th>\n",
       "      <td>CA-2017-121258</td>\n",
       "      <td>DB-13060</td>\n",
       "      <td>USA477</td>\n",
       "      <td>Consumer</td>\n",
       "      <td>FUR-FU-10000747</td>\n",
       "      <td>91.96</td>\n",
       "      <td>2</td>\n",
       "      <td>0.00</td>\n",
       "      <td>15.63</td>\n",
       "      <td>Profit</td>\n",
       "      <td>Dave Brooks</td>\n",
       "      <td>Tenex B1-RE Series Chair Mats for Low Pile Car...</td>\n",
       "      <td>Furniture</td>\n",
       "      <td>Furnishings</td>\n",
       "    </tr>\n",
       "    <tr>\n",
       "      <th>10327</th>\n",
       "      <td>CA-2017-121258</td>\n",
       "      <td>DB-13060</td>\n",
       "      <td>USA477</td>\n",
       "      <td>Consumer</td>\n",
       "      <td>TEC-PH-10003645</td>\n",
       "      <td>258.58</td>\n",
       "      <td>2</td>\n",
       "      <td>0.20</td>\n",
       "      <td>19.39</td>\n",
       "      <td>Profit</td>\n",
       "      <td>Dave Brooks</td>\n",
       "      <td>Aastra 57i VoIP phone</td>\n",
       "      <td>Technology</td>\n",
       "      <td>Phones</td>\n",
       "    </tr>\n",
       "    <tr>\n",
       "      <th>10328</th>\n",
       "      <td>CA-2017-121258</td>\n",
       "      <td>DB-13060</td>\n",
       "      <td>USA477</td>\n",
       "      <td>Consumer</td>\n",
       "      <td>OFF-PA-10004041</td>\n",
       "      <td>29.60</td>\n",
       "      <td>4</td>\n",
       "      <td>0.00</td>\n",
       "      <td>13.32</td>\n",
       "      <td>Profit</td>\n",
       "      <td>Dave Brooks</td>\n",
       "      <td>It's Hot Message Books with Stickers, 2 3/4\" x 5\"</td>\n",
       "      <td>Office Supplies</td>\n",
       "      <td>Paper</td>\n",
       "    </tr>\n",
       "    <tr>\n",
       "      <th>10329</th>\n",
       "      <td>CA-2017-119914</td>\n",
       "      <td>CC-12220</td>\n",
       "      <td>USA551</td>\n",
       "      <td>Consumer</td>\n",
       "      <td>OFF-AP-10002684</td>\n",
       "      <td>243.16</td>\n",
       "      <td>2</td>\n",
       "      <td>0.00</td>\n",
       "      <td>72.95</td>\n",
       "      <td>Profit</td>\n",
       "      <td>Chris Cortes</td>\n",
       "      <td>Acco 7-Outlet Masterpiece Power Center, Wihtou...</td>\n",
       "      <td>Office Supplies</td>\n",
       "      <td>Appliances</td>\n",
       "    </tr>\n",
       "  </tbody>\n",
       "</table>\n",
       "<p>10330 rows × 14 columns</p>\n",
       "</div>"
      ],
      "text/plain": [
       "             Order ID Customer ID Location Id    Segment       Product ID  \\\n",
       "0      CA-2016-152156    CG-12520      USA385   Consumer  FUR-BO-10001798   \n",
       "1      CA-2016-152156    CG-12520      USA385   Consumer  FUR-CH-10000454   \n",
       "2      CA-2016-138688    DV-13045      USA501  Corporate  OFF-LA-10000240   \n",
       "3      US-2015-108966    SO-20335      USA341   Consumer  FUR-TA-10000577   \n",
       "4      US-2015-108966    SO-20335      USA341   Consumer  OFF-ST-10000760   \n",
       "...               ...         ...         ...        ...              ...   \n",
       "10325  CA-2014-110422    TB-21400      USA353   Consumer  FUR-FU-10001889   \n",
       "10326  CA-2017-121258    DB-13060      USA477   Consumer  FUR-FU-10000747   \n",
       "10327  CA-2017-121258    DB-13060      USA477   Consumer  TEC-PH-10003645   \n",
       "10328  CA-2017-121258    DB-13060      USA477   Consumer  OFF-PA-10004041   \n",
       "10329  CA-2017-119914    CC-12220      USA551   Consumer  OFF-AP-10002684   \n",
       "\n",
       "        Sales  Quantity  Discount  Profit Profit Or Loss     Customer Name  \\\n",
       "0      261.96         2      0.00   41.91         Profit       Claire Gute   \n",
       "1      731.94         3      0.00  219.58         Profit       Claire Gute   \n",
       "2       14.62         2      0.00    6.87         Profit   Darrin Van Huff   \n",
       "3      957.58         5      0.45 -383.03           Loss    Sean O'Donnell   \n",
       "4       22.37         2      0.20    2.52         Profit    Sean O'Donnell   \n",
       "...       ...       ...       ...     ...            ...               ...   \n",
       "10325   25.25         3      0.20    4.10         Profit  Tom Boeckenhauer   \n",
       "10326   91.96         2      0.00   15.63         Profit       Dave Brooks   \n",
       "10327  258.58         2      0.20   19.39         Profit       Dave Brooks   \n",
       "10328   29.60         4      0.00   13.32         Profit       Dave Brooks   \n",
       "10329  243.16         2      0.00   72.95         Profit      Chris Cortes   \n",
       "\n",
       "                                            Product Name         Category  \\\n",
       "0                      Bush Somerset Collection Bookcase        Furniture   \n",
       "1      Hon Deluxe Fabric Upholstered Stacking Chairs,...        Furniture   \n",
       "2      Self-Adhesive Address Labels for Typewriters b...  Office Supplies   \n",
       "3          Bretford CR4500 Series Slim Rectangular Table        Furniture   \n",
       "4                         Eldon Fold 'N Roll Cart System  Office Supplies   \n",
       "...                                                  ...              ...   \n",
       "10325                             Ultra Door Pull Handle        Furniture   \n",
       "10326  Tenex B1-RE Series Chair Mats for Low Pile Car...        Furniture   \n",
       "10327                              Aastra 57i VoIP phone       Technology   \n",
       "10328  It's Hot Message Books with Stickers, 2 3/4\" x 5\"  Office Supplies   \n",
       "10329  Acco 7-Outlet Masterpiece Power Center, Wihtou...  Office Supplies   \n",
       "\n",
       "      Sub-Category  \n",
       "0        Bookcases  \n",
       "1           Chairs  \n",
       "2           Labels  \n",
       "3           Tables  \n",
       "4          Storage  \n",
       "...            ...  \n",
       "10325  Furnishings  \n",
       "10326  Furnishings  \n",
       "10327       Phones  \n",
       "10328        Paper  \n",
       "10329   Appliances  \n",
       "\n",
       "[10330 rows x 14 columns]"
      ]
     },
     "execution_count": 459,
     "metadata": {},
     "output_type": "execute_result"
    }
   ],
   "source": [
    "df"
   ]
  },
  {
   "cell_type": "code",
   "execution_count": 460,
   "id": "dbaf4623",
   "metadata": {},
   "outputs": [],
   "source": [
    "df = df.groupby(['Customer ID', 'Customer Name', 'Category'])['Order ID'].count().reset_index()"
   ]
  },
  {
   "cell_type": "code",
   "execution_count": 461,
   "id": "e3dd3c29",
   "metadata": {},
   "outputs": [
    {
     "data": {
      "text/html": [
       "<div>\n",
       "<style scoped>\n",
       "    .dataframe tbody tr th:only-of-type {\n",
       "        vertical-align: middle;\n",
       "    }\n",
       "\n",
       "    .dataframe tbody tr th {\n",
       "        vertical-align: top;\n",
       "    }\n",
       "\n",
       "    .dataframe thead th {\n",
       "        text-align: right;\n",
       "    }\n",
       "</style>\n",
       "<table border=\"1\" class=\"dataframe\">\n",
       "  <thead>\n",
       "    <tr style=\"text-align: right;\">\n",
       "      <th></th>\n",
       "      <th>Customer ID</th>\n",
       "      <th>Customer Name</th>\n",
       "      <th>Category</th>\n",
       "      <th>Order ID</th>\n",
       "    </tr>\n",
       "  </thead>\n",
       "  <tbody>\n",
       "    <tr>\n",
       "      <th>711</th>\n",
       "      <td>EH-13765</td>\n",
       "      <td>Edward Hooks</td>\n",
       "      <td>Office Supplies</td>\n",
       "      <td>26</td>\n",
       "    </tr>\n",
       "    <tr>\n",
       "      <th>962</th>\n",
       "      <td>JD-15895</td>\n",
       "      <td>Jonathan Doherty</td>\n",
       "      <td>Office Supplies</td>\n",
       "      <td>23</td>\n",
       "    </tr>\n",
       "    <tr>\n",
       "      <th>2165</th>\n",
       "      <td>WB-21850</td>\n",
       "      <td>William Brown</td>\n",
       "      <td>Office Supplies</td>\n",
       "      <td>23</td>\n",
       "    </tr>\n",
       "    <tr>\n",
       "      <th>2168</th>\n",
       "      <td>XP-21865</td>\n",
       "      <td>Xylona Preis</td>\n",
       "      <td>Office Supplies</td>\n",
       "      <td>22</td>\n",
       "    </tr>\n",
       "    <tr>\n",
       "      <th>401</th>\n",
       "      <td>CK-12205</td>\n",
       "      <td>Chloris Kastensmidt</td>\n",
       "      <td>Office Supplies</td>\n",
       "      <td>22</td>\n",
       "    </tr>\n",
       "    <tr>\n",
       "      <th>...</th>\n",
       "      <td>...</td>\n",
       "      <td>...</td>\n",
       "      <td>...</td>\n",
       "      <td>...</td>\n",
       "    </tr>\n",
       "    <tr>\n",
       "      <th>658</th>\n",
       "      <td>DV-13045</td>\n",
       "      <td>Darrin Van Huff</td>\n",
       "      <td>Technology</td>\n",
       "      <td>1</td>\n",
       "    </tr>\n",
       "    <tr>\n",
       "      <th>663</th>\n",
       "      <td>DW-13195</td>\n",
       "      <td>David Wiener</td>\n",
       "      <td>Technology</td>\n",
       "      <td>1</td>\n",
       "    </tr>\n",
       "    <tr>\n",
       "      <th>667</th>\n",
       "      <td>DW-13540</td>\n",
       "      <td>Don Weiss</td>\n",
       "      <td>Furniture</td>\n",
       "      <td>1</td>\n",
       "    </tr>\n",
       "    <tr>\n",
       "      <th>1679</th>\n",
       "      <td>PT-19090</td>\n",
       "      <td>Pete Takahito</td>\n",
       "      <td>Furniture</td>\n",
       "      <td>1</td>\n",
       "    </tr>\n",
       "    <tr>\n",
       "      <th>0</th>\n",
       "      <td>AA-10315</td>\n",
       "      <td>Alex Avila</td>\n",
       "      <td>Furniture</td>\n",
       "      <td>1</td>\n",
       "    </tr>\n",
       "  </tbody>\n",
       "</table>\n",
       "<p>2182 rows × 4 columns</p>\n",
       "</div>"
      ],
      "text/plain": [
       "     Customer ID        Customer Name         Category  Order ID\n",
       "711     EH-13765         Edward Hooks  Office Supplies        26\n",
       "962     JD-15895     Jonathan Doherty  Office Supplies        23\n",
       "2165    WB-21850        William Brown  Office Supplies        23\n",
       "2168    XP-21865         Xylona Preis  Office Supplies        22\n",
       "401     CK-12205  Chloris Kastensmidt  Office Supplies        22\n",
       "...          ...                  ...              ...       ...\n",
       "658     DV-13045      Darrin Van Huff       Technology         1\n",
       "663     DW-13195         David Wiener       Technology         1\n",
       "667     DW-13540            Don Weiss        Furniture         1\n",
       "1679    PT-19090        Pete Takahito        Furniture         1\n",
       "0       AA-10315           Alex Avila        Furniture         1\n",
       "\n",
       "[2182 rows x 4 columns]"
      ]
     },
     "execution_count": 461,
     "metadata": {},
     "output_type": "execute_result"
    }
   ],
   "source": [
    "df.sort_values(by='Order ID', ascending=False)"
   ]
  },
  {
   "cell_type": "code",
   "execution_count": null,
   "id": "d7903cb8",
   "metadata": {},
   "outputs": [],
   "source": []
  },
  {
   "cell_type": "markdown",
   "id": "c7b95165",
   "metadata": {},
   "source": [
    "##### Contribution from each region\n",
    "=================================================================================================================="
   ]
  },
  {
   "cell_type": "code",
   "execution_count": 432,
   "id": "c27f5cd4",
   "metadata": {},
   "outputs": [],
   "source": [
    "df = pd.merge(\n",
    "    TransactionTable, \n",
    "    LocationLookup, \n",
    "    on = 'Location Id', \n",
    "    how = 'left'\n",
    ")"
   ]
  },
  {
   "cell_type": "code",
   "execution_count": 433,
   "id": "2bcff164",
   "metadata": {},
   "outputs": [],
   "source": [
    "df = df.groupby(['Region'])['Order ID'].nunique().reset_index()"
   ]
  },
  {
   "cell_type": "code",
   "execution_count": 435,
   "id": "4970e941",
   "metadata": {},
   "outputs": [],
   "source": [
    "total_orders = df['Order ID'].sum()\n",
    "\n",
    "df['Contribution %'] = (df['Order ID']/total_orders)*100\n",
    "\n",
    "df['Contribution %'] = df['Contribution %'].round(2)"
   ]
  },
  {
   "cell_type": "code",
   "execution_count": 436,
   "id": "4a50b0c1",
   "metadata": {},
   "outputs": [
    {
     "data": {
      "text/html": [
       "<div>\n",
       "<style scoped>\n",
       "    .dataframe tbody tr th:only-of-type {\n",
       "        vertical-align: middle;\n",
       "    }\n",
       "\n",
       "    .dataframe tbody tr th {\n",
       "        vertical-align: top;\n",
       "    }\n",
       "\n",
       "    .dataframe thead th {\n",
       "        text-align: right;\n",
       "    }\n",
       "</style>\n",
       "<table border=\"1\" class=\"dataframe\">\n",
       "  <thead>\n",
       "    <tr style=\"text-align: right;\">\n",
       "      <th></th>\n",
       "      <th>Region</th>\n",
       "      <th>Order ID</th>\n",
       "      <th>Contribution %</th>\n",
       "    </tr>\n",
       "  </thead>\n",
       "  <tbody>\n",
       "    <tr>\n",
       "      <th>0</th>\n",
       "      <td>Central</td>\n",
       "      <td>1175</td>\n",
       "      <td>23.46</td>\n",
       "    </tr>\n",
       "    <tr>\n",
       "      <th>1</th>\n",
       "      <td>East</td>\n",
       "      <td>1401</td>\n",
       "      <td>27.97</td>\n",
       "    </tr>\n",
       "    <tr>\n",
       "      <th>2</th>\n",
       "      <td>South</td>\n",
       "      <td>822</td>\n",
       "      <td>16.41</td>\n",
       "    </tr>\n",
       "    <tr>\n",
       "      <th>3</th>\n",
       "      <td>West</td>\n",
       "      <td>1611</td>\n",
       "      <td>32.16</td>\n",
       "    </tr>\n",
       "  </tbody>\n",
       "</table>\n",
       "</div>"
      ],
      "text/plain": [
       "    Region  Order ID  Contribution %\n",
       "0  Central      1175           23.46\n",
       "1     East      1401           27.97\n",
       "2    South       822           16.41\n",
       "3     West      1611           32.16"
      ]
     },
     "execution_count": 436,
     "metadata": {},
     "output_type": "execute_result"
    }
   ],
   "source": [
    "df"
   ]
  },
  {
   "cell_type": "code",
   "execution_count": null,
   "id": "bd0e32c2",
   "metadata": {},
   "outputs": [],
   "source": []
  }
 ],
 "metadata": {
  "kernelspec": {
   "display_name": "Python 3 (ipykernel)",
   "language": "python",
   "name": "python3"
  },
  "language_info": {
   "codemirror_mode": {
    "name": "ipython",
    "version": 3
   },
   "file_extension": ".py",
   "mimetype": "text/x-python",
   "name": "python",
   "nbconvert_exporter": "python",
   "pygments_lexer": "ipython3",
   "version": "3.13.5"
  }
 },
 "nbformat": 4,
 "nbformat_minor": 5
}
